{
 "cells": [
  {
   "cell_type": "code",
   "execution_count": 2,
   "metadata": {},
   "outputs": [],
   "source": [
    "import pandas as pd\n",
    "import dask.dataframe as dd"
   ]
  },
  {
   "cell_type": "markdown",
   "metadata": {},
   "source": [
    "## Clean datasets"
   ]
  },
  {
   "cell_type": "markdown",
   "metadata": {},
   "source": [
    "### Connections"
   ]
  },
  {
   "cell_type": "code",
   "execution_count": 107,
   "metadata": {
    "scrolled": true
   },
   "outputs": [],
   "source": [
    "connections = pd.read_csv(\"dataset/connections.csv\")"
   ]
  },
  {
   "cell_type": "code",
   "execution_count": 108,
   "metadata": {
    "scrolled": false
   },
   "outputs": [
    {
     "data": {
      "text/html": [
       "<div>\n",
       "<style scoped>\n",
       "    .dataframe tbody tr th:only-of-type {\n",
       "        vertical-align: middle;\n",
       "    }\n",
       "\n",
       "    .dataframe tbody tr th {\n",
       "        vertical-align: top;\n",
       "    }\n",
       "\n",
       "    .dataframe thead th {\n",
       "        text-align: right;\n",
       "    }\n",
       "</style>\n",
       "<table border=\"1\" class=\"dataframe\">\n",
       "  <thead>\n",
       "    <tr style=\"text-align: right;\">\n",
       "      <th></th>\n",
       "      <th>_id</th>\n",
       "      <th>to</th>\n",
       "      <th>from</th>\n",
       "      <th>type</th>\n",
       "      <th>when</th>\n",
       "    </tr>\n",
       "  </thead>\n",
       "  <tbody>\n",
       "    <tr>\n",
       "      <th>0</th>\n",
       "      <td>22224BFt2JYjZMdTM</td>\n",
       "      <td>mNxJxtSxDdBbTk5Ys</td>\n",
       "      <td>qpAL5TTco2ngd5MEP</td>\n",
       "      <td>kill</td>\n",
       "      <td>2017-11-13T08:46:09.526Z</td>\n",
       "    </tr>\n",
       "    <tr>\n",
       "      <th>1</th>\n",
       "      <td>222289Z3tXekEjfj6</td>\n",
       "      <td>o6qjf5jRE8pojbtj7</td>\n",
       "      <td>9BWsYf2ZwkvCEhAHj</td>\n",
       "      <td>marry</td>\n",
       "      <td>2018-03-10T01:53:25.569Z</td>\n",
       "    </tr>\n",
       "    <tr>\n",
       "      <th>2</th>\n",
       "      <td>2222GCemwczTXJYnR</td>\n",
       "      <td>ZZcno9u7Ar6HwCwaF</td>\n",
       "      <td>wRLJrt4835QrSfH6A</td>\n",
       "      <td>kill</td>\n",
       "      <td>2017-02-12T23:30:40.327Z</td>\n",
       "    </tr>\n",
       "    <tr>\n",
       "      <th>3</th>\n",
       "      <td>2222JhMY3vzRCFNoq</td>\n",
       "      <td>zuCFfviDzDmay65cS</td>\n",
       "      <td>tHqJvGu4gr8KyzoTL</td>\n",
       "      <td>fuck</td>\n",
       "      <td>2017-11-22T10:26:26.791Z</td>\n",
       "    </tr>\n",
       "    <tr>\n",
       "      <th>4</th>\n",
       "      <td>2222QjSPkuHwtGr8T</td>\n",
       "      <td>wP5x9ezFuSDGFHg4z</td>\n",
       "      <td>BW4enJFd56AnAMbeW</td>\n",
       "      <td>kill</td>\n",
       "      <td>2017-11-20T18:09:04.745Z</td>\n",
       "    </tr>\n",
       "  </tbody>\n",
       "</table>\n",
       "</div>"
      ],
      "text/plain": [
       "                 _id                 to               from   type  \\\n",
       "0  22224BFt2JYjZMdTM  mNxJxtSxDdBbTk5Ys  qpAL5TTco2ngd5MEP   kill   \n",
       "1  222289Z3tXekEjfj6  o6qjf5jRE8pojbtj7  9BWsYf2ZwkvCEhAHj  marry   \n",
       "2  2222GCemwczTXJYnR  ZZcno9u7Ar6HwCwaF  wRLJrt4835QrSfH6A   kill   \n",
       "3  2222JhMY3vzRCFNoq  zuCFfviDzDmay65cS  tHqJvGu4gr8KyzoTL   fuck   \n",
       "4  2222QjSPkuHwtGr8T  wP5x9ezFuSDGFHg4z  BW4enJFd56AnAMbeW   kill   \n",
       "\n",
       "                       when  \n",
       "0  2017-11-13T08:46:09.526Z  \n",
       "1  2018-03-10T01:53:25.569Z  \n",
       "2  2017-02-12T23:30:40.327Z  \n",
       "3  2017-11-22T10:26:26.791Z  \n",
       "4  2017-11-20T18:09:04.745Z  "
      ]
     },
     "execution_count": 108,
     "metadata": {},
     "output_type": "execute_result"
    }
   ],
   "source": [
    "connections.head()"
   ]
  },
  {
   "cell_type": "code",
   "execution_count": 93,
   "metadata": {},
   "outputs": [],
   "source": [
    "connections = connections.drop('_id', axis = 1)"
   ]
  },
  {
   "cell_type": "code",
   "execution_count": null,
   "metadata": {},
   "outputs": [],
   "source": [
    "connections = connections.dropna()"
   ]
  },
  {
   "cell_type": "code",
   "execution_count": null,
   "metadata": {},
   "outputs": [],
   "source": [
    "connections = connections.drop_duplicates()"
   ]
  },
  {
   "cell_type": "code",
   "execution_count": 94,
   "metadata": {
    "scrolled": false
   },
   "outputs": [
    {
     "data": {
      "text/plain": [
       "(32784726, 4)"
      ]
     },
     "execution_count": 94,
     "metadata": {},
     "output_type": "execute_result"
    }
   ],
   "source": [
    "connections.shape"
   ]
  },
  {
   "cell_type": "code",
   "execution_count": 95,
   "metadata": {
    "scrolled": true
   },
   "outputs": [
    {
     "data": {
      "text/plain": [
       "to      object\n",
       "from    object\n",
       "type    object\n",
       "when    object\n",
       "dtype: object"
      ]
     },
     "execution_count": 95,
     "metadata": {},
     "output_type": "execute_result"
    }
   ],
   "source": [
    "connections.dtypes"
   ]
  },
  {
   "cell_type": "code",
   "execution_count": 96,
   "metadata": {},
   "outputs": [],
   "source": [
    "connections['when'] = connections.when.astype('datetime64[s]')"
   ]
  },
  {
   "cell_type": "code",
   "execution_count": 97,
   "metadata": {},
   "outputs": [],
   "source": [
    "connections['type'] = connections.type.astype('category')"
   ]
  },
  {
   "cell_type": "code",
   "execution_count": 99,
   "metadata": {
    "scrolled": true
   },
   "outputs": [
    {
     "data": {
      "text/html": [
       "<div>\n",
       "<style scoped>\n",
       "    .dataframe tbody tr th:only-of-type {\n",
       "        vertical-align: middle;\n",
       "    }\n",
       "\n",
       "    .dataframe tbody tr th {\n",
       "        vertical-align: top;\n",
       "    }\n",
       "\n",
       "    .dataframe thead th {\n",
       "        text-align: right;\n",
       "    }\n",
       "</style>\n",
       "<table border=\"1\" class=\"dataframe\">\n",
       "  <thead>\n",
       "    <tr style=\"text-align: right;\">\n",
       "      <th></th>\n",
       "      <th>to</th>\n",
       "      <th>from</th>\n",
       "      <th>type</th>\n",
       "      <th>when</th>\n",
       "    </tr>\n",
       "  </thead>\n",
       "  <tbody>\n",
       "    <tr>\n",
       "      <th>0</th>\n",
       "      <td>mNxJxtSxDdBbTk5Ys</td>\n",
       "      <td>qpAL5TTco2ngd5MEP</td>\n",
       "      <td>kill</td>\n",
       "      <td>2017-11-13 08:46:09</td>\n",
       "    </tr>\n",
       "    <tr>\n",
       "      <th>2</th>\n",
       "      <td>ZZcno9u7Ar6HwCwaF</td>\n",
       "      <td>wRLJrt4835QrSfH6A</td>\n",
       "      <td>kill</td>\n",
       "      <td>2017-02-12 23:30:40</td>\n",
       "    </tr>\n",
       "    <tr>\n",
       "      <th>4</th>\n",
       "      <td>wP5x9ezFuSDGFHg4z</td>\n",
       "      <td>BW4enJFd56AnAMbeW</td>\n",
       "      <td>kill</td>\n",
       "      <td>2017-11-20 18:09:04</td>\n",
       "    </tr>\n",
       "    <tr>\n",
       "      <th>6</th>\n",
       "      <td>orLJCDxxYhMmK8fHW</td>\n",
       "      <td>LxG3RLDWkReT5KY8H</td>\n",
       "      <td>kill</td>\n",
       "      <td>2018-04-06 21:05:45</td>\n",
       "    </tr>\n",
       "    <tr>\n",
       "      <th>8</th>\n",
       "      <td>k9WTTbDjR9BuPhESo</td>\n",
       "      <td>p5EE55fFeTvAyetve</td>\n",
       "      <td>kill</td>\n",
       "      <td>2018-03-28 12:53:30</td>\n",
       "    </tr>\n",
       "  </tbody>\n",
       "</table>\n",
       "</div>"
      ],
      "text/plain": [
       "                  to               from  type                when\n",
       "0  mNxJxtSxDdBbTk5Ys  qpAL5TTco2ngd5MEP  kill 2017-11-13 08:46:09\n",
       "2  ZZcno9u7Ar6HwCwaF  wRLJrt4835QrSfH6A  kill 2017-02-12 23:30:40\n",
       "4  wP5x9ezFuSDGFHg4z  BW4enJFd56AnAMbeW  kill 2017-11-20 18:09:04\n",
       "6  orLJCDxxYhMmK8fHW  LxG3RLDWkReT5KY8H  kill 2018-04-06 21:05:45\n",
       "8  k9WTTbDjR9BuPhESo  p5EE55fFeTvAyetve  kill 2018-03-28 12:53:30"
      ]
     },
     "execution_count": 99,
     "metadata": {},
     "output_type": "execute_result"
    }
   ],
   "source": [
    "con_k = connections[connections.type == 'kill']\n",
    "con_k.head()"
   ]
  },
  {
   "cell_type": "code",
   "execution_count": 101,
   "metadata": {},
   "outputs": [
    {
     "data": {
      "text/plain": [
       "(10933676, 4)"
      ]
     },
     "execution_count": 101,
     "metadata": {},
     "output_type": "execute_result"
    }
   ],
   "source": [
    "con_k.shape"
   ]
  },
  {
   "cell_type": "code",
   "execution_count": 100,
   "metadata": {},
   "outputs": [
    {
     "data": {
      "text/html": [
       "<div>\n",
       "<style scoped>\n",
       "    .dataframe tbody tr th:only-of-type {\n",
       "        vertical-align: middle;\n",
       "    }\n",
       "\n",
       "    .dataframe tbody tr th {\n",
       "        vertical-align: top;\n",
       "    }\n",
       "\n",
       "    .dataframe thead th {\n",
       "        text-align: right;\n",
       "    }\n",
       "</style>\n",
       "<table border=\"1\" class=\"dataframe\">\n",
       "  <thead>\n",
       "    <tr style=\"text-align: right;\">\n",
       "      <th></th>\n",
       "      <th>to</th>\n",
       "      <th>from</th>\n",
       "      <th>type</th>\n",
       "      <th>when</th>\n",
       "    </tr>\n",
       "  </thead>\n",
       "  <tbody>\n",
       "    <tr>\n",
       "      <th>1</th>\n",
       "      <td>o6qjf5jRE8pojbtj7</td>\n",
       "      <td>9BWsYf2ZwkvCEhAHj</td>\n",
       "      <td>marry</td>\n",
       "      <td>2018-03-10 01:53:25</td>\n",
       "    </tr>\n",
       "    <tr>\n",
       "      <th>7</th>\n",
       "      <td>oTrTvnBYdM39soKpj</td>\n",
       "      <td>dwALLCkhnTYquLLZB</td>\n",
       "      <td>marry</td>\n",
       "      <td>2017-03-14 08:30:31</td>\n",
       "    </tr>\n",
       "    <tr>\n",
       "      <th>9</th>\n",
       "      <td>ghnYNKdhcWbFnZ62K</td>\n",
       "      <td>gQc7dn2Lb82n4uzYP</td>\n",
       "      <td>marry</td>\n",
       "      <td>2018-12-17 21:35:59</td>\n",
       "    </tr>\n",
       "    <tr>\n",
       "      <th>10</th>\n",
       "      <td>zBoYZixZ2hsAnni6j</td>\n",
       "      <td>B4aoEc4Krr7mSWX4h</td>\n",
       "      <td>marry</td>\n",
       "      <td>2016-10-14 15:17:08</td>\n",
       "    </tr>\n",
       "    <tr>\n",
       "      <th>15</th>\n",
       "      <td>9AARkH2cEFoJQw6pB</td>\n",
       "      <td>vazhFzjZB9KP5ZJAp</td>\n",
       "      <td>marry</td>\n",
       "      <td>2017-12-16 21:45:27</td>\n",
       "    </tr>\n",
       "  </tbody>\n",
       "</table>\n",
       "</div>"
      ],
      "text/plain": [
       "                   to               from   type                when\n",
       "1   o6qjf5jRE8pojbtj7  9BWsYf2ZwkvCEhAHj  marry 2018-03-10 01:53:25\n",
       "7   oTrTvnBYdM39soKpj  dwALLCkhnTYquLLZB  marry 2017-03-14 08:30:31\n",
       "9   ghnYNKdhcWbFnZ62K  gQc7dn2Lb82n4uzYP  marry 2018-12-17 21:35:59\n",
       "10  zBoYZixZ2hsAnni6j  B4aoEc4Krr7mSWX4h  marry 2016-10-14 15:17:08\n",
       "15  9AARkH2cEFoJQw6pB  vazhFzjZB9KP5ZJAp  marry 2017-12-16 21:45:27"
      ]
     },
     "execution_count": 100,
     "metadata": {},
     "output_type": "execute_result"
    }
   ],
   "source": [
    "con_m = connections[connections.type == 'marry']\n",
    "con_m.head()"
   ]
  },
  {
   "cell_type": "code",
   "execution_count": 102,
   "metadata": {},
   "outputs": [
    {
     "data": {
      "text/plain": [
       "(10916195, 4)"
      ]
     },
     "execution_count": 102,
     "metadata": {},
     "output_type": "execute_result"
    }
   ],
   "source": [
    "con_m.shape"
   ]
  },
  {
   "cell_type": "code",
   "execution_count": 98,
   "metadata": {},
   "outputs": [
    {
     "data": {
      "text/html": [
       "<div>\n",
       "<style scoped>\n",
       "    .dataframe tbody tr th:only-of-type {\n",
       "        vertical-align: middle;\n",
       "    }\n",
       "\n",
       "    .dataframe tbody tr th {\n",
       "        vertical-align: top;\n",
       "    }\n",
       "\n",
       "    .dataframe thead th {\n",
       "        text-align: right;\n",
       "    }\n",
       "</style>\n",
       "<table border=\"1\" class=\"dataframe\">\n",
       "  <thead>\n",
       "    <tr style=\"text-align: right;\">\n",
       "      <th></th>\n",
       "      <th>to</th>\n",
       "      <th>from</th>\n",
       "      <th>type</th>\n",
       "      <th>when</th>\n",
       "    </tr>\n",
       "  </thead>\n",
       "  <tbody>\n",
       "    <tr>\n",
       "      <th>3</th>\n",
       "      <td>zuCFfviDzDmay65cS</td>\n",
       "      <td>tHqJvGu4gr8KyzoTL</td>\n",
       "      <td>fuck</td>\n",
       "      <td>2017-11-22 10:26:26</td>\n",
       "    </tr>\n",
       "    <tr>\n",
       "      <th>5</th>\n",
       "      <td>YCKwryPgGD5djxCom</td>\n",
       "      <td>NqGYgvbHeowrHba5F</td>\n",
       "      <td>fuck</td>\n",
       "      <td>2018-01-06 22:19:09</td>\n",
       "    </tr>\n",
       "    <tr>\n",
       "      <th>13</th>\n",
       "      <td>XD9265zvJJAxfLwBY</td>\n",
       "      <td>t2kz543bCSr3FXMgw</td>\n",
       "      <td>fuck</td>\n",
       "      <td>2017-01-08 10:37:59</td>\n",
       "    </tr>\n",
       "    <tr>\n",
       "      <th>14</th>\n",
       "      <td>9JjjgdXEdk5bo8GuK</td>\n",
       "      <td>vo3DuzvwyXKsEBWhC</td>\n",
       "      <td>fuck</td>\n",
       "      <td>2017-08-09 20:23:04</td>\n",
       "    </tr>\n",
       "    <tr>\n",
       "      <th>17</th>\n",
       "      <td>LuvmhLmh39r38kw9S</td>\n",
       "      <td>cZw6ycwedShJSiFdp</td>\n",
       "      <td>fuck</td>\n",
       "      <td>2018-04-30 18:08:42</td>\n",
       "    </tr>\n",
       "  </tbody>\n",
       "</table>\n",
       "</div>"
      ],
      "text/plain": [
       "                   to               from  type                when\n",
       "3   zuCFfviDzDmay65cS  tHqJvGu4gr8KyzoTL  fuck 2017-11-22 10:26:26\n",
       "5   YCKwryPgGD5djxCom  NqGYgvbHeowrHba5F  fuck 2018-01-06 22:19:09\n",
       "13  XD9265zvJJAxfLwBY  t2kz543bCSr3FXMgw  fuck 2017-01-08 10:37:59\n",
       "14  9JjjgdXEdk5bo8GuK  vo3DuzvwyXKsEBWhC  fuck 2017-08-09 20:23:04\n",
       "17  LuvmhLmh39r38kw9S  cZw6ycwedShJSiFdp  fuck 2018-04-30 18:08:42"
      ]
     },
     "execution_count": 98,
     "metadata": {},
     "output_type": "execute_result"
    }
   ],
   "source": [
    "con_f = connections[connections.type == 'fuck']\n",
    "con_f.head()"
   ]
  },
  {
   "cell_type": "code",
   "execution_count": 103,
   "metadata": {
    "scrolled": true
   },
   "outputs": [
    {
     "data": {
      "text/plain": [
       "(10934854, 4)"
      ]
     },
     "execution_count": 103,
     "metadata": {},
     "output_type": "execute_result"
    }
   ],
   "source": [
    "con_f.shape"
   ]
  },
  {
   "cell_type": "code",
   "execution_count": 122,
   "metadata": {},
   "outputs": [],
   "source": [
    "con_f.to_pickle(\"dataset/con_f.pkl\")"
   ]
  },
  {
   "cell_type": "code",
   "execution_count": 123,
   "metadata": {},
   "outputs": [],
   "source": [
    "con_k.to_pickle(\"dataset/con_k.pkl\")"
   ]
  },
  {
   "cell_type": "code",
   "execution_count": 124,
   "metadata": {},
   "outputs": [],
   "source": [
    "con_m.to_pickle(\"dataset/con_m.pkl\")"
   ]
  },
  {
   "cell_type": "markdown",
   "metadata": {},
   "source": [
    "### Users"
   ]
  },
  {
   "cell_type": "code",
   "execution_count": 72,
   "metadata": {
    "scrolled": true
   },
   "outputs": [
    {
     "data": {
      "text/html": [
       "<div>\n",
       "<style scoped>\n",
       "    .dataframe tbody tr th:only-of-type {\n",
       "        vertical-align: middle;\n",
       "    }\n",
       "\n",
       "    .dataframe tbody tr th {\n",
       "        vertical-align: top;\n",
       "    }\n",
       "\n",
       "    .dataframe thead th {\n",
       "        text-align: right;\n",
       "    }\n",
       "</style>\n",
       "<table border=\"1\" class=\"dataframe\">\n",
       "  <thead>\n",
       "    <tr style=\"text-align: right;\">\n",
       "      <th></th>\n",
       "      <th>_id</th>\n",
       "      <th>profile.active</th>\n",
       "      <th>profile.disable</th>\n",
       "      <th>profile.blocked</th>\n",
       "      <th>profile.about</th>\n",
       "      <th>profile.gender</th>\n",
       "      <th>profile.interested_in</th>\n",
       "      <th>profile.age</th>\n",
       "      <th>profile.type</th>\n",
       "      <th>profile.pos.coordinates</th>\n",
       "      <th>...</th>\n",
       "      <th>firstSeen</th>\n",
       "      <th>lastLogin</th>\n",
       "      <th>score</th>\n",
       "      <th>votes_given</th>\n",
       "      <th>sessions</th>\n",
       "      <th>push.enable</th>\n",
       "      <th>uninstalled</th>\n",
       "      <th>stats</th>\n",
       "      <th>previousRank</th>\n",
       "      <th>powerVotes</th>\n",
       "    </tr>\n",
       "  </thead>\n",
       "  <tbody>\n",
       "    <tr>\n",
       "      <th>0</th>\n",
       "      <td>224yPevvKN7heMbNH</td>\n",
       "      <td>0.0</td>\n",
       "      <td>True</td>\n",
       "      <td>NaN</td>\n",
       "      <td>NaN</td>\n",
       "      <td>male</td>\n",
       "      <td>female</td>\n",
       "      <td>32.0</td>\n",
       "      <td>neutral</td>\n",
       "      <td>[11.3892633,51.4995689]</td>\n",
       "      <td>...</td>\n",
       "      <td>2016-12-18T00:20:57.986Z</td>\n",
       "      <td>2016-12-18T10:03:40.290Z</td>\n",
       "      <td>0.0</td>\n",
       "      <td>6.0</td>\n",
       "      <td>{\"2017\":{\"Jan\":{\"25\":0,\"26\":0,\"27\":0,\"28\":0,\"2...</td>\n",
       "      <td>True</td>\n",
       "      <td>True</td>\n",
       "      <td>{\"fuck\":4,\"marry\":5,\"kill\":6,\"total\":15}</td>\n",
       "      <td>NaN</td>\n",
       "      <td>3.0</td>\n",
       "    </tr>\n",
       "    <tr>\n",
       "      <th>1</th>\n",
       "      <td>2252apM9GkLCjPQrN</td>\n",
       "      <td>0.0</td>\n",
       "      <td>True</td>\n",
       "      <td>NaN</td>\n",
       "      <td>NaN</td>\n",
       "      <td>male</td>\n",
       "      <td>female</td>\n",
       "      <td>29.0</td>\n",
       "      <td>neutral</td>\n",
       "      <td>[-96.6961864,40.8224877]</td>\n",
       "      <td>...</td>\n",
       "      <td>2017-04-22T16:30:23.348Z</td>\n",
       "      <td>2017-05-08T00:56:58.953Z</td>\n",
       "      <td>0.0</td>\n",
       "      <td>48.0</td>\n",
       "      <td>{\"2017\":{\"Apr\":{\"22\":1,\"23\":0,\"24\":0,\"25\":0,\"2...</td>\n",
       "      <td>NaN</td>\n",
       "      <td>True</td>\n",
       "      <td>{\"fuck\":1,\"marry\":0,\"kill\":5,\"total\":6}</td>\n",
       "      <td>NaN</td>\n",
       "      <td>3.0</td>\n",
       "    </tr>\n",
       "    <tr>\n",
       "      <th>2</th>\n",
       "      <td>225k2kWBFnWnRMm4H</td>\n",
       "      <td>1.0</td>\n",
       "      <td>False</td>\n",
       "      <td>False</td>\n",
       "      <td>NaN</td>\n",
       "      <td>male</td>\n",
       "      <td>female</td>\n",
       "      <td>29.0</td>\n",
       "      <td>marry</td>\n",
       "      <td>[-8.6716634,41.2658645]</td>\n",
       "      <td>...</td>\n",
       "      <td>2017-11-25T19:54:27.631Z</td>\n",
       "      <td>2018-08-31T18:12:27.270Z</td>\n",
       "      <td>25.0</td>\n",
       "      <td>699.0</td>\n",
       "      <td>{\"2017\":{\"Nov\":{\"26\":4,\"27\":4,\"28\":3,\"29\":1,\"3...</td>\n",
       "      <td>NaN</td>\n",
       "      <td>False</td>\n",
       "      <td>{\"fuck\":105,\"marry\":125,\"kill\":24,\"total\":254}</td>\n",
       "      <td>{\"fuck\":744,\"marry\":342,\"kill\":3864}</td>\n",
       "      <td>3.0</td>\n",
       "    </tr>\n",
       "    <tr>\n",
       "      <th>3</th>\n",
       "      <td>225n4E5AGkqRBx9CP</td>\n",
       "      <td>0.0</td>\n",
       "      <td>True</td>\n",
       "      <td>False</td>\n",
       "      <td>Vegan, scouts, yoga &amp; Hip-Hop</td>\n",
       "      <td>male</td>\n",
       "      <td>female</td>\n",
       "      <td>21.0</td>\n",
       "      <td>marry</td>\n",
       "      <td>[-8.940877374261616,37.014026083052165]</td>\n",
       "      <td>...</td>\n",
       "      <td>2017-02-12T02:48:51.919Z</td>\n",
       "      <td>2017-07-18T06:56:20.956Z</td>\n",
       "      <td>0.0</td>\n",
       "      <td>2081.0</td>\n",
       "      <td>{\"2017\":{\"Jan\":{},\"Feb\":{\"12\":6,\"13\":13,\"14\":1...</td>\n",
       "      <td>True</td>\n",
       "      <td>True</td>\n",
       "      <td>{\"fuck\":113,\"marry\":124,\"kill\":113,\"total\":350}</td>\n",
       "      <td>{\"fuck\":83,\"marry\":76,\"kill\":73}</td>\n",
       "      <td>3.0</td>\n",
       "    </tr>\n",
       "    <tr>\n",
       "      <th>4</th>\n",
       "      <td>2269N4HM7ByJiS5QN</td>\n",
       "      <td>1.0</td>\n",
       "      <td>False</td>\n",
       "      <td>False</td>\n",
       "      <td>NaN</td>\n",
       "      <td>male</td>\n",
       "      <td>female</td>\n",
       "      <td>24.0</td>\n",
       "      <td>marry</td>\n",
       "      <td>[-8.6982481,41.1947986]</td>\n",
       "      <td>...</td>\n",
       "      <td>2018-01-19T22:08:18.869Z</td>\n",
       "      <td>2019-05-25T12:15:55.089Z</td>\n",
       "      <td>25.0</td>\n",
       "      <td>3636.0</td>\n",
       "      <td>{\"2018\":{\"Jan\":{\"19\":2,\"20\":0,\"21\":0,\"22\":0,\"2...</td>\n",
       "      <td>NaN</td>\n",
       "      <td>False</td>\n",
       "      <td>{\"fuck\":230,\"marry\":290,\"kill\":94,\"total\":614}</td>\n",
       "      <td>{\"fuck\":2438,\"marry\":2438,\"kill\":2438}</td>\n",
       "      <td>3.0</td>\n",
       "    </tr>\n",
       "  </tbody>\n",
       "</table>\n",
       "<p>5 rows × 30 columns</p>\n",
       "</div>"
      ],
      "text/plain": [
       "                 _id  profile.active profile.disable profile.blocked  \\\n",
       "0  224yPevvKN7heMbNH             0.0            True             NaN   \n",
       "1  2252apM9GkLCjPQrN             0.0            True             NaN   \n",
       "2  225k2kWBFnWnRMm4H             1.0           False           False   \n",
       "3  225n4E5AGkqRBx9CP             0.0            True           False   \n",
       "4  2269N4HM7ByJiS5QN             1.0           False           False   \n",
       "\n",
       "                   profile.about profile.gender profile.interested_in  \\\n",
       "0                            NaN           male                female   \n",
       "1                            NaN           male                female   \n",
       "2                            NaN           male                female   \n",
       "3  Vegan, scouts, yoga & Hip-Hop           male                female   \n",
       "4                            NaN           male                female   \n",
       "\n",
       "   profile.age profile.type                  profile.pos.coordinates  ...  \\\n",
       "0         32.0      neutral                  [11.3892633,51.4995689]  ...   \n",
       "1         29.0      neutral                 [-96.6961864,40.8224877]  ...   \n",
       "2         29.0        marry                  [-8.6716634,41.2658645]  ...   \n",
       "3         21.0        marry  [-8.940877374261616,37.014026083052165]  ...   \n",
       "4         24.0        marry                  [-8.6982481,41.1947986]  ...   \n",
       "\n",
       "                  firstSeen                 lastLogin score votes_given  \\\n",
       "0  2016-12-18T00:20:57.986Z  2016-12-18T10:03:40.290Z   0.0         6.0   \n",
       "1  2017-04-22T16:30:23.348Z  2017-05-08T00:56:58.953Z   0.0        48.0   \n",
       "2  2017-11-25T19:54:27.631Z  2018-08-31T18:12:27.270Z  25.0       699.0   \n",
       "3  2017-02-12T02:48:51.919Z  2017-07-18T06:56:20.956Z   0.0      2081.0   \n",
       "4  2018-01-19T22:08:18.869Z  2019-05-25T12:15:55.089Z  25.0      3636.0   \n",
       "\n",
       "                                            sessions push.enable uninstalled  \\\n",
       "0  {\"2017\":{\"Jan\":{\"25\":0,\"26\":0,\"27\":0,\"28\":0,\"2...        True        True   \n",
       "1  {\"2017\":{\"Apr\":{\"22\":1,\"23\":0,\"24\":0,\"25\":0,\"2...         NaN        True   \n",
       "2  {\"2017\":{\"Nov\":{\"26\":4,\"27\":4,\"28\":3,\"29\":1,\"3...         NaN       False   \n",
       "3  {\"2017\":{\"Jan\":{},\"Feb\":{\"12\":6,\"13\":13,\"14\":1...        True        True   \n",
       "4  {\"2018\":{\"Jan\":{\"19\":2,\"20\":0,\"21\":0,\"22\":0,\"2...         NaN       False   \n",
       "\n",
       "                                             stats  \\\n",
       "0         {\"fuck\":4,\"marry\":5,\"kill\":6,\"total\":15}   \n",
       "1          {\"fuck\":1,\"marry\":0,\"kill\":5,\"total\":6}   \n",
       "2   {\"fuck\":105,\"marry\":125,\"kill\":24,\"total\":254}   \n",
       "3  {\"fuck\":113,\"marry\":124,\"kill\":113,\"total\":350}   \n",
       "4   {\"fuck\":230,\"marry\":290,\"kill\":94,\"total\":614}   \n",
       "\n",
       "                             previousRank powerVotes  \n",
       "0                                     NaN        3.0  \n",
       "1                                     NaN        3.0  \n",
       "2    {\"fuck\":744,\"marry\":342,\"kill\":3864}        3.0  \n",
       "3        {\"fuck\":83,\"marry\":76,\"kill\":73}        3.0  \n",
       "4  {\"fuck\":2438,\"marry\":2438,\"kill\":2438}        3.0  \n",
       "\n",
       "[5 rows x 30 columns]"
      ]
     },
     "execution_count": 72,
     "metadata": {},
     "output_type": "execute_result"
    }
   ],
   "source": [
    "users = pd.read_csv(\"dataset/users.csv\")\n",
    "users.head()"
   ]
  },
  {
   "cell_type": "code",
   "execution_count": 23,
   "metadata": {},
   "outputs": [
    {
     "data": {
      "text/plain": [
       "_id                         object\n",
       "profile.active             float64\n",
       "profile.disable             object\n",
       "profile.blocked             object\n",
       "profile.about               object\n",
       "profile.gender              object\n",
       "profile.interested_in       object\n",
       "profile.age                float64\n",
       "profile.type                object\n",
       "profile.pos.coordinates     object\n",
       "profile.fromInstagram       object\n",
       "profile.fromFacebook        object\n",
       "profile.unirace             object\n",
       "profile.purchased           object\n",
       "profile.subscription        object\n",
       "profile.boosted             object\n",
       "profile.boostable           object\n",
       "profile.lang                object\n",
       "profile.record_streak       object\n",
       "profile.actual_streak       object\n",
       "firstSeen                   object\n",
       "lastLogin                   object\n",
       "score                      float64\n",
       "votes_given                float64\n",
       "sessions                    object\n",
       "push.enable                 object\n",
       "uninstalled                 object\n",
       "stats                       object\n",
       "previousRank                object\n",
       "powerVotes                 float64\n",
       "dtype: object"
      ]
     },
     "execution_count": 23,
     "metadata": {},
     "output_type": "execute_result"
    }
   ],
   "source": [
    "users.dtypes"
   ]
  },
  {
   "cell_type": "markdown",
   "metadata": {},
   "source": [
    "#### Missing values"
   ]
  },
  {
   "cell_type": "code",
   "execution_count": 13,
   "metadata": {
    "scrolled": true
   },
   "outputs": [
    {
     "name": "stdout",
     "output_type": "stream",
     "text": [
      "_id | 0.0 | object\n",
      "profile.active | 0.0 | bool\n",
      "profile.about | 0.0 | object\n",
      "profile.interested_in | 0.0 | category\n",
      "profile.age | 0.0 | float64\n",
      "profile.type | 0.0 | category\n",
      "profile.pos.coordinates | 0.0 | object\n",
      "profile.fromInstagram | 0.0 | bool\n",
      "profile.fromFacebook | 0.0 | bool\n",
      "profile.unirace | 0.0 | bool\n",
      "profile.purchased | 0.0 | bool\n",
      "profile.subscription | 0.0 | bool\n",
      "profile.boosted | 0.0 | bool\n",
      "profile.lang | 0.0 | category\n",
      "profile.record_streak | 0.0 | object\n",
      "profile.actual_streak | 0.0 | object\n",
      "firstSeen | 0.0 | datetime64[ns]\n",
      "lastLogin | 0.0 | datetime64[ns]\n",
      "score | 0.0 | float64\n",
      "votes_given | 0.0 | float64\n",
      "push.enable | 0.0 | bool\n",
      "uninstalled | 0.0 | bool\n",
      "previousRank | 0.0 | object\n",
      "powerVotes | 0.0 | float64\n",
      "profile.genders | 0.0 | float64\n"
     ]
    }
   ],
   "source": [
    "n_records = len(users)\n",
    "def missing_values_df(df):\n",
    "    for column in df:\n",
    "        print(\"{} | {} | {}\".format(\n",
    "             column, len(df[df[column].isnull()]) / (1.0*n_records), df[column].dtype\n",
    "        ))\n",
    "\n",
    "missing_values_df(users)"
   ]
  },
  {
   "cell_type": "code",
   "execution_count": 75,
   "metadata": {
    "scrolled": true
   },
   "outputs": [
    {
     "ename": "KeyError",
     "evalue": "\"['profile.disable' 'profile.blocked' 'profile.boostable' 'sessions'] not found in axis\"",
     "output_type": "error",
     "traceback": [
      "\u001b[0;31m---------------------------------------------------------------------------\u001b[0m",
      "\u001b[0;31mKeyError\u001b[0m                                  Traceback (most recent call last)",
      "\u001b[0;32m<ipython-input-75-6b8e03417da8>\u001b[0m in \u001b[0;36m<module>\u001b[0;34m\u001b[0m\n\u001b[0;32m----> 1\u001b[0;31m \u001b[0musers\u001b[0m \u001b[0;34m=\u001b[0m \u001b[0musers\u001b[0m\u001b[0;34m.\u001b[0m\u001b[0mdrop\u001b[0m\u001b[0;34m(\u001b[0m\u001b[0mcolumns\u001b[0m\u001b[0;34m=\u001b[0m\u001b[0;34m[\u001b[0m\u001b[0;34m'profile.disable'\u001b[0m\u001b[0;34m,\u001b[0m \u001b[0;34m'profile.blocked'\u001b[0m\u001b[0;34m,\u001b[0m \u001b[0;34m'profile.boostable'\u001b[0m\u001b[0;34m,\u001b[0m \u001b[0;34m'sessions'\u001b[0m\u001b[0;34m,\u001b[0m \u001b[0;34m'stats'\u001b[0m\u001b[0;34m]\u001b[0m\u001b[0;34m)\u001b[0m\u001b[0;34m\u001b[0m\u001b[0;34m\u001b[0m\u001b[0m\n\u001b[0m",
      "\u001b[0;32m~/anaconda3/lib/python3.7/site-packages/pandas/core/frame.py\u001b[0m in \u001b[0;36mdrop\u001b[0;34m(self, labels, axis, index, columns, level, inplace, errors)\u001b[0m\n\u001b[1;32m   3938\u001b[0m                                            \u001b[0mindex\u001b[0m\u001b[0;34m=\u001b[0m\u001b[0mindex\u001b[0m\u001b[0;34m,\u001b[0m \u001b[0mcolumns\u001b[0m\u001b[0;34m=\u001b[0m\u001b[0mcolumns\u001b[0m\u001b[0;34m,\u001b[0m\u001b[0;34m\u001b[0m\u001b[0;34m\u001b[0m\u001b[0m\n\u001b[1;32m   3939\u001b[0m                                            \u001b[0mlevel\u001b[0m\u001b[0;34m=\u001b[0m\u001b[0mlevel\u001b[0m\u001b[0;34m,\u001b[0m \u001b[0minplace\u001b[0m\u001b[0;34m=\u001b[0m\u001b[0minplace\u001b[0m\u001b[0;34m,\u001b[0m\u001b[0;34m\u001b[0m\u001b[0;34m\u001b[0m\u001b[0m\n\u001b[0;32m-> 3940\u001b[0;31m                                            errors=errors)\n\u001b[0m\u001b[1;32m   3941\u001b[0m \u001b[0;34m\u001b[0m\u001b[0m\n\u001b[1;32m   3942\u001b[0m     @rewrite_axis_style_signature('mapper', [('copy', True),\n",
      "\u001b[0;32m~/anaconda3/lib/python3.7/site-packages/pandas/core/generic.py\u001b[0m in \u001b[0;36mdrop\u001b[0;34m(self, labels, axis, index, columns, level, inplace, errors)\u001b[0m\n\u001b[1;32m   3778\u001b[0m         \u001b[0;32mfor\u001b[0m \u001b[0maxis\u001b[0m\u001b[0;34m,\u001b[0m \u001b[0mlabels\u001b[0m \u001b[0;32min\u001b[0m \u001b[0maxes\u001b[0m\u001b[0;34m.\u001b[0m\u001b[0mitems\u001b[0m\u001b[0;34m(\u001b[0m\u001b[0;34m)\u001b[0m\u001b[0;34m:\u001b[0m\u001b[0;34m\u001b[0m\u001b[0;34m\u001b[0m\u001b[0m\n\u001b[1;32m   3779\u001b[0m             \u001b[0;32mif\u001b[0m \u001b[0mlabels\u001b[0m \u001b[0;32mis\u001b[0m \u001b[0;32mnot\u001b[0m \u001b[0;32mNone\u001b[0m\u001b[0;34m:\u001b[0m\u001b[0;34m\u001b[0m\u001b[0;34m\u001b[0m\u001b[0m\n\u001b[0;32m-> 3780\u001b[0;31m                 \u001b[0mobj\u001b[0m \u001b[0;34m=\u001b[0m \u001b[0mobj\u001b[0m\u001b[0;34m.\u001b[0m\u001b[0m_drop_axis\u001b[0m\u001b[0;34m(\u001b[0m\u001b[0mlabels\u001b[0m\u001b[0;34m,\u001b[0m \u001b[0maxis\u001b[0m\u001b[0;34m,\u001b[0m \u001b[0mlevel\u001b[0m\u001b[0;34m=\u001b[0m\u001b[0mlevel\u001b[0m\u001b[0;34m,\u001b[0m \u001b[0merrors\u001b[0m\u001b[0;34m=\u001b[0m\u001b[0merrors\u001b[0m\u001b[0;34m)\u001b[0m\u001b[0;34m\u001b[0m\u001b[0;34m\u001b[0m\u001b[0m\n\u001b[0m\u001b[1;32m   3781\u001b[0m \u001b[0;34m\u001b[0m\u001b[0m\n\u001b[1;32m   3782\u001b[0m         \u001b[0;32mif\u001b[0m \u001b[0minplace\u001b[0m\u001b[0;34m:\u001b[0m\u001b[0;34m\u001b[0m\u001b[0;34m\u001b[0m\u001b[0m\n",
      "\u001b[0;32m~/anaconda3/lib/python3.7/site-packages/pandas/core/generic.py\u001b[0m in \u001b[0;36m_drop_axis\u001b[0;34m(self, labels, axis, level, errors)\u001b[0m\n\u001b[1;32m   3810\u001b[0m                 \u001b[0mnew_axis\u001b[0m \u001b[0;34m=\u001b[0m \u001b[0maxis\u001b[0m\u001b[0;34m.\u001b[0m\u001b[0mdrop\u001b[0m\u001b[0;34m(\u001b[0m\u001b[0mlabels\u001b[0m\u001b[0;34m,\u001b[0m \u001b[0mlevel\u001b[0m\u001b[0;34m=\u001b[0m\u001b[0mlevel\u001b[0m\u001b[0;34m,\u001b[0m \u001b[0merrors\u001b[0m\u001b[0;34m=\u001b[0m\u001b[0merrors\u001b[0m\u001b[0;34m)\u001b[0m\u001b[0;34m\u001b[0m\u001b[0;34m\u001b[0m\u001b[0m\n\u001b[1;32m   3811\u001b[0m             \u001b[0;32melse\u001b[0m\u001b[0;34m:\u001b[0m\u001b[0;34m\u001b[0m\u001b[0;34m\u001b[0m\u001b[0m\n\u001b[0;32m-> 3812\u001b[0;31m                 \u001b[0mnew_axis\u001b[0m \u001b[0;34m=\u001b[0m \u001b[0maxis\u001b[0m\u001b[0;34m.\u001b[0m\u001b[0mdrop\u001b[0m\u001b[0;34m(\u001b[0m\u001b[0mlabels\u001b[0m\u001b[0;34m,\u001b[0m \u001b[0merrors\u001b[0m\u001b[0;34m=\u001b[0m\u001b[0merrors\u001b[0m\u001b[0;34m)\u001b[0m\u001b[0;34m\u001b[0m\u001b[0;34m\u001b[0m\u001b[0m\n\u001b[0m\u001b[1;32m   3813\u001b[0m             \u001b[0mresult\u001b[0m \u001b[0;34m=\u001b[0m \u001b[0mself\u001b[0m\u001b[0;34m.\u001b[0m\u001b[0mreindex\u001b[0m\u001b[0;34m(\u001b[0m\u001b[0;34m**\u001b[0m\u001b[0;34m{\u001b[0m\u001b[0maxis_name\u001b[0m\u001b[0;34m:\u001b[0m \u001b[0mnew_axis\u001b[0m\u001b[0;34m}\u001b[0m\u001b[0;34m)\u001b[0m\u001b[0;34m\u001b[0m\u001b[0;34m\u001b[0m\u001b[0m\n\u001b[1;32m   3814\u001b[0m \u001b[0;34m\u001b[0m\u001b[0m\n",
      "\u001b[0;32m~/anaconda3/lib/python3.7/site-packages/pandas/core/indexes/base.py\u001b[0m in \u001b[0;36mdrop\u001b[0;34m(self, labels, errors)\u001b[0m\n\u001b[1;32m   4963\u001b[0m             \u001b[0;32mif\u001b[0m \u001b[0merrors\u001b[0m \u001b[0;34m!=\u001b[0m \u001b[0;34m'ignore'\u001b[0m\u001b[0;34m:\u001b[0m\u001b[0;34m\u001b[0m\u001b[0;34m\u001b[0m\u001b[0m\n\u001b[1;32m   4964\u001b[0m                 raise KeyError(\n\u001b[0;32m-> 4965\u001b[0;31m                     '{} not found in axis'.format(labels[mask]))\n\u001b[0m\u001b[1;32m   4966\u001b[0m             \u001b[0mindexer\u001b[0m \u001b[0;34m=\u001b[0m \u001b[0mindexer\u001b[0m\u001b[0;34m[\u001b[0m\u001b[0;34m~\u001b[0m\u001b[0mmask\u001b[0m\u001b[0;34m]\u001b[0m\u001b[0;34m\u001b[0m\u001b[0;34m\u001b[0m\u001b[0m\n\u001b[1;32m   4967\u001b[0m         \u001b[0;32mreturn\u001b[0m \u001b[0mself\u001b[0m\u001b[0;34m.\u001b[0m\u001b[0mdelete\u001b[0m\u001b[0;34m(\u001b[0m\u001b[0mindexer\u001b[0m\u001b[0;34m)\u001b[0m\u001b[0;34m\u001b[0m\u001b[0;34m\u001b[0m\u001b[0m\n",
      "\u001b[0;31mKeyError\u001b[0m: \"['profile.disable' 'profile.blocked' 'profile.boostable' 'sessions'] not found in axis\""
     ]
    }
   ],
   "source": [
    "users = users.drop(columns=['profile.disable', 'profile.blocked', 'profile.boostable', 'sessions', 'stats'])"
   ]
  },
  {
   "cell_type": "code",
   "execution_count": 80,
   "metadata": {},
   "outputs": [],
   "source": [
    "na_list = ['profile.active', 'profile.about', 'profile.gender', 'profile.interested_in', 'profile.age', 'profile.type', \\\n",
    "           'profile.pos.coordinates', 'profile.lang', 'profile.subscription', \\\n",
    "           'profile.record_streak', 'profile.actual_streak', 'score', 'votes_given', \\\n",
    "           'previousRank', 'powerVotes', 'lastLogin', 'firstSeen', 'profile.fromInstagram', \\\n",
    "          'profile.fromFacebook', 'profile.unirace', 'profile.purchased', 'push.enable', 'push.enable',\n",
    "          'profile.boosted', 'uninstalled']\n",
    "for column in na_list:\n",
    "    about = []\n",
    "    for s in range(len(users)):\n",
    "        if str(users[column][s]) == 'nan':\n",
    "            about.append(0.0);\n",
    "        else:\n",
    "            about.append(users[column][s])\n",
    "    users[column]=about"
   ]
  },
  {
   "cell_type": "code",
   "execution_count": 318,
   "metadata": {
    "scrolled": true
   },
   "outputs": [
    {
     "data": {
      "text/plain": [
       "array(['', 'Vegan, scouts, yoga & Hip-Hop', 'I love music', ...,\n",
       "       'Im single and looking for whatever comes my way',\n",
       "       'Music, night, beach, office employee, volunteer firefighter',\n",
       "       'Film Maker, Actor, Musician, Dreamer ☁️ 📍Dubai, UAE'],\n",
       "      dtype=object)"
      ]
     },
     "execution_count": 318,
     "metadata": {},
     "output_type": "execute_result"
    }
   ],
   "source": [
    "users = users.replace({'profile.about':0.0}, '')\n",
    "users['profile.about'].unique()"
   ]
  },
  {
   "cell_type": "code",
   "execution_count": 81,
   "metadata": {},
   "outputs": [
    {
     "name": "stdout",
     "output_type": "stream",
     "text": [
      "_id | 0.0 | object\n",
      "profile.active | 0.0 | float64\n",
      "profile.about | 0.0 | object\n",
      "profile.gender | 0.0 | object\n",
      "profile.interested_in | 0.0 | object\n",
      "profile.age | 0.0 | float64\n",
      "profile.type | 0.0 | object\n",
      "profile.pos.coordinates | 0.0 | object\n",
      "profile.fromInstagram | 0.0 | object\n",
      "profile.fromFacebook | 0.0 | object\n",
      "profile.unirace | 0.0 | object\n",
      "profile.purchased | 0.0 | object\n",
      "profile.subscription | 0.0 | object\n",
      "profile.boosted | 0.0 | object\n",
      "profile.lang | 0.0 | object\n",
      "profile.record_streak | 0.0 | object\n",
      "profile.actual_streak | 0.0 | object\n",
      "firstSeen | 0.0 | object\n",
      "lastLogin | 0.0 | object\n",
      "score | 0.0 | float64\n",
      "votes_given | 0.0 | float64\n",
      "push.enable | 0.0 | object\n",
      "uninstalled | 0.0 | object\n",
      "previousRank | 0.0 | object\n",
      "powerVotes | 0.0 | float64\n"
     ]
    }
   ],
   "source": [
    "missing_values_df(users)"
   ]
  },
  {
   "cell_type": "code",
   "execution_count": 57,
   "metadata": {},
   "outputs": [
    {
     "data": {
      "text/plain": [
       "Index(['_id', 'profile.active', 'profile.about', 'profile.gender',\n",
       "       'profile.interested_in', 'profile.age', 'profile.type',\n",
       "       'profile.pos.coordinates', 'profile.fromInstagram',\n",
       "       'profile.fromFacebook', 'profile.unirace', 'profile.purchased',\n",
       "       'profile.subscription', 'profile.boosted', 'profile.lang',\n",
       "       'profile.record_streak', 'profile.actual_streak', 'firstSeen',\n",
       "       'lastLogin', 'score', 'votes_given', 'push.enable', 'uninstalled',\n",
       "       'stats', 'previousRank', 'powerVotes'],\n",
       "      dtype='object')"
      ]
     },
     "execution_count": 57,
     "metadata": {},
     "output_type": "execute_result"
    }
   ],
   "source": [
    "users.columns"
   ]
  },
  {
   "cell_type": "code",
   "execution_count": 82,
   "metadata": {},
   "outputs": [],
   "source": [
    "users = users.astype({'profile.fromFacebook':bool, 'profile.fromInstagram':bool,\n",
    "                     'profile.active':bool, 'profile.boosted':bool, \n",
    "                     'push.enable':bool, 'uninstalled':bool, \n",
    "                      'profile.unirace':bool, 'profile.purchased':bool, \n",
    "                     'profile.gender':'category', 'profile.interested_in':'category',\n",
    "                     'profile.lang':'category', 'profile.type':'category',\n",
    "                     'profile.subscription':bool})"
   ]
  },
  {
   "cell_type": "code",
   "execution_count": 83,
   "metadata": {},
   "outputs": [],
   "source": [
    "num = len(users)\n",
    "genderlist = []\n",
    "for x in range(num):\n",
    "    if (users['profile.gender'][x] == 'female' or users['profile.gender'][x] == 'feminino'\n",
    "    or users['profile.gender'][x] == 'weiblich'):\n",
    "        genderlist.append(0.0)\n",
    "    else:\n",
    "        genderlist.append(1.0)\n",
    "        \n",
    "genderlist\n",
    "users['profile.genders'] = genderlist"
   ]
  },
  {
   "cell_type": "code",
   "execution_count": 84,
   "metadata": {},
   "outputs": [],
   "source": [
    "users = users.drop(\"profile.gender\", axis = 1)"
   ]
  },
  {
   "cell_type": "code",
   "execution_count": 85,
   "metadata": {},
   "outputs": [],
   "source": [
    "users['lastLogin'] = users['lastLogin'].astype('datetime64[s]')\n",
    "users['firstSeen'] = users['firstSeen'].astype('datetime64[s]')"
   ]
  },
  {
   "cell_type": "code",
   "execution_count": 86,
   "metadata": {
    "scrolled": true
   },
   "outputs": [
    {
     "data": {
      "text/plain": [
       "_id                                object\n",
       "profile.active                       bool\n",
       "profile.about                      object\n",
       "profile.interested_in            category\n",
       "profile.age                       float64\n",
       "profile.type                     category\n",
       "profile.pos.coordinates            object\n",
       "profile.fromInstagram                bool\n",
       "profile.fromFacebook                 bool\n",
       "profile.unirace                      bool\n",
       "profile.purchased                    bool\n",
       "profile.subscription                 bool\n",
       "profile.boosted                      bool\n",
       "profile.lang                     category\n",
       "profile.record_streak              object\n",
       "profile.actual_streak              object\n",
       "firstSeen                  datetime64[ns]\n",
       "lastLogin                  datetime64[ns]\n",
       "score                             float64\n",
       "votes_given                       float64\n",
       "push.enable                          bool\n",
       "uninstalled                          bool\n",
       "previousRank                       object\n",
       "powerVotes                        float64\n",
       "profile.genders                   float64\n",
       "dtype: object"
      ]
     },
     "execution_count": 86,
     "metadata": {},
     "output_type": "execute_result"
    }
   ],
   "source": [
    "users.dtypes"
   ]
  },
  {
   "cell_type": "code",
   "execution_count": 53,
   "metadata": {
    "scrolled": true
   },
   "outputs": [
    {
     "data": {
      "text/plain": [
       "161059    00905398620651\n",
       "Name: profile.about, dtype: object"
      ]
     },
     "execution_count": 53,
     "metadata": {},
     "output_type": "execute_result"
    }
   ],
   "source": [
    "#users['profile.about'][users['profile.about'].str.contains('00905398620651')]"
   ]
  },
  {
   "cell_type": "code",
   "execution_count": 55,
   "metadata": {},
   "outputs": [
    {
     "data": {
      "text/plain": [
       "'00905398620651'"
      ]
     },
     "execution_count": 55,
     "metadata": {},
     "output_type": "execute_result"
    }
   ],
   "source": [
    "#users.loc[161059]['profile.about']"
   ]
  },
  {
   "cell_type": "code",
   "execution_count": 38,
   "metadata": {},
   "outputs": [],
   "source": [
    "#users = pd.concat([users, users_text_processed], axis=1)\n",
    "#del users['profile.about']"
   ]
  },
  {
   "cell_type": "code",
   "execution_count": 88,
   "metadata": {},
   "outputs": [],
   "source": [
    "users.to_pickle('dataset/users_clean.pkl')"
   ]
  },
  {
   "cell_type": "markdown",
   "metadata": {},
   "source": [
    "### Messages"
   ]
  },
  {
   "cell_type": "code",
   "execution_count": 3,
   "metadata": {},
   "outputs": [],
   "source": [
    "messages = pd.read_csv(\"dataset/messages.csv\")"
   ]
  },
  {
   "cell_type": "code",
   "execution_count": 4,
   "metadata": {
    "scrolled": true
   },
   "outputs": [
    {
     "data": {
      "text/html": [
       "<div>\n",
       "<style scoped>\n",
       "    .dataframe tbody tr th:only-of-type {\n",
       "        vertical-align: middle;\n",
       "    }\n",
       "\n",
       "    .dataframe tbody tr th {\n",
       "        vertical-align: top;\n",
       "    }\n",
       "\n",
       "    .dataframe thead th {\n",
       "        text-align: right;\n",
       "    }\n",
       "</style>\n",
       "<table border=\"1\" class=\"dataframe\">\n",
       "  <thead>\n",
       "    <tr style=\"text-align: right;\">\n",
       "      <th></th>\n",
       "      <th>_id</th>\n",
       "      <th>matchId</th>\n",
       "      <th>createdAt</th>\n",
       "      <th>user._id</th>\n",
       "      <th>image</th>\n",
       "    </tr>\n",
       "  </thead>\n",
       "  <tbody>\n",
       "    <tr>\n",
       "      <th>0</th>\n",
       "      <td>222BN7deQWFPRWTyY</td>\n",
       "      <td>72iqMTRwgN9JJQsBg</td>\n",
       "      <td>2017-11-27T01:25:54.689Z</td>\n",
       "      <td>1</td>\n",
       "      <td>NaN</td>\n",
       "    </tr>\n",
       "    <tr>\n",
       "      <th>1</th>\n",
       "      <td>222FGrGszSFXxnH8w</td>\n",
       "      <td>fR82mGRAGjB8W9qHK</td>\n",
       "      <td>2018-09-20T23:46:50.220Z</td>\n",
       "      <td>2</td>\n",
       "      <td>NaN</td>\n",
       "    </tr>\n",
       "    <tr>\n",
       "      <th>2</th>\n",
       "      <td>222NmogaQYwqbsuiy</td>\n",
       "      <td>nREZaG5H7eZXz2Drx</td>\n",
       "      <td>2019-01-12T21:11:10.254Z</td>\n",
       "      <td>2</td>\n",
       "      <td>NaN</td>\n",
       "    </tr>\n",
       "    <tr>\n",
       "      <th>3</th>\n",
       "      <td>222QTaFPpfAkm7J8S</td>\n",
       "      <td>nQ775HxkhFHvkt5we</td>\n",
       "      <td>2017-10-22T19:11:15.002Z</td>\n",
       "      <td>1</td>\n",
       "      <td>NaN</td>\n",
       "    </tr>\n",
       "    <tr>\n",
       "      <th>4</th>\n",
       "      <td>222R5ohwFrBc3CTgy</td>\n",
       "      <td>dsACp6BCGiqRamkFe</td>\n",
       "      <td>2018-10-15T23:01:06.619Z</td>\n",
       "      <td>2</td>\n",
       "      <td>NaN</td>\n",
       "    </tr>\n",
       "  </tbody>\n",
       "</table>\n",
       "</div>"
      ],
      "text/plain": [
       "                 _id            matchId                 createdAt  user._id  \\\n",
       "0  222BN7deQWFPRWTyY  72iqMTRwgN9JJQsBg  2017-11-27T01:25:54.689Z         1   \n",
       "1  222FGrGszSFXxnH8w  fR82mGRAGjB8W9qHK  2018-09-20T23:46:50.220Z         2   \n",
       "2  222NmogaQYwqbsuiy  nREZaG5H7eZXz2Drx  2019-01-12T21:11:10.254Z         2   \n",
       "3  222QTaFPpfAkm7J8S  nQ775HxkhFHvkt5we  2017-10-22T19:11:15.002Z         1   \n",
       "4  222R5ohwFrBc3CTgy  dsACp6BCGiqRamkFe  2018-10-15T23:01:06.619Z         2   \n",
       "\n",
       "  image  \n",
       "0   NaN  \n",
       "1   NaN  \n",
       "2   NaN  \n",
       "3   NaN  \n",
       "4   NaN  "
      ]
     },
     "execution_count": 4,
     "metadata": {},
     "output_type": "execute_result"
    }
   ],
   "source": [
    "messages.head()"
   ]
  },
  {
   "cell_type": "code",
   "execution_count": 5,
   "metadata": {},
   "outputs": [],
   "source": [
    "messages = messages.drop(['image'], axis=1)"
   ]
  },
  {
   "cell_type": "code",
   "execution_count": 31,
   "metadata": {
    "scrolled": true
   },
   "outputs": [],
   "source": [
    "#pd.to_datetime(messages.createdAt).apply(lambda x: x.strftime('%Y-%m-%d %H:%M:%S'))"
   ]
  },
  {
   "cell_type": "code",
   "execution_count": 19,
   "metadata": {
    "scrolled": false
   },
   "outputs": [],
   "source": [
    "messages_match = messages.groupby(['matchId', 'user._id'], as_index=False).count()[['matchId', 'user._id', '_id']]\n",
    "messages_match = messages_match.rename(columns={'_id': 'num_messages'})"
   ]
  },
  {
   "cell_type": "code",
   "execution_count": 20,
   "metadata": {},
   "outputs": [
    {
     "data": {
      "text/plain": [
       "Index(['matchId', 'user._id', 'num_messages'], dtype='object')"
      ]
     },
     "execution_count": 20,
     "metadata": {},
     "output_type": "execute_result"
    }
   ],
   "source": [
    "messages_match.columns"
   ]
  },
  {
   "cell_type": "code",
   "execution_count": 18,
   "metadata": {},
   "outputs": [
    {
     "data": {
      "text/plain": [
       "Index(['num_messages'], dtype='object')"
      ]
     },
     "execution_count": 18,
     "metadata": {},
     "output_type": "execute_result"
    }
   ],
   "source": [
    "messages_match.columns"
   ]
  },
  {
   "cell_type": "code",
   "execution_count": 21,
   "metadata": {},
   "outputs": [],
   "source": [
    "num1 = []\n",
    "num2 = []\n",
    "for i in range(len(messages_match)):\n",
    "    if messages_match['user._id'][i] == 1:\n",
    "        num1.append(messages_match['num_messages'][i])\n",
    "        num2.append(0)\n",
    "    else:\n",
    "        num2.append(messages_match['num_messages'][i])\n",
    "        num1.append(0)"
   ]
  },
  {
   "cell_type": "code",
   "execution_count": 22,
   "metadata": {
    "scrolled": true
   },
   "outputs": [
    {
     "data": {
      "text/html": [
       "<div>\n",
       "<style scoped>\n",
       "    .dataframe tbody tr th:only-of-type {\n",
       "        vertical-align: middle;\n",
       "    }\n",
       "\n",
       "    .dataframe tbody tr th {\n",
       "        vertical-align: top;\n",
       "    }\n",
       "\n",
       "    .dataframe thead th {\n",
       "        text-align: right;\n",
       "    }\n",
       "</style>\n",
       "<table border=\"1\" class=\"dataframe\">\n",
       "  <thead>\n",
       "    <tr style=\"text-align: right;\">\n",
       "      <th></th>\n",
       "      <th>matchId</th>\n",
       "      <th>user._id</th>\n",
       "      <th>num_messages</th>\n",
       "      <th>message_user1</th>\n",
       "      <th>message_user2</th>\n",
       "    </tr>\n",
       "  </thead>\n",
       "  <tbody>\n",
       "    <tr>\n",
       "      <th>0</th>\n",
       "      <td>222RryHijNnWqcmcY</td>\n",
       "      <td>2</td>\n",
       "      <td>1</td>\n",
       "      <td>0</td>\n",
       "      <td>1</td>\n",
       "    </tr>\n",
       "    <tr>\n",
       "      <th>1</th>\n",
       "      <td>2237TgzZo2g5QzPdx</td>\n",
       "      <td>1</td>\n",
       "      <td>1</td>\n",
       "      <td>1</td>\n",
       "      <td>0</td>\n",
       "    </tr>\n",
       "    <tr>\n",
       "      <th>2</th>\n",
       "      <td>2237ZZ7jaaSTyTKQv</td>\n",
       "      <td>2</td>\n",
       "      <td>1</td>\n",
       "      <td>0</td>\n",
       "      <td>1</td>\n",
       "    </tr>\n",
       "    <tr>\n",
       "      <th>3</th>\n",
       "      <td>223HCL8ztLRD5a7EX</td>\n",
       "      <td>2</td>\n",
       "      <td>1</td>\n",
       "      <td>0</td>\n",
       "      <td>1</td>\n",
       "    </tr>\n",
       "    <tr>\n",
       "      <th>4</th>\n",
       "      <td>223yF87BJ5txhtfzM</td>\n",
       "      <td>1</td>\n",
       "      <td>1</td>\n",
       "      <td>1</td>\n",
       "      <td>0</td>\n",
       "    </tr>\n",
       "    <tr>\n",
       "      <th>5</th>\n",
       "      <td>2248C68y7NmDz2WBp</td>\n",
       "      <td>1</td>\n",
       "      <td>2</td>\n",
       "      <td>2</td>\n",
       "      <td>0</td>\n",
       "    </tr>\n",
       "    <tr>\n",
       "      <th>6</th>\n",
       "      <td>2248C68y7NmDz2WBp</td>\n",
       "      <td>2</td>\n",
       "      <td>1</td>\n",
       "      <td>0</td>\n",
       "      <td>1</td>\n",
       "    </tr>\n",
       "    <tr>\n",
       "      <th>7</th>\n",
       "      <td>224B8gXhpZr7AwaFM</td>\n",
       "      <td>1</td>\n",
       "      <td>1</td>\n",
       "      <td>1</td>\n",
       "      <td>0</td>\n",
       "    </tr>\n",
       "    <tr>\n",
       "      <th>8</th>\n",
       "      <td>225STJnMy5zPGqacG</td>\n",
       "      <td>1</td>\n",
       "      <td>6</td>\n",
       "      <td>6</td>\n",
       "      <td>0</td>\n",
       "    </tr>\n",
       "    <tr>\n",
       "      <th>9</th>\n",
       "      <td>225STJnMy5zPGqacG</td>\n",
       "      <td>2</td>\n",
       "      <td>2</td>\n",
       "      <td>0</td>\n",
       "      <td>2</td>\n",
       "    </tr>\n",
       "    <tr>\n",
       "      <th>10</th>\n",
       "      <td>226RMCYzRoxXEiNQi</td>\n",
       "      <td>2</td>\n",
       "      <td>2</td>\n",
       "      <td>0</td>\n",
       "      <td>2</td>\n",
       "    </tr>\n",
       "    <tr>\n",
       "      <th>11</th>\n",
       "      <td>226XidjxKGaYw7yES</td>\n",
       "      <td>2</td>\n",
       "      <td>1</td>\n",
       "      <td>0</td>\n",
       "      <td>1</td>\n",
       "    </tr>\n",
       "    <tr>\n",
       "      <th>12</th>\n",
       "      <td>2272oyfsLJX24rbyS</td>\n",
       "      <td>1</td>\n",
       "      <td>7</td>\n",
       "      <td>7</td>\n",
       "      <td>0</td>\n",
       "    </tr>\n",
       "    <tr>\n",
       "      <th>13</th>\n",
       "      <td>2272oyfsLJX24rbyS</td>\n",
       "      <td>2</td>\n",
       "      <td>8</td>\n",
       "      <td>0</td>\n",
       "      <td>8</td>\n",
       "    </tr>\n",
       "    <tr>\n",
       "      <th>14</th>\n",
       "      <td>227RYxCF9dNZmxBJg</td>\n",
       "      <td>2</td>\n",
       "      <td>1</td>\n",
       "      <td>0</td>\n",
       "      <td>1</td>\n",
       "    </tr>\n",
       "    <tr>\n",
       "      <th>15</th>\n",
       "      <td>227hsgTAzHpRJBw7P</td>\n",
       "      <td>1</td>\n",
       "      <td>6</td>\n",
       "      <td>6</td>\n",
       "      <td>0</td>\n",
       "    </tr>\n",
       "    <tr>\n",
       "      <th>16</th>\n",
       "      <td>227hsgTAzHpRJBw7P</td>\n",
       "      <td>2</td>\n",
       "      <td>6</td>\n",
       "      <td>0</td>\n",
       "      <td>6</td>\n",
       "    </tr>\n",
       "    <tr>\n",
       "      <th>17</th>\n",
       "      <td>227vBnuFn7Q9vm9kG</td>\n",
       "      <td>2</td>\n",
       "      <td>1</td>\n",
       "      <td>0</td>\n",
       "      <td>1</td>\n",
       "    </tr>\n",
       "    <tr>\n",
       "      <th>18</th>\n",
       "      <td>227vdB74f9Wu3pSus</td>\n",
       "      <td>2</td>\n",
       "      <td>1</td>\n",
       "      <td>0</td>\n",
       "      <td>1</td>\n",
       "    </tr>\n",
       "    <tr>\n",
       "      <th>19</th>\n",
       "      <td>228CsMa7WFFu7tchK</td>\n",
       "      <td>2</td>\n",
       "      <td>2</td>\n",
       "      <td>0</td>\n",
       "      <td>2</td>\n",
       "    </tr>\n",
       "    <tr>\n",
       "      <th>20</th>\n",
       "      <td>228Lqe4YmzRro6R7A</td>\n",
       "      <td>2</td>\n",
       "      <td>2</td>\n",
       "      <td>0</td>\n",
       "      <td>2</td>\n",
       "    </tr>\n",
       "    <tr>\n",
       "      <th>21</th>\n",
       "      <td>228ngfZYYyYn5ikGH</td>\n",
       "      <td>1</td>\n",
       "      <td>4</td>\n",
       "      <td>4</td>\n",
       "      <td>0</td>\n",
       "    </tr>\n",
       "    <tr>\n",
       "      <th>22</th>\n",
       "      <td>228ngfZYYyYn5ikGH</td>\n",
       "      <td>2</td>\n",
       "      <td>5</td>\n",
       "      <td>0</td>\n",
       "      <td>5</td>\n",
       "    </tr>\n",
       "    <tr>\n",
       "      <th>23</th>\n",
       "      <td>229Enemq6iFTygasC</td>\n",
       "      <td>2</td>\n",
       "      <td>2</td>\n",
       "      <td>0</td>\n",
       "      <td>2</td>\n",
       "    </tr>\n",
       "    <tr>\n",
       "      <th>24</th>\n",
       "      <td>229NcP37R6xqjpHY3</td>\n",
       "      <td>2</td>\n",
       "      <td>1</td>\n",
       "      <td>0</td>\n",
       "      <td>1</td>\n",
       "    </tr>\n",
       "    <tr>\n",
       "      <th>25</th>\n",
       "      <td>229SCWQiPPYFyy74r</td>\n",
       "      <td>1</td>\n",
       "      <td>1</td>\n",
       "      <td>1</td>\n",
       "      <td>0</td>\n",
       "    </tr>\n",
       "    <tr>\n",
       "      <th>26</th>\n",
       "      <td>22B9yizoJP5MEfQbb</td>\n",
       "      <td>2</td>\n",
       "      <td>1</td>\n",
       "      <td>0</td>\n",
       "      <td>1</td>\n",
       "    </tr>\n",
       "    <tr>\n",
       "      <th>27</th>\n",
       "      <td>22BvmuSf8f45q297F</td>\n",
       "      <td>2</td>\n",
       "      <td>1</td>\n",
       "      <td>0</td>\n",
       "      <td>1</td>\n",
       "    </tr>\n",
       "    <tr>\n",
       "      <th>28</th>\n",
       "      <td>22CPHrwNA5Yv5gHi5</td>\n",
       "      <td>1</td>\n",
       "      <td>5</td>\n",
       "      <td>5</td>\n",
       "      <td>0</td>\n",
       "    </tr>\n",
       "    <tr>\n",
       "      <th>29</th>\n",
       "      <td>22CPHrwNA5Yv5gHi5</td>\n",
       "      <td>2</td>\n",
       "      <td>5</td>\n",
       "      <td>0</td>\n",
       "      <td>5</td>\n",
       "    </tr>\n",
       "  </tbody>\n",
       "</table>\n",
       "</div>"
      ],
      "text/plain": [
       "              matchId  user._id  num_messages  message_user1  message_user2\n",
       "0   222RryHijNnWqcmcY         2             1              0              1\n",
       "1   2237TgzZo2g5QzPdx         1             1              1              0\n",
       "2   2237ZZ7jaaSTyTKQv         2             1              0              1\n",
       "3   223HCL8ztLRD5a7EX         2             1              0              1\n",
       "4   223yF87BJ5txhtfzM         1             1              1              0\n",
       "5   2248C68y7NmDz2WBp         1             2              2              0\n",
       "6   2248C68y7NmDz2WBp         2             1              0              1\n",
       "7   224B8gXhpZr7AwaFM         1             1              1              0\n",
       "8   225STJnMy5zPGqacG         1             6              6              0\n",
       "9   225STJnMy5zPGqacG         2             2              0              2\n",
       "10  226RMCYzRoxXEiNQi         2             2              0              2\n",
       "11  226XidjxKGaYw7yES         2             1              0              1\n",
       "12  2272oyfsLJX24rbyS         1             7              7              0\n",
       "13  2272oyfsLJX24rbyS         2             8              0              8\n",
       "14  227RYxCF9dNZmxBJg         2             1              0              1\n",
       "15  227hsgTAzHpRJBw7P         1             6              6              0\n",
       "16  227hsgTAzHpRJBw7P         2             6              0              6\n",
       "17  227vBnuFn7Q9vm9kG         2             1              0              1\n",
       "18  227vdB74f9Wu3pSus         2             1              0              1\n",
       "19  228CsMa7WFFu7tchK         2             2              0              2\n",
       "20  228Lqe4YmzRro6R7A         2             2              0              2\n",
       "21  228ngfZYYyYn5ikGH         1             4              4              0\n",
       "22  228ngfZYYyYn5ikGH         2             5              0              5\n",
       "23  229Enemq6iFTygasC         2             2              0              2\n",
       "24  229NcP37R6xqjpHY3         2             1              0              1\n",
       "25  229SCWQiPPYFyy74r         1             1              1              0\n",
       "26  22B9yizoJP5MEfQbb         2             1              0              1\n",
       "27  22BvmuSf8f45q297F         2             1              0              1\n",
       "28  22CPHrwNA5Yv5gHi5         1             5              5              0\n",
       "29  22CPHrwNA5Yv5gHi5         2             5              0              5"
      ]
     },
     "execution_count": 22,
     "metadata": {},
     "output_type": "execute_result"
    }
   ],
   "source": [
    "messages_match['message_user1'] = num1\n",
    "messages_match['message_user2'] = num2\n",
    "messages_match.head(30)"
   ]
  },
  {
   "cell_type": "code",
   "execution_count": 23,
   "metadata": {
    "scrolled": true
   },
   "outputs": [],
   "source": [
    "messages_match = messages_match.groupby('matchId').sum()\n",
    "messages_match = messages_match.drop(columns=['user._id'])"
   ]
  },
  {
   "cell_type": "code",
   "execution_count": 24,
   "metadata": {},
   "outputs": [
    {
     "data": {
      "text/html": [
       "<div>\n",
       "<style scoped>\n",
       "    .dataframe tbody tr th:only-of-type {\n",
       "        vertical-align: middle;\n",
       "    }\n",
       "\n",
       "    .dataframe tbody tr th {\n",
       "        vertical-align: top;\n",
       "    }\n",
       "\n",
       "    .dataframe thead th {\n",
       "        text-align: right;\n",
       "    }\n",
       "</style>\n",
       "<table border=\"1\" class=\"dataframe\">\n",
       "  <thead>\n",
       "    <tr style=\"text-align: right;\">\n",
       "      <th></th>\n",
       "      <th>num_messages</th>\n",
       "      <th>message_user1</th>\n",
       "      <th>message_user2</th>\n",
       "    </tr>\n",
       "    <tr>\n",
       "      <th>matchId</th>\n",
       "      <th></th>\n",
       "      <th></th>\n",
       "      <th></th>\n",
       "    </tr>\n",
       "  </thead>\n",
       "  <tbody>\n",
       "    <tr>\n",
       "      <th>222RryHijNnWqcmcY</th>\n",
       "      <td>1</td>\n",
       "      <td>0</td>\n",
       "      <td>1</td>\n",
       "    </tr>\n",
       "    <tr>\n",
       "      <th>2237TgzZo2g5QzPdx</th>\n",
       "      <td>1</td>\n",
       "      <td>1</td>\n",
       "      <td>0</td>\n",
       "    </tr>\n",
       "    <tr>\n",
       "      <th>2237ZZ7jaaSTyTKQv</th>\n",
       "      <td>1</td>\n",
       "      <td>0</td>\n",
       "      <td>1</td>\n",
       "    </tr>\n",
       "    <tr>\n",
       "      <th>223HCL8ztLRD5a7EX</th>\n",
       "      <td>1</td>\n",
       "      <td>0</td>\n",
       "      <td>1</td>\n",
       "    </tr>\n",
       "    <tr>\n",
       "      <th>223yF87BJ5txhtfzM</th>\n",
       "      <td>1</td>\n",
       "      <td>1</td>\n",
       "      <td>0</td>\n",
       "    </tr>\n",
       "    <tr>\n",
       "      <th>2248C68y7NmDz2WBp</th>\n",
       "      <td>3</td>\n",
       "      <td>2</td>\n",
       "      <td>1</td>\n",
       "    </tr>\n",
       "    <tr>\n",
       "      <th>224B8gXhpZr7AwaFM</th>\n",
       "      <td>1</td>\n",
       "      <td>1</td>\n",
       "      <td>0</td>\n",
       "    </tr>\n",
       "    <tr>\n",
       "      <th>225STJnMy5zPGqacG</th>\n",
       "      <td>8</td>\n",
       "      <td>6</td>\n",
       "      <td>2</td>\n",
       "    </tr>\n",
       "    <tr>\n",
       "      <th>226RMCYzRoxXEiNQi</th>\n",
       "      <td>2</td>\n",
       "      <td>0</td>\n",
       "      <td>2</td>\n",
       "    </tr>\n",
       "    <tr>\n",
       "      <th>226XidjxKGaYw7yES</th>\n",
       "      <td>1</td>\n",
       "      <td>0</td>\n",
       "      <td>1</td>\n",
       "    </tr>\n",
       "    <tr>\n",
       "      <th>2272oyfsLJX24rbyS</th>\n",
       "      <td>15</td>\n",
       "      <td>7</td>\n",
       "      <td>8</td>\n",
       "    </tr>\n",
       "    <tr>\n",
       "      <th>227RYxCF9dNZmxBJg</th>\n",
       "      <td>1</td>\n",
       "      <td>0</td>\n",
       "      <td>1</td>\n",
       "    </tr>\n",
       "    <tr>\n",
       "      <th>227hsgTAzHpRJBw7P</th>\n",
       "      <td>12</td>\n",
       "      <td>6</td>\n",
       "      <td>6</td>\n",
       "    </tr>\n",
       "    <tr>\n",
       "      <th>227vBnuFn7Q9vm9kG</th>\n",
       "      <td>1</td>\n",
       "      <td>0</td>\n",
       "      <td>1</td>\n",
       "    </tr>\n",
       "    <tr>\n",
       "      <th>227vdB74f9Wu3pSus</th>\n",
       "      <td>1</td>\n",
       "      <td>0</td>\n",
       "      <td>1</td>\n",
       "    </tr>\n",
       "    <tr>\n",
       "      <th>228CsMa7WFFu7tchK</th>\n",
       "      <td>2</td>\n",
       "      <td>0</td>\n",
       "      <td>2</td>\n",
       "    </tr>\n",
       "    <tr>\n",
       "      <th>228Lqe4YmzRro6R7A</th>\n",
       "      <td>2</td>\n",
       "      <td>0</td>\n",
       "      <td>2</td>\n",
       "    </tr>\n",
       "    <tr>\n",
       "      <th>228ngfZYYyYn5ikGH</th>\n",
       "      <td>9</td>\n",
       "      <td>4</td>\n",
       "      <td>5</td>\n",
       "    </tr>\n",
       "    <tr>\n",
       "      <th>229Enemq6iFTygasC</th>\n",
       "      <td>2</td>\n",
       "      <td>0</td>\n",
       "      <td>2</td>\n",
       "    </tr>\n",
       "    <tr>\n",
       "      <th>229NcP37R6xqjpHY3</th>\n",
       "      <td>1</td>\n",
       "      <td>0</td>\n",
       "      <td>1</td>\n",
       "    </tr>\n",
       "    <tr>\n",
       "      <th>229SCWQiPPYFyy74r</th>\n",
       "      <td>1</td>\n",
       "      <td>1</td>\n",
       "      <td>0</td>\n",
       "    </tr>\n",
       "    <tr>\n",
       "      <th>22B9yizoJP5MEfQbb</th>\n",
       "      <td>1</td>\n",
       "      <td>0</td>\n",
       "      <td>1</td>\n",
       "    </tr>\n",
       "    <tr>\n",
       "      <th>22BvmuSf8f45q297F</th>\n",
       "      <td>1</td>\n",
       "      <td>0</td>\n",
       "      <td>1</td>\n",
       "    </tr>\n",
       "    <tr>\n",
       "      <th>22CPHrwNA5Yv5gHi5</th>\n",
       "      <td>10</td>\n",
       "      <td>5</td>\n",
       "      <td>5</td>\n",
       "    </tr>\n",
       "    <tr>\n",
       "      <th>22CQnqzbenMYNccKB</th>\n",
       "      <td>8</td>\n",
       "      <td>5</td>\n",
       "      <td>3</td>\n",
       "    </tr>\n",
       "    <tr>\n",
       "      <th>22Ck8kaFsCBtRSpHT</th>\n",
       "      <td>1</td>\n",
       "      <td>1</td>\n",
       "      <td>0</td>\n",
       "    </tr>\n",
       "    <tr>\n",
       "      <th>22Cwd9uJxcah3MgnX</th>\n",
       "      <td>1</td>\n",
       "      <td>0</td>\n",
       "      <td>1</td>\n",
       "    </tr>\n",
       "    <tr>\n",
       "      <th>22E9vJzrvDtwfLSbW</th>\n",
       "      <td>1</td>\n",
       "      <td>0</td>\n",
       "      <td>1</td>\n",
       "    </tr>\n",
       "    <tr>\n",
       "      <th>22ENcfDx6Rip28tSW</th>\n",
       "      <td>2</td>\n",
       "      <td>0</td>\n",
       "      <td>2</td>\n",
       "    </tr>\n",
       "    <tr>\n",
       "      <th>22FMWjijzMNudWmhW</th>\n",
       "      <td>1</td>\n",
       "      <td>0</td>\n",
       "      <td>1</td>\n",
       "    </tr>\n",
       "  </tbody>\n",
       "</table>\n",
       "</div>"
      ],
      "text/plain": [
       "                   num_messages  message_user1  message_user2\n",
       "matchId                                                      \n",
       "222RryHijNnWqcmcY             1              0              1\n",
       "2237TgzZo2g5QzPdx             1              1              0\n",
       "2237ZZ7jaaSTyTKQv             1              0              1\n",
       "223HCL8ztLRD5a7EX             1              0              1\n",
       "223yF87BJ5txhtfzM             1              1              0\n",
       "2248C68y7NmDz2WBp             3              2              1\n",
       "224B8gXhpZr7AwaFM             1              1              0\n",
       "225STJnMy5zPGqacG             8              6              2\n",
       "226RMCYzRoxXEiNQi             2              0              2\n",
       "226XidjxKGaYw7yES             1              0              1\n",
       "2272oyfsLJX24rbyS            15              7              8\n",
       "227RYxCF9dNZmxBJg             1              0              1\n",
       "227hsgTAzHpRJBw7P            12              6              6\n",
       "227vBnuFn7Q9vm9kG             1              0              1\n",
       "227vdB74f9Wu3pSus             1              0              1\n",
       "228CsMa7WFFu7tchK             2              0              2\n",
       "228Lqe4YmzRro6R7A             2              0              2\n",
       "228ngfZYYyYn5ikGH             9              4              5\n",
       "229Enemq6iFTygasC             2              0              2\n",
       "229NcP37R6xqjpHY3             1              0              1\n",
       "229SCWQiPPYFyy74r             1              1              0\n",
       "22B9yizoJP5MEfQbb             1              0              1\n",
       "22BvmuSf8f45q297F             1              0              1\n",
       "22CPHrwNA5Yv5gHi5            10              5              5\n",
       "22CQnqzbenMYNccKB             8              5              3\n",
       "22Ck8kaFsCBtRSpHT             1              1              0\n",
       "22Cwd9uJxcah3MgnX             1              0              1\n",
       "22E9vJzrvDtwfLSbW             1              0              1\n",
       "22ENcfDx6Rip28tSW             2              0              2\n",
       "22FMWjijzMNudWmhW             1              0              1"
      ]
     },
     "execution_count": 24,
     "metadata": {},
     "output_type": "execute_result"
    }
   ],
   "source": [
    "messages_match.head(30)"
   ]
  },
  {
   "cell_type": "code",
   "execution_count": 78,
   "metadata": {},
   "outputs": [],
   "source": [
    "messages_match.to_pickle(\"dataset/messages_match.pkl\")"
   ]
  },
  {
   "cell_type": "markdown",
   "metadata": {},
   "source": [
    "### Match separated "
   ]
  },
  {
   "cell_type": "code",
   "execution_count": 328,
   "metadata": {
    "scrolled": false
   },
   "outputs": [
    {
     "data": {
      "text/html": [
       "<div>\n",
       "<style scoped>\n",
       "    .dataframe tbody tr th:only-of-type {\n",
       "        vertical-align: middle;\n",
       "    }\n",
       "\n",
       "    .dataframe tbody tr th {\n",
       "        vertical-align: top;\n",
       "    }\n",
       "\n",
       "    .dataframe thead th {\n",
       "        text-align: right;\n",
       "    }\n",
       "</style>\n",
       "<table border=\"1\" class=\"dataframe\">\n",
       "  <thead>\n",
       "    <tr style=\"text-align: right;\">\n",
       "      <th></th>\n",
       "      <th>_id</th>\n",
       "      <th>matchid</th>\n",
       "      <th>type</th>\n",
       "      <th>when</th>\n",
       "      <th>userid</th>\n",
       "    </tr>\n",
       "  </thead>\n",
       "  <tbody>\n",
       "    <tr>\n",
       "      <th>0</th>\n",
       "      <td>222JjMBoD6JqeJeRe</td>\n",
       "      <td>xMNuz6Aj9kqpjiaEz</td>\n",
       "      <td>fuck</td>\n",
       "      <td>2018-11-09T10:58:28.964Z</td>\n",
       "      <td>Ey8FWmLgmT6AiW9Ye</td>\n",
       "    </tr>\n",
       "    <tr>\n",
       "      <th>1</th>\n",
       "      <td>222PdHXyqBwcx3RNn</td>\n",
       "      <td>JjELwSCwJJgNdgZdh</td>\n",
       "      <td>kill</td>\n",
       "      <td>2018-07-03T05:24:43.122Z</td>\n",
       "      <td>NQ5KSNLx4CXu6HS5Y</td>\n",
       "    </tr>\n",
       "    <tr>\n",
       "      <th>2</th>\n",
       "      <td>222RvFXyxj2JmEZhS</td>\n",
       "      <td>QBMAGYAwEeLCxLT56</td>\n",
       "      <td>kill</td>\n",
       "      <td>2017-11-06T09:32:26.579Z</td>\n",
       "      <td>jjbhusRAkZwMMznuk</td>\n",
       "    </tr>\n",
       "    <tr>\n",
       "      <th>3</th>\n",
       "      <td>222ScG5EdXyRiBcxK</td>\n",
       "      <td>RteWRWXCzipppLMyF</td>\n",
       "      <td>fuck</td>\n",
       "      <td>2018-01-22T01:03:20.883Z</td>\n",
       "      <td>xz7izY8gAMbwrPyCX</td>\n",
       "    </tr>\n",
       "    <tr>\n",
       "      <th>4</th>\n",
       "      <td>222bfXQEktsW4QoCG</td>\n",
       "      <td>cXcoCKDMyCsiA2Zft</td>\n",
       "      <td>fuck</td>\n",
       "      <td>2017-08-28T15:05:39.989Z</td>\n",
       "      <td>83YFzzB4ofAY8Wcxv</td>\n",
       "    </tr>\n",
       "  </tbody>\n",
       "</table>\n",
       "</div>"
      ],
      "text/plain": [
       "                 _id            matchid  type                      when  \\\n",
       "0  222JjMBoD6JqeJeRe  xMNuz6Aj9kqpjiaEz  fuck  2018-11-09T10:58:28.964Z   \n",
       "1  222PdHXyqBwcx3RNn  JjELwSCwJJgNdgZdh  kill  2018-07-03T05:24:43.122Z   \n",
       "2  222RvFXyxj2JmEZhS  QBMAGYAwEeLCxLT56  kill  2017-11-06T09:32:26.579Z   \n",
       "3  222ScG5EdXyRiBcxK  RteWRWXCzipppLMyF  fuck  2018-01-22T01:03:20.883Z   \n",
       "4  222bfXQEktsW4QoCG  cXcoCKDMyCsiA2Zft  fuck  2017-08-28T15:05:39.989Z   \n",
       "\n",
       "              userid  \n",
       "0  Ey8FWmLgmT6AiW9Ye  \n",
       "1  NQ5KSNLx4CXu6HS5Y  \n",
       "2  jjbhusRAkZwMMznuk  \n",
       "3  xz7izY8gAMbwrPyCX  \n",
       "4  83YFzzB4ofAY8Wcxv  "
      ]
     },
     "execution_count": 328,
     "metadata": {},
     "output_type": "execute_result"
    }
   ],
   "source": [
    "match_sep = pd.read_csv(\"dataset/matches_separated.csv\")\n",
    "match_sep.head()"
   ]
  },
  {
   "cell_type": "code",
   "execution_count": 111,
   "metadata": {},
   "outputs": [
    {
     "data": {
      "text/plain": [
       "(1659293, 5)"
      ]
     },
     "execution_count": 111,
     "metadata": {},
     "output_type": "execute_result"
    }
   ],
   "source": [
    "match_sep.shape"
   ]
  },
  {
   "cell_type": "code",
   "execution_count": 329,
   "metadata": {},
   "outputs": [],
   "source": [
    "match_sep = match_sep.drop('_id', axis=1)"
   ]
  },
  {
   "cell_type": "code",
   "execution_count": 330,
   "metadata": {},
   "outputs": [],
   "source": [
    "match_sep = match_sep.dropna()"
   ]
  },
  {
   "cell_type": "markdown",
   "metadata": {},
   "source": [
    "### Matches"
   ]
  },
  {
   "cell_type": "code",
   "execution_count": 7,
   "metadata": {
    "scrolled": true
   },
   "outputs": [
    {
     "data": {
      "text/html": [
       "<div>\n",
       "<style scoped>\n",
       "    .dataframe tbody tr th:only-of-type {\n",
       "        vertical-align: middle;\n",
       "    }\n",
       "\n",
       "    .dataframe tbody tr th {\n",
       "        vertical-align: top;\n",
       "    }\n",
       "\n",
       "    .dataframe thead th {\n",
       "        text-align: right;\n",
       "    }\n",
       "</style>\n",
       "<table border=\"1\" class=\"dataframe\">\n",
       "  <thead>\n",
       "    <tr style=\"text-align: right;\">\n",
       "      <th></th>\n",
       "      <th>_id</th>\n",
       "      <th>first</th>\n",
       "      <th>second</th>\n",
       "      <th>type</th>\n",
       "      <th>disabled</th>\n",
       "      <th>unread</th>\n",
       "      <th>when</th>\n",
       "      <th>last_action</th>\n",
       "      <th>hidden</th>\n",
       "      <th>firstMessage.userid</th>\n",
       "    </tr>\n",
       "  </thead>\n",
       "  <tbody>\n",
       "    <tr>\n",
       "      <th>0</th>\n",
       "      <td>222JvGYF9zsXjwLr3</td>\n",
       "      <td>MRbsqSiqeZuAwtvrk</td>\n",
       "      <td>6JLKbTAfxkc3ZXHe9</td>\n",
       "      <td>fuck</td>\n",
       "      <td>False</td>\n",
       "      <td>-1</td>\n",
       "      <td>2017-11-06T20:46:03.581Z</td>\n",
       "      <td>2017-11-06T20:46:03.581Z</td>\n",
       "      <td>True</td>\n",
       "      <td>NaN</td>\n",
       "    </tr>\n",
       "    <tr>\n",
       "      <th>1</th>\n",
       "      <td>222RryHijNnWqcmcY</td>\n",
       "      <td>q3pfQyrqukyfqXc4S</td>\n",
       "      <td>4kppDPGXddpdNp6Z4</td>\n",
       "      <td>marry</td>\n",
       "      <td>False</td>\n",
       "      <td>1</td>\n",
       "      <td>2016-10-30T12:39:58.779Z</td>\n",
       "      <td>2016-10-30T12:40:16.311Z</td>\n",
       "      <td>False</td>\n",
       "      <td>4kppDPGXddpdNp6Z4</td>\n",
       "    </tr>\n",
       "    <tr>\n",
       "      <th>2</th>\n",
       "      <td>222Sy3ziyXF36mgYK</td>\n",
       "      <td>GCzNzBZvEYu6cLkrB</td>\n",
       "      <td>iMSNELpJHq3mcXdSf</td>\n",
       "      <td>kill</td>\n",
       "      <td>False</td>\n",
       "      <td>-1</td>\n",
       "      <td>2018-10-07T17:02:42.856Z</td>\n",
       "      <td>2018-10-07T17:02:42.856Z</td>\n",
       "      <td>False</td>\n",
       "      <td>NaN</td>\n",
       "    </tr>\n",
       "    <tr>\n",
       "      <th>3</th>\n",
       "      <td>222c7tkmo2bzerpt3</td>\n",
       "      <td>bFq3hLoH4C8LtpfLd</td>\n",
       "      <td>LCMWH9rEudQtdGkTe</td>\n",
       "      <td>marry</td>\n",
       "      <td>False</td>\n",
       "      <td>-1</td>\n",
       "      <td>2017-11-11T21:52:06.246Z</td>\n",
       "      <td>2017-11-11T21:52:06.246Z</td>\n",
       "      <td>False</td>\n",
       "      <td>NaN</td>\n",
       "    </tr>\n",
       "    <tr>\n",
       "      <th>4</th>\n",
       "      <td>2237HymQ3munTgj84</td>\n",
       "      <td>hDXJDLirEyBvJdwR4</td>\n",
       "      <td>yzrv7EDrP6Fyqn5Fv</td>\n",
       "      <td>marry</td>\n",
       "      <td>False</td>\n",
       "      <td>-1</td>\n",
       "      <td>2017-09-04T11:59:28.779Z</td>\n",
       "      <td>2017-09-04T11:59:28.779Z</td>\n",
       "      <td>False</td>\n",
       "      <td>NaN</td>\n",
       "    </tr>\n",
       "  </tbody>\n",
       "</table>\n",
       "</div>"
      ],
      "text/plain": [
       "                 _id              first             second   type  disabled  \\\n",
       "0  222JvGYF9zsXjwLr3  MRbsqSiqeZuAwtvrk  6JLKbTAfxkc3ZXHe9   fuck     False   \n",
       "1  222RryHijNnWqcmcY  q3pfQyrqukyfqXc4S  4kppDPGXddpdNp6Z4  marry     False   \n",
       "2  222Sy3ziyXF36mgYK  GCzNzBZvEYu6cLkrB  iMSNELpJHq3mcXdSf   kill     False   \n",
       "3  222c7tkmo2bzerpt3  bFq3hLoH4C8LtpfLd  LCMWH9rEudQtdGkTe  marry     False   \n",
       "4  2237HymQ3munTgj84  hDXJDLirEyBvJdwR4  yzrv7EDrP6Fyqn5Fv  marry     False   \n",
       "\n",
       "   unread                      when               last_action  hidden  \\\n",
       "0      -1  2017-11-06T20:46:03.581Z  2017-11-06T20:46:03.581Z    True   \n",
       "1       1  2016-10-30T12:39:58.779Z  2016-10-30T12:40:16.311Z   False   \n",
       "2      -1  2018-10-07T17:02:42.856Z  2018-10-07T17:02:42.856Z   False   \n",
       "3      -1  2017-11-11T21:52:06.246Z  2017-11-11T21:52:06.246Z   False   \n",
       "4      -1  2017-09-04T11:59:28.779Z  2017-09-04T11:59:28.779Z   False   \n",
       "\n",
       "  firstMessage.userid  \n",
       "0                 NaN  \n",
       "1   4kppDPGXddpdNp6Z4  \n",
       "2                 NaN  \n",
       "3                 NaN  \n",
       "4                 NaN  "
      ]
     },
     "execution_count": 7,
     "metadata": {},
     "output_type": "execute_result"
    }
   ],
   "source": [
    "matches = pd.read_csv(\"dataset/matches.csv\")\n",
    "matches.head()"
   ]
  },
  {
   "cell_type": "code",
   "execution_count": 183,
   "metadata": {
    "scrolled": true
   },
   "outputs": [
    {
     "data": {
      "text/plain": [
       "65767"
      ]
     },
     "execution_count": 183,
     "metadata": {},
     "output_type": "execute_result"
    }
   ],
   "source": [
    "len(matches['first'].unique())"
   ]
  },
  {
   "cell_type": "code",
   "execution_count": 36,
   "metadata": {},
   "outputs": [],
   "source": [
    "matches['type'] = matches.type.astype('category')\n",
    "matches['when'] = matches.when.astype('datetime64[s]')\n",
    "matches['last_action'] = matches.last_action.astype('datetime64[s]')"
   ]
  },
  {
   "cell_type": "code",
   "execution_count": 38,
   "metadata": {},
   "outputs": [],
   "source": [
    "matches['message'] = matches['firstMessage.userid'].notnull()"
   ]
  },
  {
   "cell_type": "code",
   "execution_count": null,
   "metadata": {},
   "outputs": [],
   "source": [
    "matches = matches[matches['first'].notnull()]"
   ]
  },
  {
   "cell_type": "code",
   "execution_count": 337,
   "metadata": {},
   "outputs": [],
   "source": [
    "matches = matches.rename(columns={'_id': 'matchid'})"
   ]
  },
  {
   "cell_type": "code",
   "execution_count": 338,
   "metadata": {},
   "outputs": [],
   "source": [
    "matches.to_pickle('dataset/matches.pkl')"
   ]
  },
  {
   "cell_type": "markdown",
   "metadata": {},
   "source": [
    "### Check matches and match_sep"
   ]
  },
  {
   "cell_type": "code",
   "execution_count": 335,
   "metadata": {},
   "outputs": [],
   "source": [
    "matches = pd.read_pickle('dataset/matches_nullsdropped.pkl')"
   ]
  },
  {
   "cell_type": "code",
   "execution_count": 30,
   "metadata": {
    "scrolled": true
   },
   "outputs": [
    {
     "data": {
      "text/plain": [
       "(859261, 11)"
      ]
     },
     "execution_count": 30,
     "metadata": {},
     "output_type": "execute_result"
    }
   ],
   "source": [
    "matches.shape"
   ]
  },
  {
   "cell_type": "code",
   "execution_count": 131,
   "metadata": {
    "scrolled": true
   },
   "outputs": [
    {
     "data": {
      "text/plain": [
       "(1659293, 4)"
      ]
     },
     "execution_count": 131,
     "metadata": {},
     "output_type": "execute_result"
    }
   ],
   "source": [
    "match_sep.shape"
   ]
  },
  {
   "cell_type": "code",
   "execution_count": 333,
   "metadata": {
    "scrolled": false
   },
   "outputs": [
    {
     "data": {
      "text/html": [
       "<div>\n",
       "<style scoped>\n",
       "    .dataframe tbody tr th:only-of-type {\n",
       "        vertical-align: middle;\n",
       "    }\n",
       "\n",
       "    .dataframe tbody tr th {\n",
       "        vertical-align: top;\n",
       "    }\n",
       "\n",
       "    .dataframe thead th {\n",
       "        text-align: right;\n",
       "    }\n",
       "</style>\n",
       "<table border=\"1\" class=\"dataframe\">\n",
       "  <thead>\n",
       "    <tr style=\"text-align: right;\">\n",
       "      <th></th>\n",
       "      <th>type</th>\n",
       "      <th>when</th>\n",
       "      <th>userid</th>\n",
       "    </tr>\n",
       "    <tr>\n",
       "      <th>matchid</th>\n",
       "      <th></th>\n",
       "      <th></th>\n",
       "      <th></th>\n",
       "    </tr>\n",
       "  </thead>\n",
       "  <tbody>\n",
       "    <tr>\n",
       "      <th>73sM8xCvJGz3WtH3W</th>\n",
       "      <td>1</td>\n",
       "      <td>1</td>\n",
       "      <td>1</td>\n",
       "    </tr>\n",
       "    <tr>\n",
       "      <th>BvKELsBcD6pS4GwjL</th>\n",
       "      <td>1</td>\n",
       "      <td>1</td>\n",
       "      <td>1</td>\n",
       "    </tr>\n",
       "    <tr>\n",
       "      <th>DzziAJeLN5YhFmcXa</th>\n",
       "      <td>4</td>\n",
       "      <td>4</td>\n",
       "      <td>4</td>\n",
       "    </tr>\n",
       "    <tr>\n",
       "      <th>QPKkScuBTcJaNXLh8</th>\n",
       "      <td>1</td>\n",
       "      <td>1</td>\n",
       "      <td>1</td>\n",
       "    </tr>\n",
       "    <tr>\n",
       "      <th>br8mBKY7nZjHYXT9y</th>\n",
       "      <td>3</td>\n",
       "      <td>3</td>\n",
       "      <td>3</td>\n",
       "    </tr>\n",
       "    <tr>\n",
       "      <th>iNZ7fxgARC4SvhHDj</th>\n",
       "      <td>4</td>\n",
       "      <td>4</td>\n",
       "      <td>4</td>\n",
       "    </tr>\n",
       "  </tbody>\n",
       "</table>\n",
       "</div>"
      ],
      "text/plain": [
       "                   type  when  userid\n",
       "matchid                              \n",
       "73sM8xCvJGz3WtH3W     1     1       1\n",
       "BvKELsBcD6pS4GwjL     1     1       1\n",
       "DzziAJeLN5YhFmcXa     4     4       4\n",
       "QPKkScuBTcJaNXLh8     1     1       1\n",
       "br8mBKY7nZjHYXT9y     3     3       3\n",
       "iNZ7fxgARC4SvhHDj     4     4       4"
      ]
     },
     "execution_count": 333,
     "metadata": {},
     "output_type": "execute_result"
    }
   ],
   "source": [
    "match_sep.groupby('matchid').count()[match_sep.groupby('matchid').count().userid != 2] #[match_sep.matchid=='222JvGYF9zsXjwLr3']"
   ]
  },
  {
   "cell_type": "code",
   "execution_count": 339,
   "metadata": {
    "scrolled": true
   },
   "outputs": [
    {
     "data": {
      "text/html": [
       "<div>\n",
       "<style scoped>\n",
       "    .dataframe tbody tr th:only-of-type {\n",
       "        vertical-align: middle;\n",
       "    }\n",
       "\n",
       "    .dataframe tbody tr th {\n",
       "        vertical-align: top;\n",
       "    }\n",
       "\n",
       "    .dataframe thead th {\n",
       "        text-align: right;\n",
       "    }\n",
       "</style>\n",
       "<table border=\"1\" class=\"dataframe\">\n",
       "  <thead>\n",
       "    <tr style=\"text-align: right;\">\n",
       "      <th></th>\n",
       "      <th>matchid</th>\n",
       "      <th>first</th>\n",
       "      <th>second</th>\n",
       "      <th>type</th>\n",
       "      <th>disabled</th>\n",
       "      <th>unread</th>\n",
       "      <th>when</th>\n",
       "      <th>last_action</th>\n",
       "      <th>hidden</th>\n",
       "      <th>firstMessage.userid</th>\n",
       "      <th>message</th>\n",
       "    </tr>\n",
       "  </thead>\n",
       "  <tbody>\n",
       "    <tr>\n",
       "      <th>78402</th>\n",
       "      <td>73sM8xCvJGz3WtH3W</td>\n",
       "      <td>BnpDYgYxJWJandztW</td>\n",
       "      <td>b6uJrRBMrtyjfW5XB</td>\n",
       "      <td>fuck</td>\n",
       "      <td>False</td>\n",
       "      <td>0</td>\n",
       "      <td>2017-10-21 07:59:34</td>\n",
       "      <td>2017-10-21 21:57:30</td>\n",
       "      <td>False</td>\n",
       "      <td>b6uJrRBMrtyjfW5XB</td>\n",
       "      <td>True</td>\n",
       "    </tr>\n",
       "  </tbody>\n",
       "</table>\n",
       "</div>"
      ],
      "text/plain": [
       "                 matchid              first             second  type  \\\n",
       "78402  73sM8xCvJGz3WtH3W  BnpDYgYxJWJandztW  b6uJrRBMrtyjfW5XB  fuck   \n",
       "\n",
       "       disabled  unread                when         last_action  hidden  \\\n",
       "78402     False       0 2017-10-21 07:59:34 2017-10-21 21:57:30   False   \n",
       "\n",
       "      firstMessage.userid  message  \n",
       "78402   b6uJrRBMrtyjfW5XB     True  "
      ]
     },
     "execution_count": 339,
     "metadata": {},
     "output_type": "execute_result"
    }
   ],
   "source": [
    "matches[matches.matchid=='73sM8xCvJGz3WtH3W']"
   ]
  },
  {
   "cell_type": "code",
   "execution_count": 141,
   "metadata": {
    "scrolled": false
   },
   "outputs": [
    {
     "data": {
      "text/html": [
       "<div>\n",
       "<style scoped>\n",
       "    .dataframe tbody tr th:only-of-type {\n",
       "        vertical-align: middle;\n",
       "    }\n",
       "\n",
       "    .dataframe tbody tr th {\n",
       "        vertical-align: top;\n",
       "    }\n",
       "\n",
       "    .dataframe thead th {\n",
       "        text-align: right;\n",
       "    }\n",
       "</style>\n",
       "<table border=\"1\" class=\"dataframe\">\n",
       "  <thead>\n",
       "    <tr style=\"text-align: right;\">\n",
       "      <th></th>\n",
       "      <th>matchid</th>\n",
       "      <th>type</th>\n",
       "      <th>when</th>\n",
       "      <th>userid</th>\n",
       "    </tr>\n",
       "  </thead>\n",
       "  <tbody>\n",
       "    <tr>\n",
       "      <th>1518948</th>\n",
       "      <td>73sM8xCvJGz3WtH3W</td>\n",
       "      <td>fuck</td>\n",
       "      <td>2017-10-21 07:59:34</td>\n",
       "      <td>b6uJrRBMrtyjfW5XB</td>\n",
       "    </tr>\n",
       "  </tbody>\n",
       "</table>\n",
       "</div>"
      ],
      "text/plain": [
       "                   matchid  type                when             userid\n",
       "1518948  73sM8xCvJGz3WtH3W  fuck 2017-10-21 07:59:34  b6uJrRBMrtyjfW5XB"
      ]
     },
     "execution_count": 141,
     "metadata": {},
     "output_type": "execute_result"
    }
   ],
   "source": [
    "match_sep[match_sep.matchid=='73sM8xCvJGz3WtH3W']"
   ]
  },
  {
   "cell_type": "code",
   "execution_count": 176,
   "metadata": {
    "scrolled": true
   },
   "outputs": [
    {
     "data": {
      "text/html": [
       "<div>\n",
       "<style scoped>\n",
       "    .dataframe tbody tr th:only-of-type {\n",
       "        vertical-align: middle;\n",
       "    }\n",
       "\n",
       "    .dataframe tbody tr th {\n",
       "        vertical-align: top;\n",
       "    }\n",
       "\n",
       "    .dataframe thead th {\n",
       "        text-align: right;\n",
       "    }\n",
       "</style>\n",
       "<table border=\"1\" class=\"dataframe\">\n",
       "  <thead>\n",
       "    <tr style=\"text-align: right;\">\n",
       "      <th></th>\n",
       "      <th>matchid</th>\n",
       "      <th>first</th>\n",
       "      <th>second</th>\n",
       "      <th>type</th>\n",
       "      <th>disabled</th>\n",
       "      <th>unread</th>\n",
       "      <th>when</th>\n",
       "      <th>last_action</th>\n",
       "      <th>hidden</th>\n",
       "      <th>firstMessage.userid</th>\n",
       "      <th>message</th>\n",
       "    </tr>\n",
       "  </thead>\n",
       "  <tbody>\n",
       "    <tr>\n",
       "      <th>350391</th>\n",
       "      <td>QPKkScuBTcJaNXLh8</td>\n",
       "      <td>ZBkDiGcJfffixRbd5</td>\n",
       "      <td>udrGuAjurmTaCr5oH</td>\n",
       "      <td>fuck</td>\n",
       "      <td>False</td>\n",
       "      <td>0</td>\n",
       "      <td>2017-10-19 20:48:28</td>\n",
       "      <td>2017-10-19 20:54:03</td>\n",
       "      <td>True</td>\n",
       "      <td>udrGuAjurmTaCr5oH</td>\n",
       "      <td>True</td>\n",
       "    </tr>\n",
       "  </tbody>\n",
       "</table>\n",
       "</div>"
      ],
      "text/plain": [
       "                  matchid              first             second  type  \\\n",
       "350391  QPKkScuBTcJaNXLh8  ZBkDiGcJfffixRbd5  udrGuAjurmTaCr5oH  fuck   \n",
       "\n",
       "        disabled  unread                when         last_action  hidden  \\\n",
       "350391     False       0 2017-10-19 20:48:28 2017-10-19 20:54:03    True   \n",
       "\n",
       "       firstMessage.userid  message  \n",
       "350391   udrGuAjurmTaCr5oH     True  "
      ]
     },
     "execution_count": 176,
     "metadata": {},
     "output_type": "execute_result"
    }
   ],
   "source": [
    "matches[matches.matchid=='QPKkScuBTcJaNXLh8']"
   ]
  },
  {
   "cell_type": "code",
   "execution_count": 177,
   "metadata": {
    "scrolled": true
   },
   "outputs": [
    {
     "data": {
      "text/html": [
       "<div>\n",
       "<style scoped>\n",
       "    .dataframe tbody tr th:only-of-type {\n",
       "        vertical-align: middle;\n",
       "    }\n",
       "\n",
       "    .dataframe tbody tr th {\n",
       "        vertical-align: top;\n",
       "    }\n",
       "\n",
       "    .dataframe thead th {\n",
       "        text-align: right;\n",
       "    }\n",
       "</style>\n",
       "<table border=\"1\" class=\"dataframe\">\n",
       "  <thead>\n",
       "    <tr style=\"text-align: right;\">\n",
       "      <th></th>\n",
       "      <th>matchid</th>\n",
       "      <th>type</th>\n",
       "      <th>when</th>\n",
       "      <th>userid</th>\n",
       "    </tr>\n",
       "  </thead>\n",
       "  <tbody>\n",
       "    <tr>\n",
       "      <th>45885</th>\n",
       "      <td>QPKkScuBTcJaNXLh8</td>\n",
       "      <td>fuck</td>\n",
       "      <td>2017-10-19 20:48:28</td>\n",
       "      <td>ZBkDiGcJfffixRbd5</td>\n",
       "    </tr>\n",
       "  </tbody>\n",
       "</table>\n",
       "</div>"
      ],
      "text/plain": [
       "                 matchid  type                when             userid\n",
       "45885  QPKkScuBTcJaNXLh8  fuck 2017-10-19 20:48:28  ZBkDiGcJfffixRbd5"
      ]
     },
     "execution_count": 177,
     "metadata": {},
     "output_type": "execute_result"
    }
   ],
   "source": [
    "match_sep[match_sep.matchid=='QPKkScuBTcJaNXLh8']"
   ]
  },
  {
   "cell_type": "markdown",
   "metadata": {},
   "source": [
    "match_sep is missing user 'BnpDYgYxJWJandztW' for match id '73sM8xCvJGz3WtH3W' and user 'udrGuAjurmTaCr5oH' for match id 'QPKkScuBTcJaNXLh8'"
   ]
  },
  {
   "cell_type": "code",
   "execution_count": 178,
   "metadata": {},
   "outputs": [
    {
     "data": {
      "text/html": [
       "<div>\n",
       "<style scoped>\n",
       "    .dataframe tbody tr th:only-of-type {\n",
       "        vertical-align: middle;\n",
       "    }\n",
       "\n",
       "    .dataframe tbody tr th {\n",
       "        vertical-align: top;\n",
       "    }\n",
       "\n",
       "    .dataframe thead th {\n",
       "        text-align: right;\n",
       "    }\n",
       "</style>\n",
       "<table border=\"1\" class=\"dataframe\">\n",
       "  <thead>\n",
       "    <tr style=\"text-align: right;\">\n",
       "      <th></th>\n",
       "      <th>num_messages</th>\n",
       "      <th>message_user1</th>\n",
       "      <th>message_user2</th>\n",
       "    </tr>\n",
       "    <tr>\n",
       "      <th>matchId</th>\n",
       "      <th></th>\n",
       "      <th></th>\n",
       "      <th></th>\n",
       "    </tr>\n",
       "  </thead>\n",
       "  <tbody>\n",
       "    <tr>\n",
       "      <th>QPKkScuBTcJaNXLh8</th>\n",
       "      <td>1</td>\n",
       "      <td>1</td>\n",
       "      <td>0</td>\n",
       "    </tr>\n",
       "  </tbody>\n",
       "</table>\n",
       "</div>"
      ],
      "text/plain": [
       "                   num_messages  message_user1  message_user2\n",
       "matchId                                                      \n",
       "QPKkScuBTcJaNXLh8             1              1              0"
      ]
     },
     "execution_count": 178,
     "metadata": {},
     "output_type": "execute_result"
    }
   ],
   "source": [
    "messages[messages.index=='QPKkScuBTcJaNXLh8']"
   ]
  },
  {
   "cell_type": "code",
   "execution_count": 179,
   "metadata": {
    "scrolled": true
   },
   "outputs": [
    {
     "data": {
      "text/html": [
       "<div>\n",
       "<style scoped>\n",
       "    .dataframe tbody tr th:only-of-type {\n",
       "        vertical-align: middle;\n",
       "    }\n",
       "\n",
       "    .dataframe tbody tr th {\n",
       "        vertical-align: top;\n",
       "    }\n",
       "\n",
       "    .dataframe thead th {\n",
       "        text-align: right;\n",
       "    }\n",
       "</style>\n",
       "<table border=\"1\" class=\"dataframe\">\n",
       "  <thead>\n",
       "    <tr style=\"text-align: right;\">\n",
       "      <th></th>\n",
       "      <th>num_messages</th>\n",
       "      <th>message_user1</th>\n",
       "      <th>message_user2</th>\n",
       "    </tr>\n",
       "    <tr>\n",
       "      <th>matchId</th>\n",
       "      <th></th>\n",
       "      <th></th>\n",
       "      <th></th>\n",
       "    </tr>\n",
       "  </thead>\n",
       "  <tbody>\n",
       "    <tr>\n",
       "      <th>73sM8xCvJGz3WtH3W</th>\n",
       "      <td>12</td>\n",
       "      <td>7</td>\n",
       "      <td>5</td>\n",
       "    </tr>\n",
       "  </tbody>\n",
       "</table>\n",
       "</div>"
      ],
      "text/plain": [
       "                   num_messages  message_user1  message_user2\n",
       "matchId                                                      \n",
       "73sM8xCvJGz3WtH3W            12              7              5"
      ]
     },
     "execution_count": 179,
     "metadata": {},
     "output_type": "execute_result"
    }
   ],
   "source": [
    "messages[messages.index=='73sM8xCvJGz3WtH3W']"
   ]
  },
  {
   "cell_type": "markdown",
   "metadata": {},
   "source": [
    "add user 'BnpDYgYxJWJandztW' for match id '73sM8xCvJGz3WtH3W'"
   ]
  },
  {
   "cell_type": "code",
   "execution_count": 324,
   "metadata": {},
   "outputs": [],
   "source": [
    "extra = {'matchid': '73sM8xCvJGz3WtH3W', 'type': 'fuck', 'when': '2017-10-21 07:59:34', 'userid':'BnpDYgYxJWJandztW'}"
   ]
  },
  {
   "cell_type": "code",
   "execution_count": 340,
   "metadata": {},
   "outputs": [],
   "source": [
    "match_sep = match_sep.append(extra, ignore_index=True)"
   ]
  },
  {
   "cell_type": "code",
   "execution_count": 182,
   "metadata": {
    "scrolled": true
   },
   "outputs": [
    {
     "data": {
      "text/html": [
       "<div>\n",
       "<style scoped>\n",
       "    .dataframe tbody tr th:only-of-type {\n",
       "        vertical-align: middle;\n",
       "    }\n",
       "\n",
       "    .dataframe tbody tr th {\n",
       "        vertical-align: top;\n",
       "    }\n",
       "\n",
       "    .dataframe thead th {\n",
       "        text-align: right;\n",
       "    }\n",
       "</style>\n",
       "<table border=\"1\" class=\"dataframe\">\n",
       "  <thead>\n",
       "    <tr style=\"text-align: right;\">\n",
       "      <th></th>\n",
       "      <th>matchid</th>\n",
       "      <th>type</th>\n",
       "      <th>when</th>\n",
       "      <th>userid</th>\n",
       "    </tr>\n",
       "  </thead>\n",
       "  <tbody>\n",
       "    <tr>\n",
       "      <th>1518942</th>\n",
       "      <td>73sM8xCvJGz3WtH3W</td>\n",
       "      <td>fuck</td>\n",
       "      <td>2017-10-21 07:59:34</td>\n",
       "      <td>b6uJrRBMrtyjfW5XB</td>\n",
       "    </tr>\n",
       "    <tr>\n",
       "      <th>1659287</th>\n",
       "      <td>73sM8xCvJGz3WtH3W</td>\n",
       "      <td>fuck</td>\n",
       "      <td>2017-10-21 07:59:34</td>\n",
       "      <td>BnpDYgYxJWJandztW</td>\n",
       "    </tr>\n",
       "  </tbody>\n",
       "</table>\n",
       "</div>"
      ],
      "text/plain": [
       "                   matchid  type                 when             userid\n",
       "1518942  73sM8xCvJGz3WtH3W  fuck  2017-10-21 07:59:34  b6uJrRBMrtyjfW5XB\n",
       "1659287  73sM8xCvJGz3WtH3W  fuck  2017-10-21 07:59:34  BnpDYgYxJWJandztW"
      ]
     },
     "execution_count": 182,
     "metadata": {},
     "output_type": "execute_result"
    }
   ],
   "source": [
    "match_sep[match_sep.matchid=='73sM8xCvJGz3WtH3W']"
   ]
  },
  {
   "cell_type": "code",
   "execution_count": 183,
   "metadata": {},
   "outputs": [
    {
     "data": {
      "text/plain": [
       "matchid    object\n",
       "type       object\n",
       "when       object\n",
       "userid     object\n",
       "dtype: object"
      ]
     },
     "execution_count": 183,
     "metadata": {},
     "output_type": "execute_result"
    }
   ],
   "source": [
    "match_sep.dtypes"
   ]
  },
  {
   "cell_type": "code",
   "execution_count": 143,
   "metadata": {
    "scrolled": true
   },
   "outputs": [
    {
     "data": {
      "text/html": [
       "<div>\n",
       "<style scoped>\n",
       "    .dataframe tbody tr th:only-of-type {\n",
       "        vertical-align: middle;\n",
       "    }\n",
       "\n",
       "    .dataframe tbody tr th {\n",
       "        vertical-align: top;\n",
       "    }\n",
       "\n",
       "    .dataframe thead th {\n",
       "        text-align: right;\n",
       "    }\n",
       "</style>\n",
       "<table border=\"1\" class=\"dataframe\">\n",
       "  <thead>\n",
       "    <tr style=\"text-align: right;\">\n",
       "      <th></th>\n",
       "      <th>matchid</th>\n",
       "      <th>type</th>\n",
       "      <th>when</th>\n",
       "      <th>userid</th>\n",
       "    </tr>\n",
       "  </thead>\n",
       "  <tbody>\n",
       "    <tr>\n",
       "      <th>103258</th>\n",
       "      <td>DzziAJeLN5YhFmcXa</td>\n",
       "      <td>fuck</td>\n",
       "      <td>2017-09-15 14:50:24</td>\n",
       "      <td>3fejY7RGEyg58KCDS</td>\n",
       "    </tr>\n",
       "    <tr>\n",
       "      <th>233996</th>\n",
       "      <td>DzziAJeLN5YhFmcXa</td>\n",
       "      <td>fuck</td>\n",
       "      <td>2017-09-15 14:50:24</td>\n",
       "      <td>g9vdi3y66gsSL4mbx</td>\n",
       "    </tr>\n",
       "    <tr>\n",
       "      <th>644961</th>\n",
       "      <td>DzziAJeLN5YhFmcXa</td>\n",
       "      <td>fuck</td>\n",
       "      <td>2017-09-15 14:50:24</td>\n",
       "      <td>g9vdi3y66gsSL4mbx</td>\n",
       "    </tr>\n",
       "    <tr>\n",
       "      <th>754846</th>\n",
       "      <td>DzziAJeLN5YhFmcXa</td>\n",
       "      <td>fuck</td>\n",
       "      <td>2017-09-15 14:50:24</td>\n",
       "      <td>3fejY7RGEyg58KCDS</td>\n",
       "    </tr>\n",
       "  </tbody>\n",
       "</table>\n",
       "</div>"
      ],
      "text/plain": [
       "                  matchid  type                when             userid\n",
       "103258  DzziAJeLN5YhFmcXa  fuck 2017-09-15 14:50:24  3fejY7RGEyg58KCDS\n",
       "233996  DzziAJeLN5YhFmcXa  fuck 2017-09-15 14:50:24  g9vdi3y66gsSL4mbx\n",
       "644961  DzziAJeLN5YhFmcXa  fuck 2017-09-15 14:50:24  g9vdi3y66gsSL4mbx\n",
       "754846  DzziAJeLN5YhFmcXa  fuck 2017-09-15 14:50:24  3fejY7RGEyg58KCDS"
      ]
     },
     "execution_count": 143,
     "metadata": {},
     "output_type": "execute_result"
    }
   ],
   "source": [
    "match_sep[match_sep.matchid=='DzziAJeLN5YhFmcXa']"
   ]
  },
  {
   "cell_type": "markdown",
   "metadata": {},
   "source": [
    "remove duplicates"
   ]
  },
  {
   "cell_type": "code",
   "execution_count": 155,
   "metadata": {
    "scrolled": true
   },
   "outputs": [
    {
     "data": {
      "text/html": [
       "<div>\n",
       "<style scoped>\n",
       "    .dataframe tbody tr th:only-of-type {\n",
       "        vertical-align: middle;\n",
       "    }\n",
       "\n",
       "    .dataframe tbody tr th {\n",
       "        vertical-align: top;\n",
       "    }\n",
       "\n",
       "    .dataframe thead th {\n",
       "        text-align: right;\n",
       "    }\n",
       "</style>\n",
       "<table border=\"1\" class=\"dataframe\">\n",
       "  <thead>\n",
       "    <tr style=\"text-align: right;\">\n",
       "      <th></th>\n",
       "      <th>matchid</th>\n",
       "      <th>type</th>\n",
       "      <th>when</th>\n",
       "      <th>userid</th>\n",
       "    </tr>\n",
       "  </thead>\n",
       "  <tbody>\n",
       "    <tr>\n",
       "      <th>449123</th>\n",
       "      <td>iNZ7fxgARC4SvhHDj</td>\n",
       "      <td>marry</td>\n",
       "      <td>2017-09-15 14:49:17</td>\n",
       "      <td>HuH77gHHQEGZG7hHp</td>\n",
       "    </tr>\n",
       "    <tr>\n",
       "      <th>644961</th>\n",
       "      <td>DzziAJeLN5YhFmcXa</td>\n",
       "      <td>fuck</td>\n",
       "      <td>2017-09-15 14:50:24</td>\n",
       "      <td>g9vdi3y66gsSL4mbx</td>\n",
       "    </tr>\n",
       "    <tr>\n",
       "      <th>754846</th>\n",
       "      <td>DzziAJeLN5YhFmcXa</td>\n",
       "      <td>fuck</td>\n",
       "      <td>2017-09-15 14:50:24</td>\n",
       "      <td>3fejY7RGEyg58KCDS</td>\n",
       "    </tr>\n",
       "    <tr>\n",
       "      <th>966291</th>\n",
       "      <td>hCuM9x4zrfYbfhj7d</td>\n",
       "      <td>marry</td>\n",
       "      <td>2017-02-08 10:17:46</td>\n",
       "      <td>4iP63bqH62gBWzc4A</td>\n",
       "    </tr>\n",
       "    <tr>\n",
       "      <th>1423945</th>\n",
       "      <td>iNZ7fxgARC4SvhHDj</td>\n",
       "      <td>marry</td>\n",
       "      <td>2017-09-15 14:49:17</td>\n",
       "      <td>JbXHBCR2gAGxcKrG3</td>\n",
       "    </tr>\n",
       "  </tbody>\n",
       "</table>\n",
       "</div>"
      ],
      "text/plain": [
       "                   matchid   type                when             userid\n",
       "449123   iNZ7fxgARC4SvhHDj  marry 2017-09-15 14:49:17  HuH77gHHQEGZG7hHp\n",
       "644961   DzziAJeLN5YhFmcXa   fuck 2017-09-15 14:50:24  g9vdi3y66gsSL4mbx\n",
       "754846   DzziAJeLN5YhFmcXa   fuck 2017-09-15 14:50:24  3fejY7RGEyg58KCDS\n",
       "966291   hCuM9x4zrfYbfhj7d  marry 2017-02-08 10:17:46  4iP63bqH62gBWzc4A\n",
       "1423945  iNZ7fxgARC4SvhHDj  marry 2017-09-15 14:49:17  JbXHBCR2gAGxcKrG3"
      ]
     },
     "execution_count": 155,
     "metadata": {},
     "output_type": "execute_result"
    }
   ],
   "source": [
    "match_sep[match_sep.duplicated(subset=['matchid', 'when', 'userid'])]"
   ]
  },
  {
   "cell_type": "code",
   "execution_count": 149,
   "metadata": {
    "scrolled": true
   },
   "outputs": [
    {
     "data": {
      "text/html": [
       "<div>\n",
       "<style scoped>\n",
       "    .dataframe tbody tr th:only-of-type {\n",
       "        vertical-align: middle;\n",
       "    }\n",
       "\n",
       "    .dataframe tbody tr th {\n",
       "        vertical-align: top;\n",
       "    }\n",
       "\n",
       "    .dataframe thead th {\n",
       "        text-align: right;\n",
       "    }\n",
       "</style>\n",
       "<table border=\"1\" class=\"dataframe\">\n",
       "  <thead>\n",
       "    <tr style=\"text-align: right;\">\n",
       "      <th></th>\n",
       "      <th>matchid</th>\n",
       "      <th>type</th>\n",
       "      <th>when</th>\n",
       "      <th>userid</th>\n",
       "    </tr>\n",
       "  </thead>\n",
       "  <tbody>\n",
       "    <tr>\n",
       "      <th>401234</th>\n",
       "      <td>iNZ7fxgARC4SvhHDj</td>\n",
       "      <td>marry</td>\n",
       "      <td>2017-09-15 14:49:17</td>\n",
       "      <td>HuH77gHHQEGZG7hHp</td>\n",
       "    </tr>\n",
       "    <tr>\n",
       "      <th>449123</th>\n",
       "      <td>iNZ7fxgARC4SvhHDj</td>\n",
       "      <td>marry</td>\n",
       "      <td>2017-09-15 14:49:17</td>\n",
       "      <td>HuH77gHHQEGZG7hHp</td>\n",
       "    </tr>\n",
       "    <tr>\n",
       "      <th>883344</th>\n",
       "      <td>iNZ7fxgARC4SvhHDj</td>\n",
       "      <td>marry</td>\n",
       "      <td>2017-09-15 14:49:17</td>\n",
       "      <td>JbXHBCR2gAGxcKrG3</td>\n",
       "    </tr>\n",
       "    <tr>\n",
       "      <th>1423945</th>\n",
       "      <td>iNZ7fxgARC4SvhHDj</td>\n",
       "      <td>marry</td>\n",
       "      <td>2017-09-15 14:49:17</td>\n",
       "      <td>JbXHBCR2gAGxcKrG3</td>\n",
       "    </tr>\n",
       "  </tbody>\n",
       "</table>\n",
       "</div>"
      ],
      "text/plain": [
       "                   matchid   type                when             userid\n",
       "401234   iNZ7fxgARC4SvhHDj  marry 2017-09-15 14:49:17  HuH77gHHQEGZG7hHp\n",
       "449123   iNZ7fxgARC4SvhHDj  marry 2017-09-15 14:49:17  HuH77gHHQEGZG7hHp\n",
       "883344   iNZ7fxgARC4SvhHDj  marry 2017-09-15 14:49:17  JbXHBCR2gAGxcKrG3\n",
       "1423945  iNZ7fxgARC4SvhHDj  marry 2017-09-15 14:49:17  JbXHBCR2gAGxcKrG3"
      ]
     },
     "execution_count": 149,
     "metadata": {},
     "output_type": "execute_result"
    }
   ],
   "source": [
    "match_sep[match_sep.matchid=='iNZ7fxgARC4SvhHDj']"
   ]
  },
  {
   "cell_type": "code",
   "execution_count": 150,
   "metadata": {
    "scrolled": true
   },
   "outputs": [
    {
     "data": {
      "text/html": [
       "<div>\n",
       "<style scoped>\n",
       "    .dataframe tbody tr th:only-of-type {\n",
       "        vertical-align: middle;\n",
       "    }\n",
       "\n",
       "    .dataframe tbody tr th {\n",
       "        vertical-align: top;\n",
       "    }\n",
       "\n",
       "    .dataframe thead th {\n",
       "        text-align: right;\n",
       "    }\n",
       "</style>\n",
       "<table border=\"1\" class=\"dataframe\">\n",
       "  <thead>\n",
       "    <tr style=\"text-align: right;\">\n",
       "      <th></th>\n",
       "      <th>matchid</th>\n",
       "      <th>type</th>\n",
       "      <th>when</th>\n",
       "      <th>userid</th>\n",
       "    </tr>\n",
       "  </thead>\n",
       "  <tbody>\n",
       "    <tr>\n",
       "      <th>448777</th>\n",
       "      <td>hCuM9x4zrfYbfhj7d</td>\n",
       "      <td>marry</td>\n",
       "      <td>2017-02-08 10:17:46</td>\n",
       "      <td>4iP63bqH62gBWzc4A</td>\n",
       "    </tr>\n",
       "    <tr>\n",
       "      <th>966291</th>\n",
       "      <td>hCuM9x4zrfYbfhj7d</td>\n",
       "      <td>marry</td>\n",
       "      <td>2017-02-08 10:17:46</td>\n",
       "      <td>4iP63bqH62gBWzc4A</td>\n",
       "    </tr>\n",
       "  </tbody>\n",
       "</table>\n",
       "</div>"
      ],
      "text/plain": [
       "                  matchid   type                when             userid\n",
       "448777  hCuM9x4zrfYbfhj7d  marry 2017-02-08 10:17:46  4iP63bqH62gBWzc4A\n",
       "966291  hCuM9x4zrfYbfhj7d  marry 2017-02-08 10:17:46  4iP63bqH62gBWzc4A"
      ]
     },
     "execution_count": 150,
     "metadata": {},
     "output_type": "execute_result"
    }
   ],
   "source": [
    "match_sep[match_sep.matchid=='hCuM9x4zrfYbfhj7d']"
   ]
  },
  {
   "cell_type": "code",
   "execution_count": 151,
   "metadata": {
    "scrolled": true
   },
   "outputs": [
    {
     "data": {
      "text/html": [
       "<div>\n",
       "<style scoped>\n",
       "    .dataframe tbody tr th:only-of-type {\n",
       "        vertical-align: middle;\n",
       "    }\n",
       "\n",
       "    .dataframe tbody tr th {\n",
       "        vertical-align: top;\n",
       "    }\n",
       "\n",
       "    .dataframe thead th {\n",
       "        text-align: right;\n",
       "    }\n",
       "</style>\n",
       "<table border=\"1\" class=\"dataframe\">\n",
       "  <thead>\n",
       "    <tr style=\"text-align: right;\">\n",
       "      <th></th>\n",
       "      <th>matchid</th>\n",
       "      <th>first</th>\n",
       "      <th>second</th>\n",
       "      <th>type</th>\n",
       "      <th>disabled</th>\n",
       "      <th>unread</th>\n",
       "      <th>when</th>\n",
       "      <th>last_action</th>\n",
       "      <th>hidden</th>\n",
       "      <th>firstMessage.userid</th>\n",
       "      <th>message</th>\n",
       "    </tr>\n",
       "  </thead>\n",
       "  <tbody>\n",
       "    <tr>\n",
       "      <th>581288</th>\n",
       "      <td>hCuM9x4zrfYbfhj7d</td>\n",
       "      <td>4iP63bqH62gBWzc4A</td>\n",
       "      <td>4iP63bqH62gBWzc4A</td>\n",
       "      <td>marry</td>\n",
       "      <td>True</td>\n",
       "      <td>-1</td>\n",
       "      <td>2017-02-08 10:17:46</td>\n",
       "      <td>2017-02-08 10:17:46</td>\n",
       "      <td>False</td>\n",
       "      <td>NaN</td>\n",
       "      <td>False</td>\n",
       "    </tr>\n",
       "  </tbody>\n",
       "</table>\n",
       "</div>"
      ],
      "text/plain": [
       "                  matchid              first             second   type  \\\n",
       "581288  hCuM9x4zrfYbfhj7d  4iP63bqH62gBWzc4A  4iP63bqH62gBWzc4A  marry   \n",
       "\n",
       "        disabled  unread                when         last_action  hidden  \\\n",
       "581288      True      -1 2017-02-08 10:17:46 2017-02-08 10:17:46   False   \n",
       "\n",
       "       firstMessage.userid  message  \n",
       "581288                 NaN    False  "
      ]
     },
     "execution_count": 151,
     "metadata": {},
     "output_type": "execute_result"
    }
   ],
   "source": [
    "matches[matches.matchid=='hCuM9x4zrfYbfhj7d']"
   ]
  },
  {
   "cell_type": "markdown",
   "metadata": {},
   "source": [
    "Drop all duplicates and drop matchid 'hCuM9x4zrfYbfhj7d'"
   ]
  },
  {
   "cell_type": "code",
   "execution_count": 341,
   "metadata": {},
   "outputs": [],
   "source": [
    "match_sep = match_sep.drop_duplicates()"
   ]
  },
  {
   "cell_type": "code",
   "execution_count": 165,
   "metadata": {
    "scrolled": true
   },
   "outputs": [
    {
     "data": {
      "text/html": [
       "<div>\n",
       "<style scoped>\n",
       "    .dataframe tbody tr th:only-of-type {\n",
       "        vertical-align: middle;\n",
       "    }\n",
       "\n",
       "    .dataframe tbody tr th {\n",
       "        vertical-align: top;\n",
       "    }\n",
       "\n",
       "    .dataframe thead th {\n",
       "        text-align: right;\n",
       "    }\n",
       "</style>\n",
       "<table border=\"1\" class=\"dataframe\">\n",
       "  <thead>\n",
       "    <tr style=\"text-align: right;\">\n",
       "      <th></th>\n",
       "      <th>matchid</th>\n",
       "      <th>type</th>\n",
       "      <th>when</th>\n",
       "      <th>userid</th>\n",
       "    </tr>\n",
       "  </thead>\n",
       "  <tbody>\n",
       "  </tbody>\n",
       "</table>\n",
       "</div>"
      ],
      "text/plain": [
       "Empty DataFrame\n",
       "Columns: [matchid, type, when, userid]\n",
       "Index: []"
      ]
     },
     "execution_count": 165,
     "metadata": {},
     "output_type": "execute_result"
    }
   ],
   "source": [
    "match_sep[match_sep.duplicated(subset=['matchid', 'when', 'userid'])]"
   ]
  },
  {
   "cell_type": "code",
   "execution_count": 342,
   "metadata": {},
   "outputs": [],
   "source": [
    "match_sep = match_sep[match_sep.matchid!='hCuM9x4zrfYbfhj7d']"
   ]
  },
  {
   "cell_type": "code",
   "execution_count": 170,
   "metadata": {
    "scrolled": true
   },
   "outputs": [
    {
     "data": {
      "text/html": [
       "<div>\n",
       "<style scoped>\n",
       "    .dataframe tbody tr th:only-of-type {\n",
       "        vertical-align: middle;\n",
       "    }\n",
       "\n",
       "    .dataframe tbody tr th {\n",
       "        vertical-align: top;\n",
       "    }\n",
       "\n",
       "    .dataframe thead th {\n",
       "        text-align: right;\n",
       "    }\n",
       "</style>\n",
       "<table border=\"1\" class=\"dataframe\">\n",
       "  <thead>\n",
       "    <tr style=\"text-align: right;\">\n",
       "      <th></th>\n",
       "      <th>matchid</th>\n",
       "      <th>first</th>\n",
       "      <th>second</th>\n",
       "      <th>type</th>\n",
       "      <th>disabled</th>\n",
       "      <th>unread</th>\n",
       "      <th>when</th>\n",
       "      <th>last_action</th>\n",
       "      <th>hidden</th>\n",
       "      <th>firstMessage.userid</th>\n",
       "      <th>message</th>\n",
       "    </tr>\n",
       "  </thead>\n",
       "  <tbody>\n",
       "    <tr>\n",
       "      <th>154727</th>\n",
       "      <td>BvKELsBcD6pS4GwjL</td>\n",
       "      <td>NaN</td>\n",
       "      <td>jS2mXKC5j6MS9nmGz</td>\n",
       "      <td>wink</td>\n",
       "      <td>False</td>\n",
       "      <td>-1</td>\n",
       "      <td>2017-08-21 00:27:33</td>\n",
       "      <td>2017-08-21 00:27:33</td>\n",
       "      <td>True</td>\n",
       "      <td>NaN</td>\n",
       "      <td>False</td>\n",
       "    </tr>\n",
       "  </tbody>\n",
       "</table>\n",
       "</div>"
      ],
      "text/plain": [
       "                  matchid first             second  type  disabled  unread  \\\n",
       "154727  BvKELsBcD6pS4GwjL   NaN  jS2mXKC5j6MS9nmGz  wink     False      -1   \n",
       "\n",
       "                      when         last_action  hidden firstMessage.userid  \\\n",
       "154727 2017-08-21 00:27:33 2017-08-21 00:27:33    True                 NaN   \n",
       "\n",
       "        message  \n",
       "154727    False  "
      ]
     },
     "execution_count": 170,
     "metadata": {},
     "output_type": "execute_result"
    }
   ],
   "source": [
    "matches[matches.matchid=='BvKELsBcD6pS4GwjL']"
   ]
  },
  {
   "cell_type": "code",
   "execution_count": 171,
   "metadata": {
    "scrolled": false
   },
   "outputs": [
    {
     "data": {
      "text/html": [
       "<div>\n",
       "<style scoped>\n",
       "    .dataframe tbody tr th:only-of-type {\n",
       "        vertical-align: middle;\n",
       "    }\n",
       "\n",
       "    .dataframe tbody tr th {\n",
       "        vertical-align: top;\n",
       "    }\n",
       "\n",
       "    .dataframe thead th {\n",
       "        text-align: right;\n",
       "    }\n",
       "</style>\n",
       "<table border=\"1\" class=\"dataframe\">\n",
       "  <thead>\n",
       "    <tr style=\"text-align: right;\">\n",
       "      <th></th>\n",
       "      <th>matchid</th>\n",
       "      <th>type</th>\n",
       "      <th>when</th>\n",
       "      <th>userid</th>\n",
       "    </tr>\n",
       "  </thead>\n",
       "  <tbody>\n",
       "    <tr>\n",
       "      <th>158122</th>\n",
       "      <td>BvKELsBcD6pS4GwjL</td>\n",
       "      <td>wink</td>\n",
       "      <td>2017-08-21 00:27:33</td>\n",
       "      <td>jS2mXKC5j6MS9nmGz</td>\n",
       "    </tr>\n",
       "    <tr>\n",
       "      <th>491253</th>\n",
       "      <td>BvKELsBcD6pS4GwjL</td>\n",
       "      <td>wink</td>\n",
       "      <td>2017-08-21 00:27:33</td>\n",
       "      <td>NaN</td>\n",
       "    </tr>\n",
       "  </tbody>\n",
       "</table>\n",
       "</div>"
      ],
      "text/plain": [
       "                  matchid  type                when             userid\n",
       "158122  BvKELsBcD6pS4GwjL  wink 2017-08-21 00:27:33  jS2mXKC5j6MS9nmGz\n",
       "491253  BvKELsBcD6pS4GwjL  wink 2017-08-21 00:27:33                NaN"
      ]
     },
     "execution_count": 171,
     "metadata": {},
     "output_type": "execute_result"
    }
   ],
   "source": [
    "match_sep[match_sep.matchid=='BvKELsBcD6pS4GwjL']"
   ]
  },
  {
   "cell_type": "code",
   "execution_count": 174,
   "metadata": {
    "scrolled": false
   },
   "outputs": [
    {
     "data": {
      "text/html": [
       "<div>\n",
       "<style scoped>\n",
       "    .dataframe tbody tr th:only-of-type {\n",
       "        vertical-align: middle;\n",
       "    }\n",
       "\n",
       "    .dataframe tbody tr th {\n",
       "        vertical-align: top;\n",
       "    }\n",
       "\n",
       "    .dataframe thead th {\n",
       "        text-align: right;\n",
       "    }\n",
       "</style>\n",
       "<table border=\"1\" class=\"dataframe\">\n",
       "  <thead>\n",
       "    <tr style=\"text-align: right;\">\n",
       "      <th></th>\n",
       "      <th>matchid</th>\n",
       "      <th>first</th>\n",
       "      <th>second</th>\n",
       "      <th>type</th>\n",
       "      <th>disabled</th>\n",
       "      <th>unread</th>\n",
       "      <th>when</th>\n",
       "      <th>last_action</th>\n",
       "      <th>hidden</th>\n",
       "      <th>firstMessage.userid</th>\n",
       "      <th>message</th>\n",
       "    </tr>\n",
       "  </thead>\n",
       "  <tbody>\n",
       "    <tr>\n",
       "      <th>497630</th>\n",
       "      <td>br8mBKY7nZjHYXT9y</td>\n",
       "      <td>ZhhrC8CkR57tSARAm</td>\n",
       "      <td>BnpDYgYxJWJandztW</td>\n",
       "      <td>fuck</td>\n",
       "      <td>False</td>\n",
       "      <td>0</td>\n",
       "      <td>2017-10-20 18:53:08</td>\n",
       "      <td>2017-10-20 18:53:30</td>\n",
       "      <td>False</td>\n",
       "      <td>ZhhrC8CkR57tSARAm</td>\n",
       "      <td>True</td>\n",
       "    </tr>\n",
       "  </tbody>\n",
       "</table>\n",
       "</div>"
      ],
      "text/plain": [
       "                  matchid              first             second  type  \\\n",
       "497630  br8mBKY7nZjHYXT9y  ZhhrC8CkR57tSARAm  BnpDYgYxJWJandztW  fuck   \n",
       "\n",
       "        disabled  unread                when         last_action  hidden  \\\n",
       "497630     False       0 2017-10-20 18:53:08 2017-10-20 18:53:30   False   \n",
       "\n",
       "       firstMessage.userid  message  \n",
       "497630   ZhhrC8CkR57tSARAm     True  "
      ]
     },
     "execution_count": 174,
     "metadata": {},
     "output_type": "execute_result"
    }
   ],
   "source": [
    "matches[matches.matchid=='br8mBKY7nZjHYXT9y']"
   ]
  },
  {
   "cell_type": "code",
   "execution_count": 175,
   "metadata": {
    "scrolled": false
   },
   "outputs": [
    {
     "data": {
      "text/html": [
       "<div>\n",
       "<style scoped>\n",
       "    .dataframe tbody tr th:only-of-type {\n",
       "        vertical-align: middle;\n",
       "    }\n",
       "\n",
       "    .dataframe tbody tr th {\n",
       "        vertical-align: top;\n",
       "    }\n",
       "\n",
       "    .dataframe thead th {\n",
       "        text-align: right;\n",
       "    }\n",
       "</style>\n",
       "<table border=\"1\" class=\"dataframe\">\n",
       "  <thead>\n",
       "    <tr style=\"text-align: right;\">\n",
       "      <th></th>\n",
       "      <th>matchid</th>\n",
       "      <th>type</th>\n",
       "      <th>when</th>\n",
       "      <th>userid</th>\n",
       "    </tr>\n",
       "  </thead>\n",
       "  <tbody>\n",
       "    <tr>\n",
       "      <th>53485</th>\n",
       "      <td>br8mBKY7nZjHYXT9y</td>\n",
       "      <td>fuck</td>\n",
       "      <td>2017-10-21 07:59:34</td>\n",
       "      <td>BnpDYgYxJWJandztW</td>\n",
       "    </tr>\n",
       "    <tr>\n",
       "      <th>996239</th>\n",
       "      <td>br8mBKY7nZjHYXT9y</td>\n",
       "      <td>fuck</td>\n",
       "      <td>2017-10-20 18:53:08</td>\n",
       "      <td>ZhhrC8CkR57tSARAm</td>\n",
       "    </tr>\n",
       "    <tr>\n",
       "      <th>1130293</th>\n",
       "      <td>br8mBKY7nZjHYXT9y</td>\n",
       "      <td>fuck</td>\n",
       "      <td>2017-10-20 18:53:08</td>\n",
       "      <td>BnpDYgYxJWJandztW</td>\n",
       "    </tr>\n",
       "  </tbody>\n",
       "</table>\n",
       "</div>"
      ],
      "text/plain": [
       "                   matchid  type                when             userid\n",
       "53485    br8mBKY7nZjHYXT9y  fuck 2017-10-21 07:59:34  BnpDYgYxJWJandztW\n",
       "996239   br8mBKY7nZjHYXT9y  fuck 2017-10-20 18:53:08  ZhhrC8CkR57tSARAm\n",
       "1130293  br8mBKY7nZjHYXT9y  fuck 2017-10-20 18:53:08  BnpDYgYxJWJandztW"
      ]
     },
     "execution_count": 175,
     "metadata": {},
     "output_type": "execute_result"
    }
   ],
   "source": [
    "match_sep[match_sep.matchid=='br8mBKY7nZjHYXT9y']"
   ]
  },
  {
   "cell_type": "code",
   "execution_count": 343,
   "metadata": {},
   "outputs": [],
   "source": [
    "match_sep.when = match_sep.when.astype('datetime64[s]')"
   ]
  },
  {
   "cell_type": "code",
   "execution_count": 344,
   "metadata": {},
   "outputs": [],
   "source": [
    "match_sep.type = match_sep.type.astype('category')"
   ]
  },
  {
   "cell_type": "code",
   "execution_count": 360,
   "metadata": {
    "scrolled": false
   },
   "outputs": [
    {
     "data": {
      "text/plain": [
       "matchid            object\n",
       "type             category\n",
       "when       datetime64[ns]\n",
       "userid             object\n",
       "dtype: object"
      ]
     },
     "execution_count": 360,
     "metadata": {},
     "output_type": "execute_result"
    }
   ],
   "source": [
    "match_sep.dtypes"
   ]
  },
  {
   "cell_type": "code",
   "execution_count": 361,
   "metadata": {},
   "outputs": [],
   "source": [
    "match_sep.to_pickle('dataset/match_sep.pkl')"
   ]
  },
  {
   "cell_type": "markdown",
   "metadata": {},
   "source": [
    "add second user information in the match:"
   ]
  },
  {
   "cell_type": "code",
   "execution_count": 345,
   "metadata": {},
   "outputs": [],
   "source": [
    "match_both = matches[['matchid', 'first', 'second']]"
   ]
  },
  {
   "cell_type": "code",
   "execution_count": 346,
   "metadata": {
    "scrolled": true
   },
   "outputs": [],
   "source": [
    "match_merge = pd.merge(match_sep, match_both, left_on='matchid', right_on='matchid', how='left')"
   ]
  },
  {
   "cell_type": "code",
   "execution_count": 347,
   "metadata": {
    "scrolled": true
   },
   "outputs": [
    {
     "data": {
      "text/html": [
       "<div>\n",
       "<style scoped>\n",
       "    .dataframe tbody tr th:only-of-type {\n",
       "        vertical-align: middle;\n",
       "    }\n",
       "\n",
       "    .dataframe tbody tr th {\n",
       "        vertical-align: top;\n",
       "    }\n",
       "\n",
       "    .dataframe thead th {\n",
       "        text-align: right;\n",
       "    }\n",
       "</style>\n",
       "<table border=\"1\" class=\"dataframe\">\n",
       "  <thead>\n",
       "    <tr style=\"text-align: right;\">\n",
       "      <th></th>\n",
       "      <th>matchid</th>\n",
       "      <th>type</th>\n",
       "      <th>when</th>\n",
       "      <th>userid</th>\n",
       "      <th>first</th>\n",
       "      <th>second</th>\n",
       "    </tr>\n",
       "  </thead>\n",
       "  <tbody>\n",
       "    <tr>\n",
       "      <th>0</th>\n",
       "      <td>xMNuz6Aj9kqpjiaEz</td>\n",
       "      <td>fuck</td>\n",
       "      <td>2018-11-09 10:58:28</td>\n",
       "      <td>Ey8FWmLgmT6AiW9Ye</td>\n",
       "      <td>Ey8FWmLgmT6AiW9Ye</td>\n",
       "      <td>pvv8NCcC3PpGzs8Wg</td>\n",
       "    </tr>\n",
       "    <tr>\n",
       "      <th>1</th>\n",
       "      <td>JjELwSCwJJgNdgZdh</td>\n",
       "      <td>kill</td>\n",
       "      <td>2018-07-03 05:24:43</td>\n",
       "      <td>NQ5KSNLx4CXu6HS5Y</td>\n",
       "      <td>hEP6agiY2pNESyavC</td>\n",
       "      <td>NQ5KSNLx4CXu6HS5Y</td>\n",
       "    </tr>\n",
       "    <tr>\n",
       "      <th>2</th>\n",
       "      <td>QBMAGYAwEeLCxLT56</td>\n",
       "      <td>kill</td>\n",
       "      <td>2017-11-06 09:32:26</td>\n",
       "      <td>jjbhusRAkZwMMznuk</td>\n",
       "      <td>nNex8aQxLCbgyFnCG</td>\n",
       "      <td>jjbhusRAkZwMMznuk</td>\n",
       "    </tr>\n",
       "    <tr>\n",
       "      <th>3</th>\n",
       "      <td>RteWRWXCzipppLMyF</td>\n",
       "      <td>fuck</td>\n",
       "      <td>2018-01-22 01:03:20</td>\n",
       "      <td>xz7izY8gAMbwrPyCX</td>\n",
       "      <td>xz7izY8gAMbwrPyCX</td>\n",
       "      <td>cXXvTdQNtLc3fpWn9</td>\n",
       "    </tr>\n",
       "    <tr>\n",
       "      <th>4</th>\n",
       "      <td>cXcoCKDMyCsiA2Zft</td>\n",
       "      <td>fuck</td>\n",
       "      <td>2017-08-28 15:05:39</td>\n",
       "      <td>83YFzzB4ofAY8Wcxv</td>\n",
       "      <td>83YFzzB4ofAY8Wcxv</td>\n",
       "      <td>h4DTjF5bCTzan7fZP</td>\n",
       "    </tr>\n",
       "  </tbody>\n",
       "</table>\n",
       "</div>"
      ],
      "text/plain": [
       "             matchid  type                when             userid  \\\n",
       "0  xMNuz6Aj9kqpjiaEz  fuck 2018-11-09 10:58:28  Ey8FWmLgmT6AiW9Ye   \n",
       "1  JjELwSCwJJgNdgZdh  kill 2018-07-03 05:24:43  NQ5KSNLx4CXu6HS5Y   \n",
       "2  QBMAGYAwEeLCxLT56  kill 2017-11-06 09:32:26  jjbhusRAkZwMMznuk   \n",
       "3  RteWRWXCzipppLMyF  fuck 2018-01-22 01:03:20  xz7izY8gAMbwrPyCX   \n",
       "4  cXcoCKDMyCsiA2Zft  fuck 2017-08-28 15:05:39  83YFzzB4ofAY8Wcxv   \n",
       "\n",
       "               first             second  \n",
       "0  Ey8FWmLgmT6AiW9Ye  pvv8NCcC3PpGzs8Wg  \n",
       "1  hEP6agiY2pNESyavC  NQ5KSNLx4CXu6HS5Y  \n",
       "2  nNex8aQxLCbgyFnCG  jjbhusRAkZwMMznuk  \n",
       "3  xz7izY8gAMbwrPyCX  cXXvTdQNtLc3fpWn9  \n",
       "4  83YFzzB4ofAY8Wcxv  h4DTjF5bCTzan7fZP  "
      ]
     },
     "execution_count": 347,
     "metadata": {},
     "output_type": "execute_result"
    }
   ],
   "source": [
    "match_merge.head()"
   ]
  },
  {
   "cell_type": "code",
   "execution_count": 348,
   "metadata": {
    "scrolled": true
   },
   "outputs": [
    {
     "data": {
      "text/plain": [
       "['pvv8NCcC3PpGzs8Wg',\n",
       " 'hEP6agiY2pNESyavC',\n",
       " 'nNex8aQxLCbgyFnCG',\n",
       " 'cXXvTdQNtLc3fpWn9',\n",
       " 'h4DTjF5bCTzan7fZP',\n",
       " 'qtaYb35sKzzq2FTAz',\n",
       " 'cHYXpZcwgewureeZS',\n",
       " 'NkPr3dCNdfrXnPMQi',\n",
       " 'DSSZTk87braTDretb',\n",
       " 'zCxXy25eyeHg2kkbR']"
      ]
     },
     "execution_count": 348,
     "metadata": {},
     "output_type": "execute_result"
    }
   ],
   "source": [
    "accept = []\n",
    "for i in range(len(match_merge)):\n",
    "    if match_merge.userid[i]==match_merge['first'][i]:\n",
    "        accept.append(match_merge.second[i])\n",
    "    else:\n",
    "        accept.append(match_merge['first'][i])\n",
    "accept[:10]"
   ]
  },
  {
   "cell_type": "code",
   "execution_count": 349,
   "metadata": {
    "scrolled": false
   },
   "outputs": [
    {
     "data": {
      "text/html": [
       "<div>\n",
       "<style scoped>\n",
       "    .dataframe tbody tr th:only-of-type {\n",
       "        vertical-align: middle;\n",
       "    }\n",
       "\n",
       "    .dataframe tbody tr th {\n",
       "        vertical-align: top;\n",
       "    }\n",
       "\n",
       "    .dataframe thead th {\n",
       "        text-align: right;\n",
       "    }\n",
       "</style>\n",
       "<table border=\"1\" class=\"dataframe\">\n",
       "  <thead>\n",
       "    <tr style=\"text-align: right;\">\n",
       "      <th></th>\n",
       "      <th>matchid</th>\n",
       "      <th>type</th>\n",
       "      <th>when</th>\n",
       "      <th>userid</th>\n",
       "      <th>first</th>\n",
       "      <th>second</th>\n",
       "      <th>accept</th>\n",
       "    </tr>\n",
       "  </thead>\n",
       "  <tbody>\n",
       "    <tr>\n",
       "      <th>0</th>\n",
       "      <td>xMNuz6Aj9kqpjiaEz</td>\n",
       "      <td>fuck</td>\n",
       "      <td>2018-11-09 10:58:28</td>\n",
       "      <td>Ey8FWmLgmT6AiW9Ye</td>\n",
       "      <td>Ey8FWmLgmT6AiW9Ye</td>\n",
       "      <td>pvv8NCcC3PpGzs8Wg</td>\n",
       "      <td>pvv8NCcC3PpGzs8Wg</td>\n",
       "    </tr>\n",
       "    <tr>\n",
       "      <th>1</th>\n",
       "      <td>JjELwSCwJJgNdgZdh</td>\n",
       "      <td>kill</td>\n",
       "      <td>2018-07-03 05:24:43</td>\n",
       "      <td>NQ5KSNLx4CXu6HS5Y</td>\n",
       "      <td>hEP6agiY2pNESyavC</td>\n",
       "      <td>NQ5KSNLx4CXu6HS5Y</td>\n",
       "      <td>hEP6agiY2pNESyavC</td>\n",
       "    </tr>\n",
       "    <tr>\n",
       "      <th>2</th>\n",
       "      <td>QBMAGYAwEeLCxLT56</td>\n",
       "      <td>kill</td>\n",
       "      <td>2017-11-06 09:32:26</td>\n",
       "      <td>jjbhusRAkZwMMznuk</td>\n",
       "      <td>nNex8aQxLCbgyFnCG</td>\n",
       "      <td>jjbhusRAkZwMMznuk</td>\n",
       "      <td>nNex8aQxLCbgyFnCG</td>\n",
       "    </tr>\n",
       "    <tr>\n",
       "      <th>3</th>\n",
       "      <td>RteWRWXCzipppLMyF</td>\n",
       "      <td>fuck</td>\n",
       "      <td>2018-01-22 01:03:20</td>\n",
       "      <td>xz7izY8gAMbwrPyCX</td>\n",
       "      <td>xz7izY8gAMbwrPyCX</td>\n",
       "      <td>cXXvTdQNtLc3fpWn9</td>\n",
       "      <td>cXXvTdQNtLc3fpWn9</td>\n",
       "    </tr>\n",
       "    <tr>\n",
       "      <th>4</th>\n",
       "      <td>cXcoCKDMyCsiA2Zft</td>\n",
       "      <td>fuck</td>\n",
       "      <td>2017-08-28 15:05:39</td>\n",
       "      <td>83YFzzB4ofAY8Wcxv</td>\n",
       "      <td>83YFzzB4ofAY8Wcxv</td>\n",
       "      <td>h4DTjF5bCTzan7fZP</td>\n",
       "      <td>h4DTjF5bCTzan7fZP</td>\n",
       "    </tr>\n",
       "  </tbody>\n",
       "</table>\n",
       "</div>"
      ],
      "text/plain": [
       "             matchid  type                when             userid  \\\n",
       "0  xMNuz6Aj9kqpjiaEz  fuck 2018-11-09 10:58:28  Ey8FWmLgmT6AiW9Ye   \n",
       "1  JjELwSCwJJgNdgZdh  kill 2018-07-03 05:24:43  NQ5KSNLx4CXu6HS5Y   \n",
       "2  QBMAGYAwEeLCxLT56  kill 2017-11-06 09:32:26  jjbhusRAkZwMMznuk   \n",
       "3  RteWRWXCzipppLMyF  fuck 2018-01-22 01:03:20  xz7izY8gAMbwrPyCX   \n",
       "4  cXcoCKDMyCsiA2Zft  fuck 2017-08-28 15:05:39  83YFzzB4ofAY8Wcxv   \n",
       "\n",
       "               first             second             accept  \n",
       "0  Ey8FWmLgmT6AiW9Ye  pvv8NCcC3PpGzs8Wg  pvv8NCcC3PpGzs8Wg  \n",
       "1  hEP6agiY2pNESyavC  NQ5KSNLx4CXu6HS5Y  hEP6agiY2pNESyavC  \n",
       "2  nNex8aQxLCbgyFnCG  jjbhusRAkZwMMznuk  nNex8aQxLCbgyFnCG  \n",
       "3  xz7izY8gAMbwrPyCX  cXXvTdQNtLc3fpWn9  cXXvTdQNtLc3fpWn9  \n",
       "4  83YFzzB4ofAY8Wcxv  h4DTjF5bCTzan7fZP  h4DTjF5bCTzan7fZP  "
      ]
     },
     "execution_count": 349,
     "metadata": {},
     "output_type": "execute_result"
    }
   ],
   "source": [
    "match_merge['accept'] = accept\n",
    "match_merge.head()"
   ]
  },
  {
   "cell_type": "code",
   "execution_count": 350,
   "metadata": {},
   "outputs": [],
   "source": [
    "match_merge = match_merge.drop(['first', 'second'], axis=1)"
   ]
  },
  {
   "cell_type": "code",
   "execution_count": 351,
   "metadata": {},
   "outputs": [],
   "source": [
    "match_merge.to_pickle('dataset/match_merge.pkl')"
   ]
  },
  {
   "cell_type": "markdown",
   "metadata": {},
   "source": [
    "## Merging"
   ]
  },
  {
   "cell_type": "code",
   "execution_count": 321,
   "metadata": {},
   "outputs": [],
   "source": [
    "messages = pd.read_pickle(\"dataset/messages_match.pkl\")\n",
    "users = pd.read_pickle(\"dataset/users_clean.pkl\")\n",
    "match_merge = pd.read_pickle('dataset/match_merge.pkl')"
   ]
  },
  {
   "cell_type": "code",
   "execution_count": 4,
   "metadata": {
    "collapsed": true
   },
   "outputs": [
    {
     "ename": "KeyboardInterrupt",
     "evalue": "",
     "output_type": "error",
     "traceback": [
      "\u001b[0;31m---------------------------------------------------------------------------\u001b[0m",
      "\u001b[0;31mKeyboardInterrupt\u001b[0m                         Traceback (most recent call last)",
      "\u001b[0;32m<ipython-input-4-fc6266f7f2c2>\u001b[0m in \u001b[0;36m<module>\u001b[0;34m\u001b[0m\n\u001b[0;32m----> 1\u001b[0;31m \u001b[0mcon\u001b[0m \u001b[0;34m=\u001b[0m \u001b[0mpd\u001b[0m\u001b[0;34m.\u001b[0m\u001b[0mread_pickle\u001b[0m\u001b[0;34m(\u001b[0m\u001b[0;34m'dataset/nonullconnections.pkl'\u001b[0m\u001b[0;34m)\u001b[0m\u001b[0;34m\u001b[0m\u001b[0;34m\u001b[0m\u001b[0m\n\u001b[0m",
      "\u001b[0;32m~/anaconda3/lib/python3.7/site-packages/pandas/io/pickle.py\u001b[0m in \u001b[0;36mread_pickle\u001b[0;34m(path, compression)\u001b[0m\n\u001b[1;32m    177\u001b[0m                     lambda f: pc.load(f, encoding=encoding, compat=True))\n\u001b[1;32m    178\u001b[0m     \u001b[0;32mtry\u001b[0m\u001b[0;34m:\u001b[0m\u001b[0;34m\u001b[0m\u001b[0;34m\u001b[0m\u001b[0m\n\u001b[0;32m--> 179\u001b[0;31m         \u001b[0;32mreturn\u001b[0m \u001b[0mtry_read\u001b[0m\u001b[0;34m(\u001b[0m\u001b[0mpath\u001b[0m\u001b[0;34m)\u001b[0m\u001b[0;34m\u001b[0m\u001b[0;34m\u001b[0m\u001b[0m\n\u001b[0m\u001b[1;32m    180\u001b[0m     \u001b[0;32mexcept\u001b[0m \u001b[0mException\u001b[0m\u001b[0;34m:\u001b[0m  \u001b[0;31m# noqa: E722\u001b[0m\u001b[0;34m\u001b[0m\u001b[0;34m\u001b[0m\u001b[0m\n\u001b[1;32m    181\u001b[0m         \u001b[0;32mif\u001b[0m \u001b[0mPY3\u001b[0m\u001b[0;34m:\u001b[0m\u001b[0;34m\u001b[0m\u001b[0;34m\u001b[0m\u001b[0m\n",
      "\u001b[0;32m~/anaconda3/lib/python3.7/site-packages/pandas/io/pickle.py\u001b[0m in \u001b[0;36mtry_read\u001b[0;34m(path, encoding)\u001b[0m\n\u001b[1;32m    164\u001b[0m                 \u001b[0;31m# We want to silence any warnings about, e.g. moved modules.\u001b[0m\u001b[0;34m\u001b[0m\u001b[0;34m\u001b[0m\u001b[0;34m\u001b[0m\u001b[0m\n\u001b[1;32m    165\u001b[0m                 \u001b[0mwarnings\u001b[0m\u001b[0;34m.\u001b[0m\u001b[0msimplefilter\u001b[0m\u001b[0;34m(\u001b[0m\u001b[0;34m\"ignore\"\u001b[0m\u001b[0;34m,\u001b[0m \u001b[0mWarning\u001b[0m\u001b[0;34m)\u001b[0m\u001b[0;34m\u001b[0m\u001b[0;34m\u001b[0m\u001b[0m\n\u001b[0;32m--> 166\u001b[0;31m                 \u001b[0;32mreturn\u001b[0m \u001b[0mread_wrapper\u001b[0m\u001b[0;34m(\u001b[0m\u001b[0;32mlambda\u001b[0m \u001b[0mf\u001b[0m\u001b[0;34m:\u001b[0m \u001b[0mpkl\u001b[0m\u001b[0;34m.\u001b[0m\u001b[0mload\u001b[0m\u001b[0;34m(\u001b[0m\u001b[0mf\u001b[0m\u001b[0;34m)\u001b[0m\u001b[0;34m)\u001b[0m\u001b[0;34m\u001b[0m\u001b[0;34m\u001b[0m\u001b[0m\n\u001b[0m\u001b[1;32m    167\u001b[0m         \u001b[0;32mexcept\u001b[0m \u001b[0mException\u001b[0m\u001b[0;34m:\u001b[0m  \u001b[0;31m# noqa: E722\u001b[0m\u001b[0;34m\u001b[0m\u001b[0;34m\u001b[0m\u001b[0m\n\u001b[1;32m    168\u001b[0m             \u001b[0;31m# reg/patched pickle\u001b[0m\u001b[0;34m\u001b[0m\u001b[0;34m\u001b[0m\u001b[0;34m\u001b[0m\u001b[0m\n",
      "\u001b[0;32m~/anaconda3/lib/python3.7/site-packages/pandas/io/pickle.py\u001b[0m in \u001b[0;36mread_wrapper\u001b[0;34m(func)\u001b[0m\n\u001b[1;32m    146\u001b[0m                             is_text=False)\n\u001b[1;32m    147\u001b[0m         \u001b[0;32mtry\u001b[0m\u001b[0;34m:\u001b[0m\u001b[0;34m\u001b[0m\u001b[0;34m\u001b[0m\u001b[0m\n\u001b[0;32m--> 148\u001b[0;31m             \u001b[0;32mreturn\u001b[0m \u001b[0mfunc\u001b[0m\u001b[0;34m(\u001b[0m\u001b[0mf\u001b[0m\u001b[0;34m)\u001b[0m\u001b[0;34m\u001b[0m\u001b[0;34m\u001b[0m\u001b[0m\n\u001b[0m\u001b[1;32m    149\u001b[0m         \u001b[0;32mfinally\u001b[0m\u001b[0;34m:\u001b[0m\u001b[0;34m\u001b[0m\u001b[0;34m\u001b[0m\u001b[0m\n\u001b[1;32m    150\u001b[0m             \u001b[0;32mfor\u001b[0m \u001b[0m_f\u001b[0m \u001b[0;32min\u001b[0m \u001b[0mfh\u001b[0m\u001b[0;34m:\u001b[0m\u001b[0;34m\u001b[0m\u001b[0;34m\u001b[0m\u001b[0m\n",
      "\u001b[0;32m~/anaconda3/lib/python3.7/site-packages/pandas/io/pickle.py\u001b[0m in \u001b[0;36m<lambda>\u001b[0;34m(f)\u001b[0m\n\u001b[1;32m    164\u001b[0m                 \u001b[0;31m# We want to silence any warnings about, e.g. moved modules.\u001b[0m\u001b[0;34m\u001b[0m\u001b[0;34m\u001b[0m\u001b[0;34m\u001b[0m\u001b[0m\n\u001b[1;32m    165\u001b[0m                 \u001b[0mwarnings\u001b[0m\u001b[0;34m.\u001b[0m\u001b[0msimplefilter\u001b[0m\u001b[0;34m(\u001b[0m\u001b[0;34m\"ignore\"\u001b[0m\u001b[0;34m,\u001b[0m \u001b[0mWarning\u001b[0m\u001b[0;34m)\u001b[0m\u001b[0;34m\u001b[0m\u001b[0;34m\u001b[0m\u001b[0m\n\u001b[0;32m--> 166\u001b[0;31m                 \u001b[0;32mreturn\u001b[0m \u001b[0mread_wrapper\u001b[0m\u001b[0;34m(\u001b[0m\u001b[0;32mlambda\u001b[0m \u001b[0mf\u001b[0m\u001b[0;34m:\u001b[0m \u001b[0mpkl\u001b[0m\u001b[0;34m.\u001b[0m\u001b[0mload\u001b[0m\u001b[0;34m(\u001b[0m\u001b[0mf\u001b[0m\u001b[0;34m)\u001b[0m\u001b[0;34m)\u001b[0m\u001b[0;34m\u001b[0m\u001b[0;34m\u001b[0m\u001b[0m\n\u001b[0m\u001b[1;32m    167\u001b[0m         \u001b[0;32mexcept\u001b[0m \u001b[0mException\u001b[0m\u001b[0;34m:\u001b[0m  \u001b[0;31m# noqa: E722\u001b[0m\u001b[0;34m\u001b[0m\u001b[0;34m\u001b[0m\u001b[0m\n\u001b[1;32m    168\u001b[0m             \u001b[0;31m# reg/patched pickle\u001b[0m\u001b[0;34m\u001b[0m\u001b[0;34m\u001b[0m\u001b[0;34m\u001b[0m\u001b[0m\n",
      "\u001b[0;32m~/anaconda3/lib/python3.7/site-packages/pandas/core/indexes/base.py\u001b[0m in \u001b[0;36m_new_Index\u001b[0;34m(cls, d)\u001b[0m\n\u001b[1;32m    150\u001b[0m \u001b[0;34m\u001b[0m\u001b[0m\n\u001b[1;32m    151\u001b[0m \u001b[0;34m\u001b[0m\u001b[0m\n\u001b[0;32m--> 152\u001b[0;31m \u001b[0;32mdef\u001b[0m \u001b[0m_new_Index\u001b[0m\u001b[0;34m(\u001b[0m\u001b[0mcls\u001b[0m\u001b[0;34m,\u001b[0m \u001b[0md\u001b[0m\u001b[0;34m)\u001b[0m\u001b[0;34m:\u001b[0m\u001b[0;34m\u001b[0m\u001b[0;34m\u001b[0m\u001b[0m\n\u001b[0m\u001b[1;32m    153\u001b[0m     \"\"\"\n\u001b[1;32m    154\u001b[0m     \u001b[0mThis\u001b[0m \u001b[0;32mis\u001b[0m \u001b[0mcalled\u001b[0m \u001b[0mupon\u001b[0m \u001b[0munpickling\u001b[0m\u001b[0;34m,\u001b[0m \u001b[0mrather\u001b[0m \u001b[0mthan\u001b[0m \u001b[0mthe\u001b[0m \u001b[0mdefault\u001b[0m \u001b[0mwhich\u001b[0m \u001b[0mdoesn\u001b[0m\u001b[0;31m'\u001b[0m\u001b[0mt\u001b[0m\u001b[0;34m\u001b[0m\u001b[0;34m\u001b[0m\u001b[0m\n",
      "\u001b[0;31mKeyboardInterrupt\u001b[0m: "
     ]
    }
   ],
   "source": [
    "con = pd.read_pickle('dataset/nonullconnections.pkl')"
   ]
  },
  {
   "cell_type": "code",
   "execution_count": 41,
   "metadata": {},
   "outputs": [],
   "source": [
    "# del users_d['profile.about']"
   ]
  },
  {
   "cell_type": "markdown",
   "metadata": {},
   "source": [
    "### Merging 'connections' with user information"
   ]
  },
  {
   "cell_type": "code",
   "execution_count": 5,
   "metadata": {},
   "outputs": [],
   "source": [
    "con_user = con.merge(users, left_on='from', right_on='_id', how='left')"
   ]
  },
  {
   "cell_type": "code",
   "execution_count": 368,
   "metadata": {
    "scrolled": true
   },
   "outputs": [
    {
     "data": {
      "text/html": [
       "<div>\n",
       "<style scoped>\n",
       "    .dataframe tbody tr th:only-of-type {\n",
       "        vertical-align: middle;\n",
       "    }\n",
       "\n",
       "    .dataframe tbody tr th {\n",
       "        vertical-align: top;\n",
       "    }\n",
       "\n",
       "    .dataframe thead th {\n",
       "        text-align: right;\n",
       "    }\n",
       "</style>\n",
       "<table border=\"1\" class=\"dataframe\">\n",
       "  <thead>\n",
       "    <tr style=\"text-align: right;\">\n",
       "      <th></th>\n",
       "      <th>_id_x</th>\n",
       "      <th>to</th>\n",
       "      <th>from</th>\n",
       "      <th>type</th>\n",
       "      <th>when</th>\n",
       "      <th>_id_y</th>\n",
       "      <th>profile.active</th>\n",
       "      <th>profile.about</th>\n",
       "      <th>profile.interested_in</th>\n",
       "      <th>profile.age</th>\n",
       "      <th>...</th>\n",
       "      <th>profile.actual_streak</th>\n",
       "      <th>firstSeen</th>\n",
       "      <th>lastLogin</th>\n",
       "      <th>score</th>\n",
       "      <th>votes_given</th>\n",
       "      <th>push.enable</th>\n",
       "      <th>uninstalled</th>\n",
       "      <th>previousRank</th>\n",
       "      <th>powerVotes</th>\n",
       "      <th>profile.genders</th>\n",
       "    </tr>\n",
       "  </thead>\n",
       "  <tbody>\n",
       "    <tr>\n",
       "      <th>0</th>\n",
       "      <td>22224BFt2JYjZMdTM</td>\n",
       "      <td>mNxJxtSxDdBbTk5Ys</td>\n",
       "      <td>qpAL5TTco2ngd5MEP</td>\n",
       "      <td>kill</td>\n",
       "      <td>2017-11-13 08:46:09</td>\n",
       "      <td>qpAL5TTco2ngd5MEP</td>\n",
       "      <td>False</td>\n",
       "      <td>come on</td>\n",
       "      <td>female</td>\n",
       "      <td>26.0</td>\n",
       "      <td>...</td>\n",
       "      <td>0</td>\n",
       "      <td>2017-11-13 08:01:07</td>\n",
       "      <td>2017-11-13 12:29:24</td>\n",
       "      <td>0.0</td>\n",
       "      <td>252.0</td>\n",
       "      <td>True</td>\n",
       "      <td>True</td>\n",
       "      <td>0</td>\n",
       "      <td>3.0</td>\n",
       "      <td>1.0</td>\n",
       "    </tr>\n",
       "    <tr>\n",
       "      <th>1</th>\n",
       "      <td>222289Z3tXekEjfj6</td>\n",
       "      <td>o6qjf5jRE8pojbtj7</td>\n",
       "      <td>9BWsYf2ZwkvCEhAHj</td>\n",
       "      <td>marry</td>\n",
       "      <td>2018-03-10 01:53:25</td>\n",
       "      <td>9BWsYf2ZwkvCEhAHj</td>\n",
       "      <td>False</td>\n",
       "      <td>insta -&gt; biamaia_19</td>\n",
       "      <td>male</td>\n",
       "      <td>20.0</td>\n",
       "      <td>...</td>\n",
       "      <td>{\"type\":\"fuck\",\"votes\":6}</td>\n",
       "      <td>2017-10-23 15:14:18</td>\n",
       "      <td>2019-02-21 23:21:20</td>\n",
       "      <td>25.0</td>\n",
       "      <td>1381.0</td>\n",
       "      <td>False</td>\n",
       "      <td>True</td>\n",
       "      <td>{\"fuck\":470,\"marry\":470,\"kill\":470}</td>\n",
       "      <td>0.0</td>\n",
       "      <td>0.0</td>\n",
       "    </tr>\n",
       "    <tr>\n",
       "      <th>2</th>\n",
       "      <td>2222GCemwczTXJYnR</td>\n",
       "      <td>ZZcno9u7Ar6HwCwaF</td>\n",
       "      <td>wRLJrt4835QrSfH6A</td>\n",
       "      <td>kill</td>\n",
       "      <td>2017-02-12 23:30:40</td>\n",
       "      <td>wRLJrt4835QrSfH6A</td>\n",
       "      <td>False</td>\n",
       "      <td></td>\n",
       "      <td>female</td>\n",
       "      <td>23.0</td>\n",
       "      <td>...</td>\n",
       "      <td>0</td>\n",
       "      <td>2016-12-22 11:26:48</td>\n",
       "      <td>2017-04-25 09:01:46</td>\n",
       "      <td>0.0</td>\n",
       "      <td>1041.0</td>\n",
       "      <td>True</td>\n",
       "      <td>True</td>\n",
       "      <td>0</td>\n",
       "      <td>3.0</td>\n",
       "      <td>1.0</td>\n",
       "    </tr>\n",
       "    <tr>\n",
       "      <th>3</th>\n",
       "      <td>2222JhMY3vzRCFNoq</td>\n",
       "      <td>zuCFfviDzDmay65cS</td>\n",
       "      <td>tHqJvGu4gr8KyzoTL</td>\n",
       "      <td>fuck</td>\n",
       "      <td>2017-11-22 10:26:26</td>\n",
       "      <td>tHqJvGu4gr8KyzoTL</td>\n",
       "      <td>False</td>\n",
       "      <td></td>\n",
       "      <td>female</td>\n",
       "      <td>29.0</td>\n",
       "      <td>...</td>\n",
       "      <td>{\"type\":\"marry\",\"votes\":1}</td>\n",
       "      <td>2017-05-24 21:36:25</td>\n",
       "      <td>2018-03-11 22:46:42</td>\n",
       "      <td>25.0</td>\n",
       "      <td>40494.0</td>\n",
       "      <td>True</td>\n",
       "      <td>True</td>\n",
       "      <td>{\"fuck\":2816,\"marry\":2990,\"kill\":1575}</td>\n",
       "      <td>0.0</td>\n",
       "      <td>1.0</td>\n",
       "    </tr>\n",
       "    <tr>\n",
       "      <th>4</th>\n",
       "      <td>2222QjSPkuHwtGr8T</td>\n",
       "      <td>wP5x9ezFuSDGFHg4z</td>\n",
       "      <td>BW4enJFd56AnAMbeW</td>\n",
       "      <td>kill</td>\n",
       "      <td>2017-11-20 18:09:04</td>\n",
       "      <td>BW4enJFd56AnAMbeW</td>\n",
       "      <td>False</td>\n",
       "      <td></td>\n",
       "      <td>female</td>\n",
       "      <td>23.0</td>\n",
       "      <td>...</td>\n",
       "      <td>{\"type\":\"marry\",\"votes\":2}</td>\n",
       "      <td>2017-11-18 22:36:20</td>\n",
       "      <td>2019-05-24 02:37:28</td>\n",
       "      <td>25.0</td>\n",
       "      <td>2045.0</td>\n",
       "      <td>True</td>\n",
       "      <td>True</td>\n",
       "      <td>{\"fuck\":2462,\"marry\":2462,\"kill\":2462}</td>\n",
       "      <td>3.0</td>\n",
       "      <td>1.0</td>\n",
       "    </tr>\n",
       "  </tbody>\n",
       "</table>\n",
       "<p>5 rows × 30 columns</p>\n",
       "</div>"
      ],
      "text/plain": [
       "               _id_x                 to               from   type  \\\n",
       "0  22224BFt2JYjZMdTM  mNxJxtSxDdBbTk5Ys  qpAL5TTco2ngd5MEP   kill   \n",
       "1  222289Z3tXekEjfj6  o6qjf5jRE8pojbtj7  9BWsYf2ZwkvCEhAHj  marry   \n",
       "2  2222GCemwczTXJYnR  ZZcno9u7Ar6HwCwaF  wRLJrt4835QrSfH6A   kill   \n",
       "3  2222JhMY3vzRCFNoq  zuCFfviDzDmay65cS  tHqJvGu4gr8KyzoTL   fuck   \n",
       "4  2222QjSPkuHwtGr8T  wP5x9ezFuSDGFHg4z  BW4enJFd56AnAMbeW   kill   \n",
       "\n",
       "                 when              _id_y profile.active        profile.about  \\\n",
       "0 2017-11-13 08:46:09  qpAL5TTco2ngd5MEP          False              come on   \n",
       "1 2018-03-10 01:53:25  9BWsYf2ZwkvCEhAHj          False  insta -> biamaia_19   \n",
       "2 2017-02-12 23:30:40  wRLJrt4835QrSfH6A          False                        \n",
       "3 2017-11-22 10:26:26  tHqJvGu4gr8KyzoTL          False                        \n",
       "4 2017-11-20 18:09:04  BW4enJFd56AnAMbeW          False                        \n",
       "\n",
       "  profile.interested_in  profile.age  ...       profile.actual_streak  \\\n",
       "0                female         26.0  ...                           0   \n",
       "1                  male         20.0  ...   {\"type\":\"fuck\",\"votes\":6}   \n",
       "2                female         23.0  ...                           0   \n",
       "3                female         29.0  ...  {\"type\":\"marry\",\"votes\":1}   \n",
       "4                female         23.0  ...  {\"type\":\"marry\",\"votes\":2}   \n",
       "\n",
       "            firstSeen           lastLogin score votes_given push.enable  \\\n",
       "0 2017-11-13 08:01:07 2017-11-13 12:29:24   0.0       252.0        True   \n",
       "1 2017-10-23 15:14:18 2019-02-21 23:21:20  25.0      1381.0       False   \n",
       "2 2016-12-22 11:26:48 2017-04-25 09:01:46   0.0      1041.0        True   \n",
       "3 2017-05-24 21:36:25 2018-03-11 22:46:42  25.0     40494.0        True   \n",
       "4 2017-11-18 22:36:20 2019-05-24 02:37:28  25.0      2045.0        True   \n",
       "\n",
       "  uninstalled                            previousRank powerVotes  \\\n",
       "0        True                                       0        3.0   \n",
       "1        True     {\"fuck\":470,\"marry\":470,\"kill\":470}        0.0   \n",
       "2        True                                       0        3.0   \n",
       "3        True  {\"fuck\":2816,\"marry\":2990,\"kill\":1575}        0.0   \n",
       "4        True  {\"fuck\":2462,\"marry\":2462,\"kill\":2462}        3.0   \n",
       "\n",
       "  profile.genders  \n",
       "0             1.0  \n",
       "1             0.0  \n",
       "2             1.0  \n",
       "3             1.0  \n",
       "4             1.0  \n",
       "\n",
       "[5 rows x 30 columns]"
      ]
     },
     "execution_count": 368,
     "metadata": {},
     "output_type": "execute_result"
    }
   ],
   "source": [
    "con_user.head()"
   ]
  },
  {
   "cell_type": "code",
   "execution_count": 6,
   "metadata": {},
   "outputs": [],
   "source": [
    "con_user = con_user[-con_user['profile.about'].isnull()]"
   ]
  },
  {
   "cell_type": "code",
   "execution_count": 7,
   "metadata": {},
   "outputs": [],
   "source": [
    "con_user = con_user.drop(['_id_x', '_id_y'], axis=1)"
   ]
  },
  {
   "cell_type": "code",
   "execution_count": 8,
   "metadata": {},
   "outputs": [],
   "source": [
    "con_user.to_pickle('dataset/con_user.pkl')"
   ]
  },
  {
   "cell_type": "markdown",
   "metadata": {},
   "source": [
    "### Merging with 'matches' "
   ]
  },
  {
   "cell_type": "code",
   "execution_count": 9,
   "metadata": {},
   "outputs": [
    {
     "data": {
      "text/html": [
       "<div>\n",
       "<style scoped>\n",
       "    .dataframe tbody tr th:only-of-type {\n",
       "        vertical-align: middle;\n",
       "    }\n",
       "\n",
       "    .dataframe tbody tr th {\n",
       "        vertical-align: top;\n",
       "    }\n",
       "\n",
       "    .dataframe thead th {\n",
       "        text-align: right;\n",
       "    }\n",
       "</style>\n",
       "<table border=\"1\" class=\"dataframe\">\n",
       "  <thead>\n",
       "    <tr style=\"text-align: right;\">\n",
       "      <th></th>\n",
       "      <th>to</th>\n",
       "      <th>from</th>\n",
       "      <th>type</th>\n",
       "      <th>when</th>\n",
       "      <th>profile.active</th>\n",
       "      <th>profile.about</th>\n",
       "      <th>profile.interested_in</th>\n",
       "      <th>profile.age</th>\n",
       "      <th>profile.type</th>\n",
       "      <th>profile.pos.coordinates</th>\n",
       "      <th>...</th>\n",
       "      <th>profile.actual_streak</th>\n",
       "      <th>firstSeen</th>\n",
       "      <th>lastLogin</th>\n",
       "      <th>score</th>\n",
       "      <th>votes_given</th>\n",
       "      <th>push.enable</th>\n",
       "      <th>uninstalled</th>\n",
       "      <th>previousRank</th>\n",
       "      <th>powerVotes</th>\n",
       "      <th>profile.genders</th>\n",
       "    </tr>\n",
       "  </thead>\n",
       "  <tbody>\n",
       "    <tr>\n",
       "      <th>0</th>\n",
       "      <td>mNxJxtSxDdBbTk5Ys</td>\n",
       "      <td>qpAL5TTco2ngd5MEP</td>\n",
       "      <td>kill</td>\n",
       "      <td>2017-11-13 08:46:09</td>\n",
       "      <td>False</td>\n",
       "      <td>come on</td>\n",
       "      <td>female</td>\n",
       "      <td>26.0</td>\n",
       "      <td>neutral</td>\n",
       "      <td>[0,0]</td>\n",
       "      <td>...</td>\n",
       "      <td>0</td>\n",
       "      <td>2017-11-13 08:01:07</td>\n",
       "      <td>2017-11-13 12:29:24</td>\n",
       "      <td>0.0</td>\n",
       "      <td>252.0</td>\n",
       "      <td>True</td>\n",
       "      <td>True</td>\n",
       "      <td>0</td>\n",
       "      <td>3.0</td>\n",
       "      <td>1.0</td>\n",
       "    </tr>\n",
       "    <tr>\n",
       "      <th>1</th>\n",
       "      <td>o6qjf5jRE8pojbtj7</td>\n",
       "      <td>9BWsYf2ZwkvCEhAHj</td>\n",
       "      <td>marry</td>\n",
       "      <td>2018-03-10 01:53:25</td>\n",
       "      <td>False</td>\n",
       "      <td>insta -&gt; biamaia_19</td>\n",
       "      <td>male</td>\n",
       "      <td>20.0</td>\n",
       "      <td>fuck</td>\n",
       "      <td>[-7.9711585,40.7263597]</td>\n",
       "      <td>...</td>\n",
       "      <td>{\"type\":\"fuck\",\"votes\":6}</td>\n",
       "      <td>2017-10-23 15:14:18</td>\n",
       "      <td>2019-02-21 23:21:20</td>\n",
       "      <td>25.0</td>\n",
       "      <td>1381.0</td>\n",
       "      <td>False</td>\n",
       "      <td>True</td>\n",
       "      <td>{\"fuck\":470,\"marry\":470,\"kill\":470}</td>\n",
       "      <td>0.0</td>\n",
       "      <td>0.0</td>\n",
       "    </tr>\n",
       "    <tr>\n",
       "      <th>2</th>\n",
       "      <td>ZZcno9u7Ar6HwCwaF</td>\n",
       "      <td>wRLJrt4835QrSfH6A</td>\n",
       "      <td>kill</td>\n",
       "      <td>2017-02-12 23:30:40</td>\n",
       "      <td>False</td>\n",
       "      <td></td>\n",
       "      <td>female</td>\n",
       "      <td>23.0</td>\n",
       "      <td>marry</td>\n",
       "      <td>[6.7947676,50.8113247]</td>\n",
       "      <td>...</td>\n",
       "      <td>0</td>\n",
       "      <td>2016-12-22 11:26:48</td>\n",
       "      <td>2017-04-25 09:01:46</td>\n",
       "      <td>0.0</td>\n",
       "      <td>1041.0</td>\n",
       "      <td>True</td>\n",
       "      <td>True</td>\n",
       "      <td>0</td>\n",
       "      <td>3.0</td>\n",
       "      <td>1.0</td>\n",
       "    </tr>\n",
       "    <tr>\n",
       "      <th>3</th>\n",
       "      <td>zuCFfviDzDmay65cS</td>\n",
       "      <td>tHqJvGu4gr8KyzoTL</td>\n",
       "      <td>fuck</td>\n",
       "      <td>2017-11-22 10:26:26</td>\n",
       "      <td>False</td>\n",
       "      <td></td>\n",
       "      <td>female</td>\n",
       "      <td>29.0</td>\n",
       "      <td>fuck</td>\n",
       "      <td>[-9.2115885,38.7417719]</td>\n",
       "      <td>...</td>\n",
       "      <td>{\"type\":\"marry\",\"votes\":1}</td>\n",
       "      <td>2017-05-24 21:36:25</td>\n",
       "      <td>2018-03-11 22:46:42</td>\n",
       "      <td>25.0</td>\n",
       "      <td>40494.0</td>\n",
       "      <td>True</td>\n",
       "      <td>True</td>\n",
       "      <td>{\"fuck\":2816,\"marry\":2990,\"kill\":1575}</td>\n",
       "      <td>0.0</td>\n",
       "      <td>1.0</td>\n",
       "    </tr>\n",
       "    <tr>\n",
       "      <th>4</th>\n",
       "      <td>wP5x9ezFuSDGFHg4z</td>\n",
       "      <td>BW4enJFd56AnAMbeW</td>\n",
       "      <td>kill</td>\n",
       "      <td>2017-11-20 18:09:04</td>\n",
       "      <td>False</td>\n",
       "      <td></td>\n",
       "      <td>female</td>\n",
       "      <td>23.0</td>\n",
       "      <td>fuck</td>\n",
       "      <td>[-8.1415383,41.6335751]</td>\n",
       "      <td>...</td>\n",
       "      <td>{\"type\":\"marry\",\"votes\":2}</td>\n",
       "      <td>2017-11-18 22:36:20</td>\n",
       "      <td>2019-05-24 02:37:28</td>\n",
       "      <td>25.0</td>\n",
       "      <td>2045.0</td>\n",
       "      <td>True</td>\n",
       "      <td>True</td>\n",
       "      <td>{\"fuck\":2462,\"marry\":2462,\"kill\":2462}</td>\n",
       "      <td>3.0</td>\n",
       "      <td>1.0</td>\n",
       "    </tr>\n",
       "  </tbody>\n",
       "</table>\n",
       "<p>5 rows × 28 columns</p>\n",
       "</div>"
      ],
      "text/plain": [
       "                  to               from   type                when  \\\n",
       "0  mNxJxtSxDdBbTk5Ys  qpAL5TTco2ngd5MEP   kill 2017-11-13 08:46:09   \n",
       "1  o6qjf5jRE8pojbtj7  9BWsYf2ZwkvCEhAHj  marry 2018-03-10 01:53:25   \n",
       "2  ZZcno9u7Ar6HwCwaF  wRLJrt4835QrSfH6A   kill 2017-02-12 23:30:40   \n",
       "3  zuCFfviDzDmay65cS  tHqJvGu4gr8KyzoTL   fuck 2017-11-22 10:26:26   \n",
       "4  wP5x9ezFuSDGFHg4z  BW4enJFd56AnAMbeW   kill 2017-11-20 18:09:04   \n",
       "\n",
       "  profile.active        profile.about profile.interested_in  profile.age  \\\n",
       "0          False              come on                female         26.0   \n",
       "1          False  insta -> biamaia_19                  male         20.0   \n",
       "2          False                                     female         23.0   \n",
       "3          False                                     female         29.0   \n",
       "4          False                                     female         23.0   \n",
       "\n",
       "  profile.type  profile.pos.coordinates  ...       profile.actual_streak  \\\n",
       "0      neutral                    [0,0]  ...                           0   \n",
       "1         fuck  [-7.9711585,40.7263597]  ...   {\"type\":\"fuck\",\"votes\":6}   \n",
       "2        marry   [6.7947676,50.8113247]  ...                           0   \n",
       "3         fuck  [-9.2115885,38.7417719]  ...  {\"type\":\"marry\",\"votes\":1}   \n",
       "4         fuck  [-8.1415383,41.6335751]  ...  {\"type\":\"marry\",\"votes\":2}   \n",
       "\n",
       "            firstSeen           lastLogin score votes_given push.enable  \\\n",
       "0 2017-11-13 08:01:07 2017-11-13 12:29:24   0.0       252.0        True   \n",
       "1 2017-10-23 15:14:18 2019-02-21 23:21:20  25.0      1381.0       False   \n",
       "2 2016-12-22 11:26:48 2017-04-25 09:01:46   0.0      1041.0        True   \n",
       "3 2017-05-24 21:36:25 2018-03-11 22:46:42  25.0     40494.0        True   \n",
       "4 2017-11-18 22:36:20 2019-05-24 02:37:28  25.0      2045.0        True   \n",
       "\n",
       "  uninstalled                            previousRank powerVotes  \\\n",
       "0        True                                       0        3.0   \n",
       "1        True     {\"fuck\":470,\"marry\":470,\"kill\":470}        0.0   \n",
       "2        True                                       0        3.0   \n",
       "3        True  {\"fuck\":2816,\"marry\":2990,\"kill\":1575}        0.0   \n",
       "4        True  {\"fuck\":2462,\"marry\":2462,\"kill\":2462}        3.0   \n",
       "\n",
       "  profile.genders  \n",
       "0             1.0  \n",
       "1             0.0  \n",
       "2             1.0  \n",
       "3             1.0  \n",
       "4             1.0  \n",
       "\n",
       "[5 rows x 28 columns]"
      ]
     },
     "execution_count": 9,
     "metadata": {},
     "output_type": "execute_result"
    }
   ],
   "source": [
    "con_user.head()"
   ]
  },
  {
   "cell_type": "code",
   "execution_count": 292,
   "metadata": {
    "scrolled": true
   },
   "outputs": [],
   "source": [
    "match_con = con_user.merge(match_merge, left_on=['from', 'to', 'type'], right_on=['userid', 'accept', 'type'], how='left')"
   ]
  },
  {
   "cell_type": "code",
   "execution_count": 293,
   "metadata": {
    "scrolled": true
   },
   "outputs": [
    {
     "data": {
      "text/html": [
       "<div>\n",
       "<style scoped>\n",
       "    .dataframe tbody tr th:only-of-type {\n",
       "        vertical-align: middle;\n",
       "    }\n",
       "\n",
       "    .dataframe tbody tr th {\n",
       "        vertical-align: top;\n",
       "    }\n",
       "\n",
       "    .dataframe thead th {\n",
       "        text-align: right;\n",
       "    }\n",
       "</style>\n",
       "<table border=\"1\" class=\"dataframe\">\n",
       "  <thead>\n",
       "    <tr style=\"text-align: right;\">\n",
       "      <th></th>\n",
       "      <th>matchid</th>\n",
       "      <th>type</th>\n",
       "      <th>when</th>\n",
       "      <th>userid</th>\n",
       "      <th>accept</th>\n",
       "      <th>profile.active</th>\n",
       "      <th>profile.about</th>\n",
       "      <th>profile.interested_in</th>\n",
       "      <th>profile.age</th>\n",
       "      <th>profile.type</th>\n",
       "      <th>...</th>\n",
       "      <th>profile.actual_streak</th>\n",
       "      <th>firstSeen</th>\n",
       "      <th>lastLogin</th>\n",
       "      <th>score</th>\n",
       "      <th>votes_given</th>\n",
       "      <th>push.enable</th>\n",
       "      <th>uninstalled</th>\n",
       "      <th>previousRank</th>\n",
       "      <th>powerVotes</th>\n",
       "      <th>profile.genders</th>\n",
       "    </tr>\n",
       "  </thead>\n",
       "  <tbody>\n",
       "    <tr>\n",
       "      <th>0</th>\n",
       "      <td>6W8wZvAackBy8QbXA</td>\n",
       "      <td>fuck</td>\n",
       "      <td>2017-11-20 05:31:58</td>\n",
       "      <td>anHjtBnJ5p4yynfBG</td>\n",
       "      <td>eGAKWBqAi9Qmk2zDP</td>\n",
       "      <td>True</td>\n",
       "      <td></td>\n",
       "      <td>male</td>\n",
       "      <td>19.0</td>\n",
       "      <td>fuck</td>\n",
       "      <td>...</td>\n",
       "      <td>{\"type\":\"kill\",\"votes\":2}</td>\n",
       "      <td>2017-01-17 07:31:27</td>\n",
       "      <td>2018-06-09 08:03:20</td>\n",
       "      <td>25.0</td>\n",
       "      <td>1804.0</td>\n",
       "      <td>False</td>\n",
       "      <td>False</td>\n",
       "      <td>{\"fuck\":816,\"marry\":816,\"kill\":816}</td>\n",
       "      <td>3.0</td>\n",
       "      <td>0.0</td>\n",
       "    </tr>\n",
       "    <tr>\n",
       "      <th>1</th>\n",
       "      <td>NzPRKzAWbJZZnGANn</td>\n",
       "      <td>fuck</td>\n",
       "      <td>2016-11-13 04:06:51</td>\n",
       "      <td>oTrTvnBYdM39soKpj</td>\n",
       "      <td>yv3a69KjBdao4pyuE</td>\n",
       "      <td>False</td>\n",
       "      <td></td>\n",
       "      <td>male</td>\n",
       "      <td>22.0</td>\n",
       "      <td>marry</td>\n",
       "      <td>...</td>\n",
       "      <td>0</td>\n",
       "      <td>2016-10-31 22:57:36</td>\n",
       "      <td>2017-04-23 16:21:48</td>\n",
       "      <td>0.0</td>\n",
       "      <td>802.0</td>\n",
       "      <td>True</td>\n",
       "      <td>True</td>\n",
       "      <td>0</td>\n",
       "      <td>3.0</td>\n",
       "      <td>0.0</td>\n",
       "    </tr>\n",
       "    <tr>\n",
       "      <th>2</th>\n",
       "      <td>RAZ5PX4ryZqQNm4Hb</td>\n",
       "      <td>fuck</td>\n",
       "      <td>2017-10-27 12:17:49</td>\n",
       "      <td>XSjQDhPurH9rJyocF</td>\n",
       "      <td>cfrJ92XyKNonBej3W</td>\n",
       "      <td>False</td>\n",
       "      <td></td>\n",
       "      <td>male</td>\n",
       "      <td>18.0</td>\n",
       "      <td>marry</td>\n",
       "      <td>...</td>\n",
       "      <td>0</td>\n",
       "      <td>2017-10-27 12:12:04</td>\n",
       "      <td>2017-12-05 23:36:45</td>\n",
       "      <td>0.0</td>\n",
       "      <td>147.0</td>\n",
       "      <td>False</td>\n",
       "      <td>True</td>\n",
       "      <td>{\"fuck\":561,\"marry\":242,\"kill\":504}</td>\n",
       "      <td>3.0</td>\n",
       "      <td>0.0</td>\n",
       "    </tr>\n",
       "    <tr>\n",
       "      <th>3</th>\n",
       "      <td>2E69YFoBMqqPZ4gju</td>\n",
       "      <td>fuck</td>\n",
       "      <td>2017-10-19 20:04:11</td>\n",
       "      <td>7FqakxnPZWh3gxTgT</td>\n",
       "      <td>zeMhtN7DuJjQcsopT</td>\n",
       "      <td>True</td>\n",
       "      <td></td>\n",
       "      <td>male</td>\n",
       "      <td>23.0</td>\n",
       "      <td>marry</td>\n",
       "      <td>...</td>\n",
       "      <td>0</td>\n",
       "      <td>2017-10-19 20:00:19</td>\n",
       "      <td>2017-11-01 23:34:06</td>\n",
       "      <td>0.0</td>\n",
       "      <td>167.0</td>\n",
       "      <td>False</td>\n",
       "      <td>False</td>\n",
       "      <td>{\"fuck\":489,\"marry\":400,\"kill\":279}</td>\n",
       "      <td>3.0</td>\n",
       "      <td>0.0</td>\n",
       "    </tr>\n",
       "    <tr>\n",
       "      <th>4</th>\n",
       "      <td>oTFWo7PqZFPdLbmFf</td>\n",
       "      <td>fuck</td>\n",
       "      <td>2017-11-22 12:16:11</td>\n",
       "      <td>ftNfRL3rxjMr57ESH</td>\n",
       "      <td>BkZ4T44JANR2T2ZQt</td>\n",
       "      <td>False</td>\n",
       "      <td>...</td>\n",
       "      <td>male</td>\n",
       "      <td>27.0</td>\n",
       "      <td>neutral</td>\n",
       "      <td>...</td>\n",
       "      <td>{\"type\":\"kill\",\"votes\":3}</td>\n",
       "      <td>2017-11-12 20:31:06</td>\n",
       "      <td>2018-12-01 19:51:35</td>\n",
       "      <td>25.0</td>\n",
       "      <td>381.0</td>\n",
       "      <td>True</td>\n",
       "      <td>True</td>\n",
       "      <td>{\"fuck\":518,\"marry\":518,\"kill\":518}</td>\n",
       "      <td>3.0</td>\n",
       "      <td>0.0</td>\n",
       "    </tr>\n",
       "  </tbody>\n",
       "</table>\n",
       "<p>5 rows × 29 columns</p>\n",
       "</div>"
      ],
      "text/plain": [
       "             matchid  type                when             userid  \\\n",
       "0  6W8wZvAackBy8QbXA  fuck 2017-11-20 05:31:58  anHjtBnJ5p4yynfBG   \n",
       "1  NzPRKzAWbJZZnGANn  fuck 2016-11-13 04:06:51  oTrTvnBYdM39soKpj   \n",
       "2  RAZ5PX4ryZqQNm4Hb  fuck 2017-10-27 12:17:49  XSjQDhPurH9rJyocF   \n",
       "3  2E69YFoBMqqPZ4gju  fuck 2017-10-19 20:04:11  7FqakxnPZWh3gxTgT   \n",
       "4  oTFWo7PqZFPdLbmFf  fuck 2017-11-22 12:16:11  ftNfRL3rxjMr57ESH   \n",
       "\n",
       "              accept  profile.active profile.about profile.interested_in  \\\n",
       "0  eGAKWBqAi9Qmk2zDP            True                                male   \n",
       "1  yv3a69KjBdao4pyuE           False                                male   \n",
       "2  cfrJ92XyKNonBej3W           False                                male   \n",
       "3  zeMhtN7DuJjQcsopT            True                                male   \n",
       "4  BkZ4T44JANR2T2ZQt           False           ...                  male   \n",
       "\n",
       "   profile.age profile.type  ...      profile.actual_streak  \\\n",
       "0         19.0         fuck  ...  {\"type\":\"kill\",\"votes\":2}   \n",
       "1         22.0        marry  ...                          0   \n",
       "2         18.0        marry  ...                          0   \n",
       "3         23.0        marry  ...                          0   \n",
       "4         27.0      neutral  ...  {\"type\":\"kill\",\"votes\":3}   \n",
       "\n",
       "            firstSeen           lastLogin  score  votes_given  push.enable  \\\n",
       "0 2017-01-17 07:31:27 2018-06-09 08:03:20   25.0       1804.0        False   \n",
       "1 2016-10-31 22:57:36 2017-04-23 16:21:48    0.0        802.0         True   \n",
       "2 2017-10-27 12:12:04 2017-12-05 23:36:45    0.0        147.0        False   \n",
       "3 2017-10-19 20:00:19 2017-11-01 23:34:06    0.0        167.0        False   \n",
       "4 2017-11-12 20:31:06 2018-12-01 19:51:35   25.0        381.0         True   \n",
       "\n",
       "   uninstalled                         previousRank powerVotes profile.genders  \n",
       "0        False  {\"fuck\":816,\"marry\":816,\"kill\":816}        3.0             0.0  \n",
       "1         True                                    0        3.0             0.0  \n",
       "2         True  {\"fuck\":561,\"marry\":242,\"kill\":504}        3.0             0.0  \n",
       "3        False  {\"fuck\":489,\"marry\":400,\"kill\":279}        3.0             0.0  \n",
       "4         True  {\"fuck\":518,\"marry\":518,\"kill\":518}        3.0             0.0  \n",
       "\n",
       "[5 rows x 29 columns]"
      ]
     },
     "execution_count": 293,
     "metadata": {},
     "output_type": "execute_result"
    }
   ],
   "source": [
    "#match_con = match_con.drop('_id', axis=1)\n",
    "match_con.head()"
   ]
  },
  {
   "cell_type": "code",
   "execution_count": 294,
   "metadata": {
    "collapsed": true
   },
   "outputs": [
    {
     "ename": "KeyboardInterrupt",
     "evalue": "",
     "output_type": "error",
     "traceback": [
      "\u001b[0;31m---------------------------------------------------------------------------\u001b[0m",
      "\u001b[0;31mKeyboardInterrupt\u001b[0m                         Traceback (most recent call last)",
      "\u001b[0;32m<ipython-input-294-db77d5902358>\u001b[0m in \u001b[0;36m<module>\u001b[0;34m\u001b[0m\n\u001b[0;32m----> 1\u001b[0;31m \u001b[0mmatch_f_user\u001b[0m\u001b[0;34m.\u001b[0m\u001b[0mshape\u001b[0m\u001b[0;34m[\u001b[0m\u001b[0;36m0\u001b[0m\u001b[0;34m]\u001b[0m\u001b[0;34m.\u001b[0m\u001b[0mcompute\u001b[0m\u001b[0;34m(\u001b[0m\u001b[0;34m)\u001b[0m\u001b[0;34m\u001b[0m\u001b[0;34m\u001b[0m\u001b[0m\n\u001b[0m",
      "\u001b[0;32m~/anaconda3/lib/python3.7/site-packages/dask/base.py\u001b[0m in \u001b[0;36mcompute\u001b[0;34m(self, **kwargs)\u001b[0m\n\u001b[1;32m    154\u001b[0m         \u001b[0mdask\u001b[0m\u001b[0;34m.\u001b[0m\u001b[0mbase\u001b[0m\u001b[0;34m.\u001b[0m\u001b[0mcompute\u001b[0m\u001b[0;34m\u001b[0m\u001b[0;34m\u001b[0m\u001b[0m\n\u001b[1;32m    155\u001b[0m         \"\"\"\n\u001b[0;32m--> 156\u001b[0;31m         \u001b[0;34m(\u001b[0m\u001b[0mresult\u001b[0m\u001b[0;34m,\u001b[0m\u001b[0;34m)\u001b[0m \u001b[0;34m=\u001b[0m \u001b[0mcompute\u001b[0m\u001b[0;34m(\u001b[0m\u001b[0mself\u001b[0m\u001b[0;34m,\u001b[0m \u001b[0mtraverse\u001b[0m\u001b[0;34m=\u001b[0m\u001b[0;32mFalse\u001b[0m\u001b[0;34m,\u001b[0m \u001b[0;34m**\u001b[0m\u001b[0mkwargs\u001b[0m\u001b[0;34m)\u001b[0m\u001b[0;34m\u001b[0m\u001b[0;34m\u001b[0m\u001b[0m\n\u001b[0m\u001b[1;32m    157\u001b[0m         \u001b[0;32mreturn\u001b[0m \u001b[0mresult\u001b[0m\u001b[0;34m\u001b[0m\u001b[0;34m\u001b[0m\u001b[0m\n\u001b[1;32m    158\u001b[0m \u001b[0;34m\u001b[0m\u001b[0m\n",
      "\u001b[0;32m~/anaconda3/lib/python3.7/site-packages/dask/base.py\u001b[0m in \u001b[0;36mcompute\u001b[0;34m(*args, **kwargs)\u001b[0m\n\u001b[1;32m    396\u001b[0m     \u001b[0mkeys\u001b[0m \u001b[0;34m=\u001b[0m \u001b[0;34m[\u001b[0m\u001b[0mx\u001b[0m\u001b[0;34m.\u001b[0m\u001b[0m__dask_keys__\u001b[0m\u001b[0;34m(\u001b[0m\u001b[0;34m)\u001b[0m \u001b[0;32mfor\u001b[0m \u001b[0mx\u001b[0m \u001b[0;32min\u001b[0m \u001b[0mcollections\u001b[0m\u001b[0;34m]\u001b[0m\u001b[0;34m\u001b[0m\u001b[0;34m\u001b[0m\u001b[0m\n\u001b[1;32m    397\u001b[0m     \u001b[0mpostcomputes\u001b[0m \u001b[0;34m=\u001b[0m \u001b[0;34m[\u001b[0m\u001b[0mx\u001b[0m\u001b[0;34m.\u001b[0m\u001b[0m__dask_postcompute__\u001b[0m\u001b[0;34m(\u001b[0m\u001b[0;34m)\u001b[0m \u001b[0;32mfor\u001b[0m \u001b[0mx\u001b[0m \u001b[0;32min\u001b[0m \u001b[0mcollections\u001b[0m\u001b[0;34m]\u001b[0m\u001b[0;34m\u001b[0m\u001b[0;34m\u001b[0m\u001b[0m\n\u001b[0;32m--> 398\u001b[0;31m     \u001b[0mresults\u001b[0m \u001b[0;34m=\u001b[0m \u001b[0mschedule\u001b[0m\u001b[0;34m(\u001b[0m\u001b[0mdsk\u001b[0m\u001b[0;34m,\u001b[0m \u001b[0mkeys\u001b[0m\u001b[0;34m,\u001b[0m \u001b[0;34m**\u001b[0m\u001b[0mkwargs\u001b[0m\u001b[0;34m)\u001b[0m\u001b[0;34m\u001b[0m\u001b[0;34m\u001b[0m\u001b[0m\n\u001b[0m\u001b[1;32m    399\u001b[0m     \u001b[0;32mreturn\u001b[0m \u001b[0mrepack\u001b[0m\u001b[0;34m(\u001b[0m\u001b[0;34m[\u001b[0m\u001b[0mf\u001b[0m\u001b[0;34m(\u001b[0m\u001b[0mr\u001b[0m\u001b[0;34m,\u001b[0m \u001b[0;34m*\u001b[0m\u001b[0ma\u001b[0m\u001b[0;34m)\u001b[0m \u001b[0;32mfor\u001b[0m \u001b[0mr\u001b[0m\u001b[0;34m,\u001b[0m \u001b[0;34m(\u001b[0m\u001b[0mf\u001b[0m\u001b[0;34m,\u001b[0m \u001b[0ma\u001b[0m\u001b[0;34m)\u001b[0m \u001b[0;32min\u001b[0m \u001b[0mzip\u001b[0m\u001b[0;34m(\u001b[0m\u001b[0mresults\u001b[0m\u001b[0;34m,\u001b[0m \u001b[0mpostcomputes\u001b[0m\u001b[0;34m)\u001b[0m\u001b[0;34m]\u001b[0m\u001b[0;34m)\u001b[0m\u001b[0;34m\u001b[0m\u001b[0;34m\u001b[0m\u001b[0m\n\u001b[1;32m    400\u001b[0m \u001b[0;34m\u001b[0m\u001b[0m\n",
      "\u001b[0;32m~/anaconda3/lib/python3.7/site-packages/dask/threaded.py\u001b[0m in \u001b[0;36mget\u001b[0;34m(dsk, result, cache, num_workers, pool, **kwargs)\u001b[0m\n\u001b[1;32m     74\u001b[0m     results = get_async(pool.apply_async, len(pool._pool), dsk, result,\n\u001b[1;32m     75\u001b[0m                         \u001b[0mcache\u001b[0m\u001b[0;34m=\u001b[0m\u001b[0mcache\u001b[0m\u001b[0;34m,\u001b[0m \u001b[0mget_id\u001b[0m\u001b[0;34m=\u001b[0m\u001b[0m_thread_get_id\u001b[0m\u001b[0;34m,\u001b[0m\u001b[0;34m\u001b[0m\u001b[0;34m\u001b[0m\u001b[0m\n\u001b[0;32m---> 76\u001b[0;31m                         pack_exception=pack_exception, **kwargs)\n\u001b[0m\u001b[1;32m     77\u001b[0m \u001b[0;34m\u001b[0m\u001b[0m\n\u001b[1;32m     78\u001b[0m     \u001b[0;31m# Cleanup pools associated to dead threads\u001b[0m\u001b[0;34m\u001b[0m\u001b[0;34m\u001b[0m\u001b[0;34m\u001b[0m\u001b[0m\n",
      "\u001b[0;32m~/anaconda3/lib/python3.7/site-packages/dask/local.py\u001b[0m in \u001b[0;36mget_async\u001b[0;34m(apply_async, num_workers, dsk, result, cache, get_id, rerun_exceptions_locally, pack_exception, raise_exception, callbacks, dumps, loads, **kwargs)\u001b[0m\n\u001b[1;32m    451\u001b[0m             \u001b[0;31m# Main loop, wait on tasks to finish, insert new ones\u001b[0m\u001b[0;34m\u001b[0m\u001b[0;34m\u001b[0m\u001b[0;34m\u001b[0m\u001b[0m\n\u001b[1;32m    452\u001b[0m             \u001b[0;32mwhile\u001b[0m \u001b[0mstate\u001b[0m\u001b[0;34m[\u001b[0m\u001b[0;34m'waiting'\u001b[0m\u001b[0;34m]\u001b[0m \u001b[0;32mor\u001b[0m \u001b[0mstate\u001b[0m\u001b[0;34m[\u001b[0m\u001b[0;34m'ready'\u001b[0m\u001b[0;34m]\u001b[0m \u001b[0;32mor\u001b[0m \u001b[0mstate\u001b[0m\u001b[0;34m[\u001b[0m\u001b[0;34m'running'\u001b[0m\u001b[0;34m]\u001b[0m\u001b[0;34m:\u001b[0m\u001b[0;34m\u001b[0m\u001b[0;34m\u001b[0m\u001b[0m\n\u001b[0;32m--> 453\u001b[0;31m                 \u001b[0mkey\u001b[0m\u001b[0;34m,\u001b[0m \u001b[0mres_info\u001b[0m\u001b[0;34m,\u001b[0m \u001b[0mfailed\u001b[0m \u001b[0;34m=\u001b[0m \u001b[0mqueue_get\u001b[0m\u001b[0;34m(\u001b[0m\u001b[0mqueue\u001b[0m\u001b[0;34m)\u001b[0m\u001b[0;34m\u001b[0m\u001b[0;34m\u001b[0m\u001b[0m\n\u001b[0m\u001b[1;32m    454\u001b[0m                 \u001b[0;32mif\u001b[0m \u001b[0mfailed\u001b[0m\u001b[0;34m:\u001b[0m\u001b[0;34m\u001b[0m\u001b[0;34m\u001b[0m\u001b[0m\n\u001b[1;32m    455\u001b[0m                     \u001b[0mexc\u001b[0m\u001b[0;34m,\u001b[0m \u001b[0mtb\u001b[0m \u001b[0;34m=\u001b[0m \u001b[0mloads\u001b[0m\u001b[0;34m(\u001b[0m\u001b[0mres_info\u001b[0m\u001b[0;34m)\u001b[0m\u001b[0;34m\u001b[0m\u001b[0;34m\u001b[0m\u001b[0m\n",
      "\u001b[0;32m~/anaconda3/lib/python3.7/site-packages/dask/local.py\u001b[0m in \u001b[0;36mqueue_get\u001b[0;34m(q)\u001b[0m\n\u001b[1;32m    139\u001b[0m \u001b[0;32melse\u001b[0m\u001b[0;34m:\u001b[0m\u001b[0;34m\u001b[0m\u001b[0;34m\u001b[0m\u001b[0m\n\u001b[1;32m    140\u001b[0m     \u001b[0;32mdef\u001b[0m \u001b[0mqueue_get\u001b[0m\u001b[0;34m(\u001b[0m\u001b[0mq\u001b[0m\u001b[0;34m)\u001b[0m\u001b[0;34m:\u001b[0m\u001b[0;34m\u001b[0m\u001b[0;34m\u001b[0m\u001b[0m\n\u001b[0;32m--> 141\u001b[0;31m         \u001b[0;32mreturn\u001b[0m \u001b[0mq\u001b[0m\u001b[0;34m.\u001b[0m\u001b[0mget\u001b[0m\u001b[0;34m(\u001b[0m\u001b[0;34m)\u001b[0m\u001b[0;34m\u001b[0m\u001b[0;34m\u001b[0m\u001b[0m\n\u001b[0m\u001b[1;32m    142\u001b[0m \u001b[0;34m\u001b[0m\u001b[0m\n\u001b[1;32m    143\u001b[0m \u001b[0;34m\u001b[0m\u001b[0m\n",
      "\u001b[0;32m~/anaconda3/lib/python3.7/queue.py\u001b[0m in \u001b[0;36mget\u001b[0;34m(self, block, timeout)\u001b[0m\n\u001b[1;32m    168\u001b[0m             \u001b[0;32melif\u001b[0m \u001b[0mtimeout\u001b[0m \u001b[0;32mis\u001b[0m \u001b[0;32mNone\u001b[0m\u001b[0;34m:\u001b[0m\u001b[0;34m\u001b[0m\u001b[0;34m\u001b[0m\u001b[0m\n\u001b[1;32m    169\u001b[0m                 \u001b[0;32mwhile\u001b[0m \u001b[0;32mnot\u001b[0m \u001b[0mself\u001b[0m\u001b[0;34m.\u001b[0m\u001b[0m_qsize\u001b[0m\u001b[0;34m(\u001b[0m\u001b[0;34m)\u001b[0m\u001b[0;34m:\u001b[0m\u001b[0;34m\u001b[0m\u001b[0;34m\u001b[0m\u001b[0m\n\u001b[0;32m--> 170\u001b[0;31m                     \u001b[0mself\u001b[0m\u001b[0;34m.\u001b[0m\u001b[0mnot_empty\u001b[0m\u001b[0;34m.\u001b[0m\u001b[0mwait\u001b[0m\u001b[0;34m(\u001b[0m\u001b[0;34m)\u001b[0m\u001b[0;34m\u001b[0m\u001b[0;34m\u001b[0m\u001b[0m\n\u001b[0m\u001b[1;32m    171\u001b[0m             \u001b[0;32melif\u001b[0m \u001b[0mtimeout\u001b[0m \u001b[0;34m<\u001b[0m \u001b[0;36m0\u001b[0m\u001b[0;34m:\u001b[0m\u001b[0;34m\u001b[0m\u001b[0;34m\u001b[0m\u001b[0m\n\u001b[1;32m    172\u001b[0m                 \u001b[0;32mraise\u001b[0m \u001b[0mValueError\u001b[0m\u001b[0;34m(\u001b[0m\u001b[0;34m\"'timeout' must be a non-negative number\"\u001b[0m\u001b[0;34m)\u001b[0m\u001b[0;34m\u001b[0m\u001b[0;34m\u001b[0m\u001b[0m\n",
      "\u001b[0;32m~/anaconda3/lib/python3.7/threading.py\u001b[0m in \u001b[0;36mwait\u001b[0;34m(self, timeout)\u001b[0m\n\u001b[1;32m    294\u001b[0m         \u001b[0;32mtry\u001b[0m\u001b[0;34m:\u001b[0m    \u001b[0;31m# restore state no matter what (e.g., KeyboardInterrupt)\u001b[0m\u001b[0;34m\u001b[0m\u001b[0;34m\u001b[0m\u001b[0m\n\u001b[1;32m    295\u001b[0m             \u001b[0;32mif\u001b[0m \u001b[0mtimeout\u001b[0m \u001b[0;32mis\u001b[0m \u001b[0;32mNone\u001b[0m\u001b[0;34m:\u001b[0m\u001b[0;34m\u001b[0m\u001b[0;34m\u001b[0m\u001b[0m\n\u001b[0;32m--> 296\u001b[0;31m                 \u001b[0mwaiter\u001b[0m\u001b[0;34m.\u001b[0m\u001b[0macquire\u001b[0m\u001b[0;34m(\u001b[0m\u001b[0;34m)\u001b[0m\u001b[0;34m\u001b[0m\u001b[0;34m\u001b[0m\u001b[0m\n\u001b[0m\u001b[1;32m    297\u001b[0m                 \u001b[0mgotit\u001b[0m \u001b[0;34m=\u001b[0m \u001b[0;32mTrue\u001b[0m\u001b[0;34m\u001b[0m\u001b[0;34m\u001b[0m\u001b[0m\n\u001b[1;32m    298\u001b[0m             \u001b[0;32melse\u001b[0m\u001b[0;34m:\u001b[0m\u001b[0;34m\u001b[0m\u001b[0;34m\u001b[0m\u001b[0m\n",
      "\u001b[0;31mKeyboardInterrupt\u001b[0m: "
     ]
    }
   ],
   "source": [
    "match_con.shape#[0].compute()"
   ]
  },
  {
   "cell_type": "code",
   "execution_count": 197,
   "metadata": {
    "scrolled": true
   },
   "outputs": [
    {
     "data": {
      "text/plain": [
       "Index(['matchid', 'type', 'when', 'userid', 'profile.active', 'profile.about',\n",
       "       'profile.interested_in', 'profile.age', 'profile.type',\n",
       "       'profile.pos.coordinates', 'profile.fromInstagram',\n",
       "       'profile.fromFacebook', 'profile.unirace', 'profile.purchased',\n",
       "       'profile.subscription', 'profile.boosted', 'profile.lang',\n",
       "       'profile.record_streak', 'profile.actual_streak', 'firstSeen',\n",
       "       'lastLogin', 'score', 'votes_given', 'push.enable', 'uninstalled',\n",
       "       'previousRank', 'powerVotes', 'profile.genders'],\n",
       "      dtype='object')"
      ]
     },
     "execution_count": 197,
     "metadata": {},
     "output_type": "execute_result"
    }
   ],
   "source": [
    "match_con.columns"
   ]
  },
  {
   "cell_type": "markdown",
   "metadata": {},
   "source": [
    "Note: variables ending with 'x' are those from the first users, 'y' are from the second users."
   ]
  },
  {
   "cell_type": "markdown",
   "metadata": {},
   "source": [
    "### Merge current dataset with 'message' information "
   ]
  },
  {
   "cell_type": "code",
   "execution_count": 299,
   "metadata": {},
   "outputs": [],
   "source": [
    "match_message = match_con.merge(messages, left_on = 'matchid', right_index=True, how='left')"
   ]
  },
  {
   "cell_type": "code",
   "execution_count": 300,
   "metadata": {},
   "outputs": [
    {
     "data": {
      "text/html": [
       "<div>\n",
       "<style scoped>\n",
       "    .dataframe tbody tr th:only-of-type {\n",
       "        vertical-align: middle;\n",
       "    }\n",
       "\n",
       "    .dataframe tbody tr th {\n",
       "        vertical-align: top;\n",
       "    }\n",
       "\n",
       "    .dataframe thead th {\n",
       "        text-align: right;\n",
       "    }\n",
       "</style>\n",
       "<table border=\"1\" class=\"dataframe\">\n",
       "  <thead>\n",
       "    <tr style=\"text-align: right;\">\n",
       "      <th></th>\n",
       "      <th>matchid</th>\n",
       "      <th>type</th>\n",
       "      <th>when</th>\n",
       "      <th>userid</th>\n",
       "      <th>accept</th>\n",
       "      <th>profile.active</th>\n",
       "      <th>profile.about</th>\n",
       "      <th>profile.interested_in</th>\n",
       "      <th>profile.age</th>\n",
       "      <th>profile.type</th>\n",
       "      <th>...</th>\n",
       "      <th>score</th>\n",
       "      <th>votes_given</th>\n",
       "      <th>push.enable</th>\n",
       "      <th>uninstalled</th>\n",
       "      <th>previousRank</th>\n",
       "      <th>powerVotes</th>\n",
       "      <th>profile.genders</th>\n",
       "      <th>num_messages</th>\n",
       "      <th>message_user1</th>\n",
       "      <th>message_user2</th>\n",
       "    </tr>\n",
       "  </thead>\n",
       "  <tbody>\n",
       "    <tr>\n",
       "      <th>44</th>\n",
       "      <td>3dW7GiDhrHkwWMhpw</td>\n",
       "      <td>fuck</td>\n",
       "      <td>2018-01-26 03:29:43</td>\n",
       "      <td>GwGrZZx8tZ8v3iqtK</td>\n",
       "      <td>zEoZzZRsWeZWXPesZ</td>\n",
       "      <td>False</td>\n",
       "      <td></td>\n",
       "      <td>male</td>\n",
       "      <td>21.0</td>\n",
       "      <td>marry</td>\n",
       "      <td>...</td>\n",
       "      <td>25.0</td>\n",
       "      <td>3207.0</td>\n",
       "      <td>True</td>\n",
       "      <td>False</td>\n",
       "      <td>{\"fuck\":416,\"marry\":116,\"kill\":437}</td>\n",
       "      <td>3.0</td>\n",
       "      <td>0.0</td>\n",
       "      <td>NaN</td>\n",
       "      <td>NaN</td>\n",
       "      <td>NaN</td>\n",
       "    </tr>\n",
       "    <tr>\n",
       "      <th>67</th>\n",
       "      <td>2dj3kWEydfd8RhGkW</td>\n",
       "      <td>fuck</td>\n",
       "      <td>2017-08-16 22:13:27</td>\n",
       "      <td>w4CtanXEcAoMssst6</td>\n",
       "      <td>dnkQnCDAgWNYWf95H</td>\n",
       "      <td>True</td>\n",
       "      <td>Instagram: violarebeccaa</td>\n",
       "      <td>male</td>\n",
       "      <td>19.0</td>\n",
       "      <td>fuck</td>\n",
       "      <td>...</td>\n",
       "      <td>0.0</td>\n",
       "      <td>42.0</td>\n",
       "      <td>False</td>\n",
       "      <td>False</td>\n",
       "      <td>{\"fuck\":65,\"marry\":81,\"kill\":600}</td>\n",
       "      <td>3.0</td>\n",
       "      <td>0.0</td>\n",
       "      <td>NaN</td>\n",
       "      <td>NaN</td>\n",
       "      <td>NaN</td>\n",
       "    </tr>\n",
       "    <tr>\n",
       "      <th>145</th>\n",
       "      <td>2A75tRsmeSB6kcgcb</td>\n",
       "      <td>fuck</td>\n",
       "      <td>2017-11-29 11:17:27</td>\n",
       "      <td>HLHhxbf5CcALzwJ3z</td>\n",
       "      <td>gpuvz348pHd6c7CW7</td>\n",
       "      <td>False</td>\n",
       "      <td></td>\n",
       "      <td>male</td>\n",
       "      <td>21.0</td>\n",
       "      <td>marry</td>\n",
       "      <td>...</td>\n",
       "      <td>25.0</td>\n",
       "      <td>879.0</td>\n",
       "      <td>False</td>\n",
       "      <td>True</td>\n",
       "      <td>{\"fuck\":1022,\"marry\":998,\"kill\":27}</td>\n",
       "      <td>3.0</td>\n",
       "      <td>0.0</td>\n",
       "      <td>NaN</td>\n",
       "      <td>NaN</td>\n",
       "      <td>NaN</td>\n",
       "    </tr>\n",
       "    <tr>\n",
       "      <th>165</th>\n",
       "      <td>3egRjvvAHTh9MkzAu</td>\n",
       "      <td>fuck</td>\n",
       "      <td>2018-11-05 17:28:32</td>\n",
       "      <td>Jyk3h7zvJANcmJqw4</td>\n",
       "      <td>oRhbA7HZgt2E95FdB</td>\n",
       "      <td>False</td>\n",
       "      <td></td>\n",
       "      <td>female</td>\n",
       "      <td>27.0</td>\n",
       "      <td>fuck</td>\n",
       "      <td>...</td>\n",
       "      <td>25.0</td>\n",
       "      <td>4796.0</td>\n",
       "      <td>False</td>\n",
       "      <td>False</td>\n",
       "      <td>{\"fuck\":354,\"marry\":831,\"kill\":2815}</td>\n",
       "      <td>0.0</td>\n",
       "      <td>1.0</td>\n",
       "      <td>2.0</td>\n",
       "      <td>1.0</td>\n",
       "      <td>1.0</td>\n",
       "    </tr>\n",
       "    <tr>\n",
       "      <th>167</th>\n",
       "      <td>2AwexeF5EsXceYTxR</td>\n",
       "      <td>fuck</td>\n",
       "      <td>2016-11-07 21:54:01</td>\n",
       "      <td>KjoXmEpMYRYYuiig3</td>\n",
       "      <td>zsQ7NMMLxCik2W9ZB</td>\n",
       "      <td>False</td>\n",
       "      <td></td>\n",
       "      <td>male</td>\n",
       "      <td>26.0</td>\n",
       "      <td>marry</td>\n",
       "      <td>...</td>\n",
       "      <td>25.0</td>\n",
       "      <td>2404.0</td>\n",
       "      <td>True</td>\n",
       "      <td>True</td>\n",
       "      <td>{\"fuck\":0,\"marry\":0,\"kill\":0}</td>\n",
       "      <td>3.0</td>\n",
       "      <td>0.0</td>\n",
       "      <td>NaN</td>\n",
       "      <td>NaN</td>\n",
       "      <td>NaN</td>\n",
       "    </tr>\n",
       "  </tbody>\n",
       "</table>\n",
       "<p>5 rows × 32 columns</p>\n",
       "</div>"
      ],
      "text/plain": [
       "               matchid  type                when             userid  \\\n",
       "44   3dW7GiDhrHkwWMhpw  fuck 2018-01-26 03:29:43  GwGrZZx8tZ8v3iqtK   \n",
       "67   2dj3kWEydfd8RhGkW  fuck 2017-08-16 22:13:27  w4CtanXEcAoMssst6   \n",
       "145  2A75tRsmeSB6kcgcb  fuck 2017-11-29 11:17:27  HLHhxbf5CcALzwJ3z   \n",
       "165  3egRjvvAHTh9MkzAu  fuck 2018-11-05 17:28:32  Jyk3h7zvJANcmJqw4   \n",
       "167  2AwexeF5EsXceYTxR  fuck 2016-11-07 21:54:01  KjoXmEpMYRYYuiig3   \n",
       "\n",
       "                accept profile.active              profile.about  \\\n",
       "44   zEoZzZRsWeZWXPesZ          False                              \n",
       "67   dnkQnCDAgWNYWf95H           True  Instagram: violarebeccaa    \n",
       "145  gpuvz348pHd6c7CW7          False                              \n",
       "165  oRhbA7HZgt2E95FdB          False                              \n",
       "167  zsQ7NMMLxCik2W9ZB          False                              \n",
       "\n",
       "    profile.interested_in  profile.age profile.type  ... score votes_given  \\\n",
       "44                   male         21.0        marry  ...  25.0      3207.0   \n",
       "67                   male         19.0         fuck  ...   0.0        42.0   \n",
       "145                  male         21.0        marry  ...  25.0       879.0   \n",
       "165                female         27.0         fuck  ...  25.0      4796.0   \n",
       "167                  male         26.0        marry  ...  25.0      2404.0   \n",
       "\n",
       "    push.enable uninstalled                          previousRank powerVotes  \\\n",
       "44         True       False   {\"fuck\":416,\"marry\":116,\"kill\":437}        3.0   \n",
       "67        False       False     {\"fuck\":65,\"marry\":81,\"kill\":600}        3.0   \n",
       "145       False        True   {\"fuck\":1022,\"marry\":998,\"kill\":27}        3.0   \n",
       "165       False       False  {\"fuck\":354,\"marry\":831,\"kill\":2815}        0.0   \n",
       "167        True        True         {\"fuck\":0,\"marry\":0,\"kill\":0}        3.0   \n",
       "\n",
       "    profile.genders num_messages message_user1 message_user2  \n",
       "44              0.0          NaN           NaN           NaN  \n",
       "67              0.0          NaN           NaN           NaN  \n",
       "145             0.0          NaN           NaN           NaN  \n",
       "165             1.0          2.0           1.0           1.0  \n",
       "167             0.0          NaN           NaN           NaN  \n",
       "\n",
       "[5 rows x 32 columns]"
      ]
     },
     "execution_count": 300,
     "metadata": {},
     "output_type": "execute_result"
    }
   ],
   "source": [
    "match_message.head()"
   ]
  },
  {
   "cell_type": "code",
   "execution_count": 213,
   "metadata": {
    "scrolled": false
   },
   "outputs": [
    {
     "data": {
      "text/plain": [
       "585642"
      ]
     },
     "execution_count": 213,
     "metadata": {},
     "output_type": "execute_result"
    }
   ],
   "source": [
    "match_message.shape#[0].compute()"
   ]
  },
  {
   "cell_type": "markdown",
   "metadata": {},
   "source": [
    "### Build target vector: real matches"
   ]
  },
  {
   "cell_type": "code",
   "execution_count": 317,
   "metadata": {},
   "outputs": [],
   "source": [
    "all_con = pd.read_pickle('dataset/match_message.pkl')"
   ]
  },
  {
   "cell_type": "code",
   "execution_count": 319,
   "metadata": {},
   "outputs": [
    {
     "data": {
      "text/html": [
       "<div>\n",
       "<style scoped>\n",
       "    .dataframe tbody tr th:only-of-type {\n",
       "        vertical-align: middle;\n",
       "    }\n",
       "\n",
       "    .dataframe tbody tr th {\n",
       "        vertical-align: top;\n",
       "    }\n",
       "\n",
       "    .dataframe thead th {\n",
       "        text-align: right;\n",
       "    }\n",
       "</style>\n",
       "<table border=\"1\" class=\"dataframe\">\n",
       "  <thead>\n",
       "    <tr style=\"text-align: right;\">\n",
       "      <th></th>\n",
       "      <th>to</th>\n",
       "      <th>from</th>\n",
       "      <th>type</th>\n",
       "      <th>when_x</th>\n",
       "      <th>profile.active</th>\n",
       "      <th>profile.about</th>\n",
       "      <th>profile.interested_in</th>\n",
       "      <th>profile.age</th>\n",
       "      <th>profile.type</th>\n",
       "      <th>profile.pos.coordinates</th>\n",
       "      <th>...</th>\n",
       "      <th>push.enable</th>\n",
       "      <th>uninstalled</th>\n",
       "      <th>previousRank</th>\n",
       "      <th>powerVotes</th>\n",
       "      <th>profile.genders</th>\n",
       "      <th>matchid</th>\n",
       "      <th>when_y</th>\n",
       "      <th>userid</th>\n",
       "      <th>accept</th>\n",
       "      <th>num_messages</th>\n",
       "    </tr>\n",
       "  </thead>\n",
       "  <tbody>\n",
       "    <tr>\n",
       "      <th>0</th>\n",
       "      <td>mNxJxtSxDdBbTk5Ys</td>\n",
       "      <td>qpAL5TTco2ngd5MEP</td>\n",
       "      <td>kill</td>\n",
       "      <td>2017-11-13 08:46:09</td>\n",
       "      <td>False</td>\n",
       "      <td>come on</td>\n",
       "      <td>female</td>\n",
       "      <td>26.0</td>\n",
       "      <td>neutral</td>\n",
       "      <td>[0,0]</td>\n",
       "      <td>...</td>\n",
       "      <td>True</td>\n",
       "      <td>True</td>\n",
       "      <td>0</td>\n",
       "      <td>3.0</td>\n",
       "      <td>1.0</td>\n",
       "      <td>NaN</td>\n",
       "      <td>NaT</td>\n",
       "      <td>NaN</td>\n",
       "      <td>NaN</td>\n",
       "      <td>NaN</td>\n",
       "    </tr>\n",
       "    <tr>\n",
       "      <th>1</th>\n",
       "      <td>o6qjf5jRE8pojbtj7</td>\n",
       "      <td>9BWsYf2ZwkvCEhAHj</td>\n",
       "      <td>marry</td>\n",
       "      <td>2018-03-10 01:53:25</td>\n",
       "      <td>False</td>\n",
       "      <td>insta -&gt; biamaia_19</td>\n",
       "      <td>male</td>\n",
       "      <td>20.0</td>\n",
       "      <td>fuck</td>\n",
       "      <td>[-7.9711585,40.7263597]</td>\n",
       "      <td>...</td>\n",
       "      <td>False</td>\n",
       "      <td>True</td>\n",
       "      <td>{\"fuck\":470,\"marry\":470,\"kill\":470}</td>\n",
       "      <td>0.0</td>\n",
       "      <td>0.0</td>\n",
       "      <td>NaN</td>\n",
       "      <td>NaT</td>\n",
       "      <td>NaN</td>\n",
       "      <td>NaN</td>\n",
       "      <td>NaN</td>\n",
       "    </tr>\n",
       "    <tr>\n",
       "      <th>2</th>\n",
       "      <td>ZZcno9u7Ar6HwCwaF</td>\n",
       "      <td>wRLJrt4835QrSfH6A</td>\n",
       "      <td>kill</td>\n",
       "      <td>2017-02-12 23:30:40</td>\n",
       "      <td>False</td>\n",
       "      <td></td>\n",
       "      <td>female</td>\n",
       "      <td>23.0</td>\n",
       "      <td>marry</td>\n",
       "      <td>[6.7947676,50.8113247]</td>\n",
       "      <td>...</td>\n",
       "      <td>True</td>\n",
       "      <td>True</td>\n",
       "      <td>0</td>\n",
       "      <td>3.0</td>\n",
       "      <td>1.0</td>\n",
       "      <td>NaN</td>\n",
       "      <td>NaT</td>\n",
       "      <td>NaN</td>\n",
       "      <td>NaN</td>\n",
       "      <td>NaN</td>\n",
       "    </tr>\n",
       "    <tr>\n",
       "      <th>3</th>\n",
       "      <td>zuCFfviDzDmay65cS</td>\n",
       "      <td>tHqJvGu4gr8KyzoTL</td>\n",
       "      <td>fuck</td>\n",
       "      <td>2017-11-22 10:26:26</td>\n",
       "      <td>False</td>\n",
       "      <td></td>\n",
       "      <td>female</td>\n",
       "      <td>29.0</td>\n",
       "      <td>fuck</td>\n",
       "      <td>[-9.2115885,38.7417719]</td>\n",
       "      <td>...</td>\n",
       "      <td>True</td>\n",
       "      <td>True</td>\n",
       "      <td>{\"fuck\":2816,\"marry\":2990,\"kill\":1575}</td>\n",
       "      <td>0.0</td>\n",
       "      <td>1.0</td>\n",
       "      <td>NaN</td>\n",
       "      <td>NaT</td>\n",
       "      <td>NaN</td>\n",
       "      <td>NaN</td>\n",
       "      <td>NaN</td>\n",
       "    </tr>\n",
       "    <tr>\n",
       "      <th>4</th>\n",
       "      <td>wP5x9ezFuSDGFHg4z</td>\n",
       "      <td>BW4enJFd56AnAMbeW</td>\n",
       "      <td>kill</td>\n",
       "      <td>2017-11-20 18:09:04</td>\n",
       "      <td>False</td>\n",
       "      <td></td>\n",
       "      <td>female</td>\n",
       "      <td>23.0</td>\n",
       "      <td>fuck</td>\n",
       "      <td>[-8.1415383,41.6335751]</td>\n",
       "      <td>...</td>\n",
       "      <td>True</td>\n",
       "      <td>True</td>\n",
       "      <td>{\"fuck\":2462,\"marry\":2462,\"kill\":2462}</td>\n",
       "      <td>3.0</td>\n",
       "      <td>1.0</td>\n",
       "      <td>NaN</td>\n",
       "      <td>NaT</td>\n",
       "      <td>NaN</td>\n",
       "      <td>NaN</td>\n",
       "      <td>NaN</td>\n",
       "    </tr>\n",
       "  </tbody>\n",
       "</table>\n",
       "<p>5 rows × 33 columns</p>\n",
       "</div>"
      ],
      "text/plain": [
       "                  to               from   type              when_x  \\\n",
       "0  mNxJxtSxDdBbTk5Ys  qpAL5TTco2ngd5MEP   kill 2017-11-13 08:46:09   \n",
       "1  o6qjf5jRE8pojbtj7  9BWsYf2ZwkvCEhAHj  marry 2018-03-10 01:53:25   \n",
       "2  ZZcno9u7Ar6HwCwaF  wRLJrt4835QrSfH6A   kill 2017-02-12 23:30:40   \n",
       "3  zuCFfviDzDmay65cS  tHqJvGu4gr8KyzoTL   fuck 2017-11-22 10:26:26   \n",
       "4  wP5x9ezFuSDGFHg4z  BW4enJFd56AnAMbeW   kill 2017-11-20 18:09:04   \n",
       "\n",
       "  profile.active        profile.about profile.interested_in  profile.age  \\\n",
       "0          False              come on                female         26.0   \n",
       "1          False  insta -> biamaia_19                  male         20.0   \n",
       "2          False                                     female         23.0   \n",
       "3          False                                     female         29.0   \n",
       "4          False                                     female         23.0   \n",
       "\n",
       "  profile.type  profile.pos.coordinates  ... push.enable uninstalled  \\\n",
       "0      neutral                    [0,0]  ...        True        True   \n",
       "1         fuck  [-7.9711585,40.7263597]  ...       False        True   \n",
       "2        marry   [6.7947676,50.8113247]  ...        True        True   \n",
       "3         fuck  [-9.2115885,38.7417719]  ...        True        True   \n",
       "4         fuck  [-8.1415383,41.6335751]  ...        True        True   \n",
       "\n",
       "                             previousRank powerVotes profile.genders matchid  \\\n",
       "0                                       0        3.0             1.0     NaN   \n",
       "1     {\"fuck\":470,\"marry\":470,\"kill\":470}        0.0             0.0     NaN   \n",
       "2                                       0        3.0             1.0     NaN   \n",
       "3  {\"fuck\":2816,\"marry\":2990,\"kill\":1575}        0.0             1.0     NaN   \n",
       "4  {\"fuck\":2462,\"marry\":2462,\"kill\":2462}        3.0             1.0     NaN   \n",
       "\n",
       "  when_y userid accept num_messages  \n",
       "0    NaT    NaN    NaN          NaN  \n",
       "1    NaT    NaN    NaN          NaN  \n",
       "2    NaT    NaN    NaN          NaN  \n",
       "3    NaT    NaN    NaN          NaN  \n",
       "4    NaT    NaN    NaN          NaN  \n",
       "\n",
       "[5 rows x 33 columns]"
      ]
     },
     "execution_count": 319,
     "metadata": {},
     "output_type": "execute_result"
    }
   ],
   "source": [
    "all_con.head()"
   ]
  },
  {
   "cell_type": "code",
   "execution_count": 318,
   "metadata": {
    "scrolled": true
   },
   "outputs": [
    {
     "ename": "AttributeError",
     "evalue": "'DataFrame' object has no attribute 'message_user1'",
     "output_type": "error",
     "traceback": [
      "\u001b[0;31m---------------------------------------------------------------------------\u001b[0m",
      "\u001b[0;31mAttributeError\u001b[0m                            Traceback (most recent call last)",
      "\u001b[0;32m<ipython-input-318-a72b97a7ed4a>\u001b[0m in \u001b[0;36m<module>\u001b[0;34m\u001b[0m\n\u001b[1;32m      1\u001b[0m \u001b[0msuc_match\u001b[0m\u001b[0;34m=\u001b[0m\u001b[0;34m[\u001b[0m\u001b[0;34m]\u001b[0m\u001b[0;34m\u001b[0m\u001b[0;34m\u001b[0m\u001b[0m\n\u001b[1;32m      2\u001b[0m \u001b[0;32mfor\u001b[0m \u001b[0mi\u001b[0m \u001b[0;32min\u001b[0m \u001b[0mrange\u001b[0m\u001b[0;34m(\u001b[0m\u001b[0mlen\u001b[0m\u001b[0;34m(\u001b[0m\u001b[0mall_con\u001b[0m\u001b[0;34m)\u001b[0m\u001b[0;34m)\u001b[0m\u001b[0;34m:\u001b[0m\u001b[0;34m\u001b[0m\u001b[0;34m\u001b[0m\u001b[0m\n\u001b[0;32m----> 3\u001b[0;31m     \u001b[0;32mif\u001b[0m \u001b[0;34m(\u001b[0m\u001b[0mall_con\u001b[0m\u001b[0;34m.\u001b[0m\u001b[0mnum_messages\u001b[0m\u001b[0;34m[\u001b[0m\u001b[0mi\u001b[0m\u001b[0;34m]\u001b[0m \u001b[0;34m>=\u001b[0m \u001b[0;36m5\u001b[0m\u001b[0;34m)\u001b[0m\u001b[0;34m&\u001b[0m\u001b[0;34m(\u001b[0m\u001b[0mall_con\u001b[0m\u001b[0;34m.\u001b[0m\u001b[0mmessage_user1\u001b[0m\u001b[0;34m[\u001b[0m\u001b[0mi\u001b[0m\u001b[0;34m]\u001b[0m \u001b[0;34m>=\u001b[0m \u001b[0;36m2\u001b[0m\u001b[0;34m)\u001b[0m\u001b[0;34m&\u001b[0m\u001b[0;34m(\u001b[0m\u001b[0mall_con\u001b[0m\u001b[0;34m.\u001b[0m\u001b[0mmessage_user2\u001b[0m\u001b[0;34m[\u001b[0m\u001b[0mi\u001b[0m\u001b[0;34m]\u001b[0m \u001b[0;34m>=\u001b[0m \u001b[0;36m2\u001b[0m\u001b[0;34m)\u001b[0m\u001b[0;34m:\u001b[0m\u001b[0;34m\u001b[0m\u001b[0;34m\u001b[0m\u001b[0m\n\u001b[0m\u001b[1;32m      4\u001b[0m         \u001b[0msuc_match\u001b[0m\u001b[0;34m.\u001b[0m\u001b[0mappend\u001b[0m\u001b[0;34m(\u001b[0m\u001b[0;36m1\u001b[0m\u001b[0;34m)\u001b[0m\u001b[0;34m\u001b[0m\u001b[0;34m\u001b[0m\u001b[0m\n\u001b[1;32m      5\u001b[0m     \u001b[0;32melse\u001b[0m\u001b[0;34m:\u001b[0m\u001b[0;34m\u001b[0m\u001b[0;34m\u001b[0m\u001b[0m\n",
      "\u001b[0;32m~/anaconda3/lib/python3.7/site-packages/pandas/core/generic.py\u001b[0m in \u001b[0;36m__getattr__\u001b[0;34m(self, name)\u001b[0m\n\u001b[1;32m   5065\u001b[0m             \u001b[0;32mif\u001b[0m \u001b[0mself\u001b[0m\u001b[0;34m.\u001b[0m\u001b[0m_info_axis\u001b[0m\u001b[0;34m.\u001b[0m\u001b[0m_can_hold_identifiers_and_holds_name\u001b[0m\u001b[0;34m(\u001b[0m\u001b[0mname\u001b[0m\u001b[0;34m)\u001b[0m\u001b[0;34m:\u001b[0m\u001b[0;34m\u001b[0m\u001b[0;34m\u001b[0m\u001b[0m\n\u001b[1;32m   5066\u001b[0m                 \u001b[0;32mreturn\u001b[0m \u001b[0mself\u001b[0m\u001b[0;34m[\u001b[0m\u001b[0mname\u001b[0m\u001b[0;34m]\u001b[0m\u001b[0;34m\u001b[0m\u001b[0;34m\u001b[0m\u001b[0m\n\u001b[0;32m-> 5067\u001b[0;31m             \u001b[0;32mreturn\u001b[0m \u001b[0mobject\u001b[0m\u001b[0;34m.\u001b[0m\u001b[0m__getattribute__\u001b[0m\u001b[0;34m(\u001b[0m\u001b[0mself\u001b[0m\u001b[0;34m,\u001b[0m \u001b[0mname\u001b[0m\u001b[0;34m)\u001b[0m\u001b[0;34m\u001b[0m\u001b[0;34m\u001b[0m\u001b[0m\n\u001b[0m\u001b[1;32m   5068\u001b[0m \u001b[0;34m\u001b[0m\u001b[0m\n\u001b[1;32m   5069\u001b[0m     \u001b[0;32mdef\u001b[0m \u001b[0m__setattr__\u001b[0m\u001b[0;34m(\u001b[0m\u001b[0mself\u001b[0m\u001b[0;34m,\u001b[0m \u001b[0mname\u001b[0m\u001b[0;34m,\u001b[0m \u001b[0mvalue\u001b[0m\u001b[0;34m)\u001b[0m\u001b[0;34m:\u001b[0m\u001b[0;34m\u001b[0m\u001b[0;34m\u001b[0m\u001b[0m\n",
      "\u001b[0;31mAttributeError\u001b[0m: 'DataFrame' object has no attribute 'message_user1'"
     ]
    }
   ],
   "source": [
    "suc_match=[]\n",
    "for i in range(len(all_con)):\n",
    "    if (all_con.num_messages[i] >= 5)&(all_con.message_user1[i] >= 2)&(all_con.message_user2[i] >= 2):\n",
    "        suc_match.append(1)\n",
    "    else:\n",
    "        suc_match.append(0)\n",
    "\n",
    "#all_con2['suc_match'] = suc_match\n",
    "#all_con2['suc_match'].head()"
   ]
  },
  {
   "cell_type": "markdown",
   "metadata": {},
   "source": [
    "## Evaluate model"
   ]
  },
  {
   "cell_type": "code",
   "execution_count": 108,
   "metadata": {},
   "outputs": [],
   "source": [
    "from sklearn.model_selection import cross_validate\n",
    "from sklearn.metrics import SCORERS\n",
    "from sklearn.model_selection import train_test_split"
   ]
  },
  {
   "cell_type": "code",
   "execution_count": 28,
   "metadata": {
    "scrolled": true
   },
   "outputs": [
    {
     "data": {
      "text/plain": [
       "dict_keys(['explained_variance', 'r2', 'neg_median_absolute_error', 'neg_mean_absolute_error', 'neg_mean_squared_error', 'neg_mean_squared_log_error', 'accuracy', 'roc_auc', 'balanced_accuracy', 'average_precision', 'neg_log_loss', 'brier_score_loss', 'adjusted_rand_score', 'homogeneity_score', 'completeness_score', 'v_measure_score', 'mutual_info_score', 'adjusted_mutual_info_score', 'normalized_mutual_info_score', 'fowlkes_mallows_score', 'precision', 'precision_macro', 'precision_micro', 'precision_samples', 'precision_weighted', 'recall', 'recall_macro', 'recall_micro', 'recall_samples', 'recall_weighted', 'f1', 'f1_macro', 'f1_micro', 'f1_samples', 'f1_weighted'])"
      ]
     },
     "execution_count": 28,
     "metadata": {},
     "output_type": "execute_result"
    }
   ],
   "source": [
    "SCORERS.keys()"
   ]
  },
  {
   "cell_type": "code",
   "execution_count": null,
   "metadata": {},
   "outputs": [],
   "source": [
    "def evaluate_model(model, X, y, metrics):\n",
    "    score = cross_validate(\n",
    "        estimator = model,\n",
    "        X = X,\n",
    "        y = y,\n",
    "        scoring = metrics,\n",
    "        cv = 5\n",
    "    )"
   ]
  },
  {
   "cell_type": "code",
   "execution_count": 74,
   "metadata": {},
   "outputs": [
    {
     "data": {
      "text/plain": [
       "Index(['matchid', 'first', 'second', 'type', 'disabled', 'unread', 'when',\n",
       "       'last_action', 'hidden', 'firstMessage.userid', 'message', '_id_x',\n",
       "       'profile.active_x', 'profile.about_x', 'profile.interested_in_x',\n",
       "       'profile.age_x', 'profile.type_x', 'profile.pos.coordinates_x',\n",
       "       'profile.fromInstagram_x', 'profile.fromFacebook_x',\n",
       "       'profile.unirace_x', 'profile.purchased_x', 'profile.subscription_x',\n",
       "       'profile.boosted_x', 'profile.lang_x', 'profile.record_streak_x',\n",
       "       'profile.actual_streak_x', 'firstSeen_x', 'lastLogin_x', 'score_x',\n",
       "       'votes_given_x', 'push.enable_x', 'uninstalled_x', 'stats_x',\n",
       "       'previousRank_x', 'powerVotes_x', 'profile.genders_x', '_id_y',\n",
       "       'profile.active_y', 'profile.about_y', 'profile.interested_in_y',\n",
       "       'profile.age_y', 'profile.type_y', 'profile.pos.coordinates_y',\n",
       "       'profile.fromInstagram_y', 'profile.fromFacebook_y',\n",
       "       'profile.unirace_y', 'profile.purchased_y', 'profile.subscription_y',\n",
       "       'profile.boosted_y', 'profile.lang_y', 'profile.record_streak_y',\n",
       "       'profile.actual_streak_y', 'firstSeen_y', 'lastLogin_y', 'score_y',\n",
       "       'votes_given_y', 'push.enable_y', 'uninstalled_y', 'stats_y',\n",
       "       'previousRank_y', 'powerVotes_y', 'profile.genders_y'],\n",
       "      dtype='object')"
      ]
     },
     "execution_count": 74,
     "metadata": {},
     "output_type": "execute_result"
    }
   ],
   "source": [
    "match_user2.columns"
   ]
  },
  {
   "cell_type": "code",
   "execution_count": 84,
   "metadata": {},
   "outputs": [],
   "source": [
    "X = match_user2.drop(['matchid', 'first', 'second', 'type', 'disabled', 'unread', 'when','last_action', \n",
    "                                 'hidden', 'firstMessage.userid', 'message', '_id_x', 'profile.about_x', \n",
    "                                 'profile.record_streak_x', 'profile.actual_streak_x', 'stats_x', 'previousRank_x',\n",
    "                                '_id_y', 'profile.about_y', 'profile.record_streak_y','profile.actual_streak_y',\n",
    "                                'stats_y','previousRank_y'], axis=1)"
   ]
  },
  {
   "cell_type": "code",
   "execution_count": 85,
   "metadata": {
    "scrolled": true
   },
   "outputs": [
    {
     "data": {
      "text/html": [
       "<div>\n",
       "<style scoped>\n",
       "    .dataframe tbody tr th:only-of-type {\n",
       "        vertical-align: middle;\n",
       "    }\n",
       "\n",
       "    .dataframe tbody tr th {\n",
       "        vertical-align: top;\n",
       "    }\n",
       "\n",
       "    .dataframe thead th {\n",
       "        text-align: right;\n",
       "    }\n",
       "</style>\n",
       "<table border=\"1\" class=\"dataframe\">\n",
       "  <thead>\n",
       "    <tr style=\"text-align: right;\">\n",
       "      <th></th>\n",
       "      <th>profile.active_x</th>\n",
       "      <th>profile.interested_in_x</th>\n",
       "      <th>profile.age_x</th>\n",
       "      <th>profile.type_x</th>\n",
       "      <th>profile.pos.coordinates_x</th>\n",
       "      <th>profile.fromInstagram_x</th>\n",
       "      <th>profile.fromFacebook_x</th>\n",
       "      <th>profile.unirace_x</th>\n",
       "      <th>profile.purchased_x</th>\n",
       "      <th>profile.subscription_x</th>\n",
       "      <th>...</th>\n",
       "      <th>profile.boosted_y</th>\n",
       "      <th>profile.lang_y</th>\n",
       "      <th>firstSeen_y</th>\n",
       "      <th>lastLogin_y</th>\n",
       "      <th>score_y</th>\n",
       "      <th>votes_given_y</th>\n",
       "      <th>push.enable_y</th>\n",
       "      <th>uninstalled_y</th>\n",
       "      <th>powerVotes_y</th>\n",
       "      <th>profile.genders_y</th>\n",
       "    </tr>\n",
       "  </thead>\n",
       "  <tbody>\n",
       "    <tr>\n",
       "      <th>0</th>\n",
       "      <td>False</td>\n",
       "      <td>male</td>\n",
       "      <td>31.0</td>\n",
       "      <td>marry</td>\n",
       "      <td>[15.1774321,44.2340273]</td>\n",
       "      <td>True</td>\n",
       "      <td>True</td>\n",
       "      <td>True</td>\n",
       "      <td>True</td>\n",
       "      <td>True</td>\n",
       "      <td>...</td>\n",
       "      <td>False</td>\n",
       "      <td>0</td>\n",
       "      <td>2018-05-03 17:53:20</td>\n",
       "      <td>2019-01-29 21:43:04</td>\n",
       "      <td>25.0</td>\n",
       "      <td>1104.0</td>\n",
       "      <td>True</td>\n",
       "      <td>False</td>\n",
       "      <td>0.0</td>\n",
       "      <td>1.0</td>\n",
       "    </tr>\n",
       "    <tr>\n",
       "      <th>1</th>\n",
       "      <td>False</td>\n",
       "      <td>male</td>\n",
       "      <td>21.0</td>\n",
       "      <td>fuck</td>\n",
       "      <td>[-8.6440857,41.1542656]</td>\n",
       "      <td>True</td>\n",
       "      <td>True</td>\n",
       "      <td>True</td>\n",
       "      <td>True</td>\n",
       "      <td>True</td>\n",
       "      <td>...</td>\n",
       "      <td>False</td>\n",
       "      <td>0</td>\n",
       "      <td>2017-10-31 13:52:57</td>\n",
       "      <td>2018-06-03 13:52:16</td>\n",
       "      <td>25.0</td>\n",
       "      <td>411.0</td>\n",
       "      <td>True</td>\n",
       "      <td>True</td>\n",
       "      <td>3.0</td>\n",
       "      <td>1.0</td>\n",
       "    </tr>\n",
       "    <tr>\n",
       "      <th>2</th>\n",
       "      <td>True</td>\n",
       "      <td>0</td>\n",
       "      <td>0.0</td>\n",
       "      <td>0</td>\n",
       "      <td>0</td>\n",
       "      <td>True</td>\n",
       "      <td>True</td>\n",
       "      <td>True</td>\n",
       "      <td>True</td>\n",
       "      <td>True</td>\n",
       "      <td>...</td>\n",
       "      <td>True</td>\n",
       "      <td>0</td>\n",
       "      <td>2017-07-03 01:31:12</td>\n",
       "      <td>2017-07-11 02:27:58</td>\n",
       "      <td>0.0</td>\n",
       "      <td>342.0</td>\n",
       "      <td>True</td>\n",
       "      <td>True</td>\n",
       "      <td>3.0</td>\n",
       "      <td>1.0</td>\n",
       "    </tr>\n",
       "    <tr>\n",
       "      <th>3</th>\n",
       "      <td>False</td>\n",
       "      <td>female</td>\n",
       "      <td>24.0</td>\n",
       "      <td>marry</td>\n",
       "      <td>[0,0]</td>\n",
       "      <td>True</td>\n",
       "      <td>True</td>\n",
       "      <td>True</td>\n",
       "      <td>True</td>\n",
       "      <td>True</td>\n",
       "      <td>...</td>\n",
       "      <td>False</td>\n",
       "      <td>0</td>\n",
       "      <td>2019-03-26 14:42:21</td>\n",
       "      <td>2019-04-01 13:50:59</td>\n",
       "      <td>25.0</td>\n",
       "      <td>51.0</td>\n",
       "      <td>True</td>\n",
       "      <td>False</td>\n",
       "      <td>3.0</td>\n",
       "      <td>0.0</td>\n",
       "    </tr>\n",
       "    <tr>\n",
       "      <th>4</th>\n",
       "      <td>False</td>\n",
       "      <td>male</td>\n",
       "      <td>18.0</td>\n",
       "      <td>neutral</td>\n",
       "      <td>[-9.1390814,39.4100415]</td>\n",
       "      <td>True</td>\n",
       "      <td>True</td>\n",
       "      <td>True</td>\n",
       "      <td>True</td>\n",
       "      <td>True</td>\n",
       "      <td>...</td>\n",
       "      <td>False</td>\n",
       "      <td>0</td>\n",
       "      <td>2018-01-29 18:05:50</td>\n",
       "      <td>2018-02-22 02:01:31</td>\n",
       "      <td>25.0</td>\n",
       "      <td>1988.0</td>\n",
       "      <td>True</td>\n",
       "      <td>True</td>\n",
       "      <td>3.0</td>\n",
       "      <td>1.0</td>\n",
       "    </tr>\n",
       "  </tbody>\n",
       "</table>\n",
       "<p>5 rows × 40 columns</p>\n",
       "</div>"
      ],
      "text/plain": [
       "  profile.active_x profile.interested_in_x  profile.age_x profile.type_x  \\\n",
       "0            False                    male           31.0          marry   \n",
       "1            False                    male           21.0           fuck   \n",
       "2             True                       0            0.0              0   \n",
       "3            False                  female           24.0          marry   \n",
       "4            False                    male           18.0        neutral   \n",
       "\n",
       "  profile.pos.coordinates_x profile.fromInstagram_x profile.fromFacebook_x  \\\n",
       "0   [15.1774321,44.2340273]                    True                   True   \n",
       "1   [-8.6440857,41.1542656]                    True                   True   \n",
       "2                         0                    True                   True   \n",
       "3                     [0,0]                    True                   True   \n",
       "4   [-9.1390814,39.4100415]                    True                   True   \n",
       "\n",
       "  profile.unirace_x profile.purchased_x profile.subscription_x  ...  \\\n",
       "0              True                True                   True  ...   \n",
       "1              True                True                   True  ...   \n",
       "2              True                True                   True  ...   \n",
       "3              True                True                   True  ...   \n",
       "4              True                True                   True  ...   \n",
       "\n",
       "  profile.boosted_y profile.lang_y         firstSeen_y         lastLogin_y  \\\n",
       "0             False              0 2018-05-03 17:53:20 2019-01-29 21:43:04   \n",
       "1             False              0 2017-10-31 13:52:57 2018-06-03 13:52:16   \n",
       "2              True              0 2017-07-03 01:31:12 2017-07-11 02:27:58   \n",
       "3             False              0 2019-03-26 14:42:21 2019-04-01 13:50:59   \n",
       "4             False              0 2018-01-29 18:05:50 2018-02-22 02:01:31   \n",
       "\n",
       "   score_y  votes_given_y push.enable_y uninstalled_y  powerVotes_y  \\\n",
       "0     25.0         1104.0          True         False           0.0   \n",
       "1     25.0          411.0          True          True           3.0   \n",
       "2      0.0          342.0          True          True           3.0   \n",
       "3     25.0           51.0          True         False           3.0   \n",
       "4     25.0         1988.0          True          True           3.0   \n",
       "\n",
       "   profile.genders_y  \n",
       "0                1.0  \n",
       "1                1.0  \n",
       "2                1.0  \n",
       "3                0.0  \n",
       "4                1.0  \n",
       "\n",
       "[5 rows x 40 columns]"
      ]
     },
     "execution_count": 85,
     "metadata": {},
     "output_type": "execute_result"
    }
   ],
   "source": [
    "X.head()"
   ]
  },
  {
   "cell_type": "markdown",
   "metadata": {},
   "source": [
    "## Baseline model"
   ]
  },
  {
   "cell_type": "markdown",
   "metadata": {},
   "source": [
    "recommends 3 users randomly"
   ]
  },
  {
   "cell_type": "code",
   "execution_count": 314,
   "metadata": {},
   "outputs": [],
   "source": [
    "import random\n",
    "allcon = pd.read_pickle(\"dataset/clean_connections.pkl\")"
   ]
  },
  {
   "cell_type": "code",
   "execution_count": 315,
   "metadata": {},
   "outputs": [],
   "source": [
    "def random_connect_rec(user):\n",
    "    usercon = allcon[allcon['from']==user]\n",
    "    ran_user = random.sample(usercon['to'].unique().tolist(), k=3)\n",
    "    return(ran_user)"
   ]
  },
  {
   "cell_type": "code",
   "execution_count": 316,
   "metadata": {},
   "outputs": [
    {
     "data": {
      "text/plain": [
       "['ZgrGFfajY3avcMyB8', 'DTjMttT4z4vhikhk4', 'GASHHaP9RfE75FKEy']"
      ]
     },
     "execution_count": 316,
     "metadata": {},
     "output_type": "execute_result"
    }
   ],
   "source": [
    "random_connect_rec('baM9toF9tGmbYDmBn')"
   ]
  },
  {
   "cell_type": "markdown",
   "metadata": {},
   "source": [
    "## Calculate similarities"
   ]
  },
  {
   "cell_type": "markdown",
   "metadata": {},
   "source": [
    "### 1. content-filtering "
   ]
  },
  {
   "cell_type": "markdown",
   "metadata": {},
   "source": [
    "For each user, calculate the similarities between the user and people who have made connections with the user. \n",
    "\n",
    "Select 3 people with the highest similarity to the user to recommend."
   ]
  },
  {
   "cell_type": "markdown",
   "metadata": {},
   "source": [
    "First, calculate similarity only from profile information."
   ]
  },
  {
   "cell_type": "code",
   "execution_count": 288,
   "metadata": {},
   "outputs": [],
   "source": [
    "import warnings\n",
    "warnings.simplefilter(\"ignore\")"
   ]
  },
  {
   "cell_type": "markdown",
   "metadata": {},
   "source": [
    "Vectorize texts"
   ]
  },
  {
   "cell_type": "code",
   "execution_count": 8,
   "metadata": {},
   "outputs": [],
   "source": [
    "from sklearn.feature_extraction.text import TfidfVectorizer"
   ]
  },
  {
   "cell_type": "markdown",
   "metadata": {},
   "source": [
    "Remove stopwords"
   ]
  },
  {
   "cell_type": "code",
   "execution_count": 9,
   "metadata": {},
   "outputs": [
    {
     "data": {
      "text/plain": [
       "2690"
      ]
     },
     "execution_count": 9,
     "metadata": {},
     "output_type": "execute_result"
    }
   ],
   "source": [
    "import json\n",
    "\n",
    "stop_list = [\"en\", \"ru\", \"de\", \"pt\", \"es\"]\n",
    "stop = []\n",
    "for lan in stop_list:\n",
    "    with open(\"dataset/\" + lan + \".json\") as fname:\n",
    "        stop.append(json.load(fname))\n",
    "\n",
    "stopwords = []       \n",
    "for lan in stop:\n",
    "    for word in lan:\n",
    "        stopwords.append(word)\n",
    "        \n",
    "len(stopwords)"
   ]
  },
  {
   "cell_type": "code",
   "execution_count": 235,
   "metadata": {},
   "outputs": [],
   "source": [
    "vectorizer = TfidfVectorizer(stop_words=stopwords, strip_accents = 'unicode')"
   ]
  },
  {
   "cell_type": "code",
   "execution_count": 6,
   "metadata": {},
   "outputs": [],
   "source": [
    "con_user = pd.read_pickle('dataset/con_user.pkl')"
   ]
  },
  {
   "cell_type": "code",
   "execution_count": 11,
   "metadata": {
    "collapsed": true
   },
   "outputs": [
    {
     "ename": "NameError",
     "evalue": "name 'missing_values_df' is not defined",
     "output_type": "error",
     "traceback": [
      "\u001b[0;31m---------------------------------------------------------------------------\u001b[0m",
      "\u001b[0;31mNameError\u001b[0m                                 Traceback (most recent call last)",
      "\u001b[0;32m<ipython-input-11-b327325d688a>\u001b[0m in \u001b[0;36m<module>\u001b[0;34m\u001b[0m\n\u001b[1;32m      1\u001b[0m \u001b[0mn_records\u001b[0m \u001b[0;34m=\u001b[0m \u001b[0mlen\u001b[0m\u001b[0;34m(\u001b[0m\u001b[0mcon_user\u001b[0m\u001b[0;34m)\u001b[0m\u001b[0;34m\u001b[0m\u001b[0;34m\u001b[0m\u001b[0m\n\u001b[0;32m----> 2\u001b[0;31m \u001b[0mmissing_values_df\u001b[0m\u001b[0;34m(\u001b[0m\u001b[0mcon_user\u001b[0m\u001b[0;34m)\u001b[0m\u001b[0;34m\u001b[0m\u001b[0;34m\u001b[0m\u001b[0m\n\u001b[0m",
      "\u001b[0;31mNameError\u001b[0m: name 'missing_values_df' is not defined"
     ]
    }
   ],
   "source": [
    "n_records = len(con_user)\n",
    "missing_values_df(con_user)"
   ]
  },
  {
   "cell_type": "code",
   "execution_count": null,
   "metadata": {
    "scrolled": true
   },
   "outputs": [],
   "source": [
    "## would have a merged dataset 'con_user' with all connections and user information merged\n",
    "\n",
    "vectorized_text = vectorizer.fit_transform(con_user['profile.about']).toarray()\n",
    "vectorized_text.shape"
   ]
  },
  {
   "cell_type": "code",
   "execution_count": 287,
   "metadata": {
    "scrolled": false
   },
   "outputs": [
    {
     "data": {
      "text/plain": [
       "['01', '10', '13', '15', '16', '165', '18', '183', '186', '188']"
      ]
     },
     "execution_count": 287,
     "metadata": {},
     "output_type": "execute_result"
    }
   ],
   "source": [
    "users_text_processed = pd.DataFrame(vectorized_text,\n",
    "                                  columns=vectorizer.get_feature_names())\n",
    "users_text_processed.columns.tolist()[:10]"
   ]
  },
  {
   "cell_type": "code",
   "execution_count": 278,
   "metadata": {},
   "outputs": [
    {
     "data": {
      "text/plain": [
       "array([[0., 0., 0., ..., 0., 0., 0.]])"
      ]
     },
     "execution_count": 278,
     "metadata": {},
     "output_type": "execute_result"
    }
   ],
   "source": [
    "np.array(pd.DataFrame(users_text_processed.iloc[0]).T)"
   ]
  },
  {
   "cell_type": "markdown",
   "metadata": {},
   "source": [
    "Concatenate vectorized text to the users"
   ]
  },
  {
   "cell_type": "code",
   "execution_count": 352,
   "metadata": {},
   "outputs": [
    {
     "ename": "KeyboardInterrupt",
     "evalue": "",
     "output_type": "error",
     "traceback": [
      "\u001b[0;31m---------------------------------------------------------------------------\u001b[0m",
      "\u001b[0;31mKeyboardInterrupt\u001b[0m                         Traceback (most recent call last)",
      "\u001b[0;32m<ipython-input-352-c1573858856a>\u001b[0m in \u001b[0;36m<module>\u001b[0;34m\u001b[0m\n\u001b[0;32m----> 1\u001b[0;31m \u001b[0muser_profile\u001b[0m \u001b[0;34m=\u001b[0m \u001b[0mpd\u001b[0m\u001b[0;34m.\u001b[0m\u001b[0mconcat\u001b[0m\u001b[0;34m(\u001b[0m\u001b[0;34m[\u001b[0m\u001b[0mcon_user\u001b[0m\u001b[0;34m[\u001b[0m\u001b[0;34m[\u001b[0m\u001b[0;34m'from'\u001b[0m\u001b[0;34m,\u001b[0m \u001b[0;34m'to'\u001b[0m\u001b[0;34m]\u001b[0m\u001b[0;34m]\u001b[0m\u001b[0;34m,\u001b[0m \u001b[0musers_text_processed\u001b[0m\u001b[0;34m]\u001b[0m\u001b[0;34m,\u001b[0m \u001b[0maxis\u001b[0m\u001b[0;34m=\u001b[0m\u001b[0;36m1\u001b[0m\u001b[0;34m)\u001b[0m\u001b[0;34m\u001b[0m\u001b[0;34m\u001b[0m\u001b[0m\n\u001b[0m",
      "\u001b[0;32m~/anaconda3/lib/python3.7/site-packages/pandas/core/frame.py\u001b[0m in \u001b[0;36m__getitem__\u001b[0;34m(self, key)\u001b[0m\n\u001b[1;32m   2938\u001b[0m             \u001b[0mindexer\u001b[0m \u001b[0;34m=\u001b[0m \u001b[0mnp\u001b[0m\u001b[0;34m.\u001b[0m\u001b[0mwhere\u001b[0m\u001b[0;34m(\u001b[0m\u001b[0mindexer\u001b[0m\u001b[0;34m)\u001b[0m\u001b[0;34m[\u001b[0m\u001b[0;36m0\u001b[0m\u001b[0;34m]\u001b[0m\u001b[0;34m\u001b[0m\u001b[0;34m\u001b[0m\u001b[0m\n\u001b[1;32m   2939\u001b[0m \u001b[0;34m\u001b[0m\u001b[0m\n\u001b[0;32m-> 2940\u001b[0;31m         \u001b[0mdata\u001b[0m \u001b[0;34m=\u001b[0m \u001b[0mself\u001b[0m\u001b[0;34m.\u001b[0m\u001b[0m_take\u001b[0m\u001b[0;34m(\u001b[0m\u001b[0mindexer\u001b[0m\u001b[0;34m,\u001b[0m \u001b[0maxis\u001b[0m\u001b[0;34m=\u001b[0m\u001b[0;36m1\u001b[0m\u001b[0;34m)\u001b[0m\u001b[0;34m\u001b[0m\u001b[0;34m\u001b[0m\u001b[0m\n\u001b[0m\u001b[1;32m   2941\u001b[0m \u001b[0;34m\u001b[0m\u001b[0m\n\u001b[1;32m   2942\u001b[0m         \u001b[0;32mif\u001b[0m \u001b[0mis_single_key\u001b[0m\u001b[0;34m:\u001b[0m\u001b[0;34m\u001b[0m\u001b[0;34m\u001b[0m\u001b[0m\n",
      "\u001b[0;32m~/anaconda3/lib/python3.7/site-packages/pandas/core/generic.py\u001b[0m in \u001b[0;36m_take\u001b[0;34m(self, indices, axis, is_copy)\u001b[0m\n\u001b[1;32m   3357\u001b[0m         new_data = self._data.take(indices,\n\u001b[1;32m   3358\u001b[0m                                    \u001b[0maxis\u001b[0m\u001b[0;34m=\u001b[0m\u001b[0mself\u001b[0m\u001b[0;34m.\u001b[0m\u001b[0m_get_block_manager_axis\u001b[0m\u001b[0;34m(\u001b[0m\u001b[0maxis\u001b[0m\u001b[0;34m)\u001b[0m\u001b[0;34m,\u001b[0m\u001b[0;34m\u001b[0m\u001b[0;34m\u001b[0m\u001b[0m\n\u001b[0;32m-> 3359\u001b[0;31m                                    verify=True)\n\u001b[0m\u001b[1;32m   3360\u001b[0m         \u001b[0mresult\u001b[0m \u001b[0;34m=\u001b[0m \u001b[0mself\u001b[0m\u001b[0;34m.\u001b[0m\u001b[0m_constructor\u001b[0m\u001b[0;34m(\u001b[0m\u001b[0mnew_data\u001b[0m\u001b[0;34m)\u001b[0m\u001b[0;34m.\u001b[0m\u001b[0m__finalize__\u001b[0m\u001b[0;34m(\u001b[0m\u001b[0mself\u001b[0m\u001b[0;34m)\u001b[0m\u001b[0;34m\u001b[0m\u001b[0;34m\u001b[0m\u001b[0m\n\u001b[1;32m   3361\u001b[0m \u001b[0;34m\u001b[0m\u001b[0m\n",
      "\u001b[0;32m~/anaconda3/lib/python3.7/site-packages/pandas/core/internals/managers.py\u001b[0m in \u001b[0;36mtake\u001b[0;34m(self, indexer, axis, verify, convert)\u001b[0m\n\u001b[1;32m   1348\u001b[0m         \u001b[0mnew_labels\u001b[0m \u001b[0;34m=\u001b[0m \u001b[0mself\u001b[0m\u001b[0;34m.\u001b[0m\u001b[0maxes\u001b[0m\u001b[0;34m[\u001b[0m\u001b[0maxis\u001b[0m\u001b[0;34m]\u001b[0m\u001b[0;34m.\u001b[0m\u001b[0mtake\u001b[0m\u001b[0;34m(\u001b[0m\u001b[0mindexer\u001b[0m\u001b[0;34m)\u001b[0m\u001b[0;34m\u001b[0m\u001b[0;34m\u001b[0m\u001b[0m\n\u001b[1;32m   1349\u001b[0m         return self.reindex_indexer(new_axis=new_labels, indexer=indexer,\n\u001b[0;32m-> 1350\u001b[0;31m                                     axis=axis, allow_dups=True)\n\u001b[0m\u001b[1;32m   1351\u001b[0m \u001b[0;34m\u001b[0m\u001b[0m\n\u001b[1;32m   1352\u001b[0m     \u001b[0;32mdef\u001b[0m \u001b[0mmerge\u001b[0m\u001b[0;34m(\u001b[0m\u001b[0mself\u001b[0m\u001b[0;34m,\u001b[0m \u001b[0mother\u001b[0m\u001b[0;34m,\u001b[0m \u001b[0mlsuffix\u001b[0m\u001b[0;34m=\u001b[0m\u001b[0;34m''\u001b[0m\u001b[0;34m,\u001b[0m \u001b[0mrsuffix\u001b[0m\u001b[0;34m=\u001b[0m\u001b[0;34m''\u001b[0m\u001b[0;34m)\u001b[0m\u001b[0;34m:\u001b[0m\u001b[0;34m\u001b[0m\u001b[0;34m\u001b[0m\u001b[0m\n",
      "\u001b[0;32m~/anaconda3/lib/python3.7/site-packages/pandas/core/internals/managers.py\u001b[0m in \u001b[0;36mreindex_indexer\u001b[0;34m(self, new_axis, indexer, axis, fill_value, allow_dups, copy)\u001b[0m\n\u001b[1;32m   1229\u001b[0m         \u001b[0;32mif\u001b[0m \u001b[0maxis\u001b[0m \u001b[0;34m==\u001b[0m \u001b[0;36m0\u001b[0m\u001b[0;34m:\u001b[0m\u001b[0;34m\u001b[0m\u001b[0;34m\u001b[0m\u001b[0m\n\u001b[1;32m   1230\u001b[0m             new_blocks = self._slice_take_blocks_ax0(indexer,\n\u001b[0;32m-> 1231\u001b[0;31m                                                      fill_tuple=(fill_value,))\n\u001b[0m\u001b[1;32m   1232\u001b[0m         \u001b[0;32melse\u001b[0m\u001b[0;34m:\u001b[0m\u001b[0;34m\u001b[0m\u001b[0;34m\u001b[0m\u001b[0m\n\u001b[1;32m   1233\u001b[0m             new_blocks = [blk.take_nd(indexer, axis=axis, fill_tuple=(\n",
      "\u001b[0;32m~/anaconda3/lib/python3.7/site-packages/pandas/core/internals/managers.py\u001b[0m in \u001b[0;36m_slice_take_blocks_ax0\u001b[0;34m(self, slice_or_indexer, fill_tuple)\u001b[0m\n\u001b[1;32m   1310\u001b[0m                     blocks.append(blk.take_nd(blklocs[mgr_locs.indexer],\n\u001b[1;32m   1311\u001b[0m                                               \u001b[0maxis\u001b[0m\u001b[0;34m=\u001b[0m\u001b[0;36m0\u001b[0m\u001b[0;34m,\u001b[0m \u001b[0mnew_mgr_locs\u001b[0m\u001b[0;34m=\u001b[0m\u001b[0mmgr_locs\u001b[0m\u001b[0;34m,\u001b[0m\u001b[0;34m\u001b[0m\u001b[0;34m\u001b[0m\u001b[0m\n\u001b[0;32m-> 1312\u001b[0;31m                                               fill_tuple=None))\n\u001b[0m\u001b[1;32m   1313\u001b[0m \u001b[0;34m\u001b[0m\u001b[0m\n\u001b[1;32m   1314\u001b[0m         \u001b[0;32mreturn\u001b[0m \u001b[0mblocks\u001b[0m\u001b[0;34m\u001b[0m\u001b[0;34m\u001b[0m\u001b[0m\n",
      "\u001b[0;32m~/anaconda3/lib/python3.7/site-packages/pandas/core/internals/blocks.py\u001b[0m in \u001b[0;36mtake_nd\u001b[0;34m(self, indexer, axis, new_mgr_locs, fill_tuple)\u001b[0m\n\u001b[1;32m   1232\u001b[0m             \u001b[0mfill_value\u001b[0m \u001b[0;34m=\u001b[0m \u001b[0mself\u001b[0m\u001b[0;34m.\u001b[0m\u001b[0mfill_value\u001b[0m\u001b[0;34m\u001b[0m\u001b[0;34m\u001b[0m\u001b[0m\n\u001b[1;32m   1233\u001b[0m             new_values = algos.take_nd(values, indexer, axis=axis,\n\u001b[0;32m-> 1234\u001b[0;31m                                        allow_fill=False, fill_value=fill_value)\n\u001b[0m\u001b[1;32m   1235\u001b[0m         \u001b[0;32melse\u001b[0m\u001b[0;34m:\u001b[0m\u001b[0;34m\u001b[0m\u001b[0;34m\u001b[0m\u001b[0m\n\u001b[1;32m   1236\u001b[0m             \u001b[0mfill_value\u001b[0m \u001b[0;34m=\u001b[0m \u001b[0mfill_tuple\u001b[0m\u001b[0;34m[\u001b[0m\u001b[0;36m0\u001b[0m\u001b[0;34m]\u001b[0m\u001b[0;34m\u001b[0m\u001b[0;34m\u001b[0m\u001b[0m\n",
      "\u001b[0;32m~/anaconda3/lib/python3.7/site-packages/pandas/core/algorithms.py\u001b[0m in \u001b[0;36mtake_nd\u001b[0;34m(arr, indexer, axis, out, fill_value, mask_info, allow_fill)\u001b[0m\n\u001b[1;32m   1653\u001b[0m     func = _get_take_nd_function(arr.ndim, arr.dtype, out.dtype, axis=axis,\n\u001b[1;32m   1654\u001b[0m                                  mask_info=mask_info)\n\u001b[0;32m-> 1655\u001b[0;31m     \u001b[0mfunc\u001b[0m\u001b[0;34m(\u001b[0m\u001b[0marr\u001b[0m\u001b[0;34m,\u001b[0m \u001b[0mindexer\u001b[0m\u001b[0;34m,\u001b[0m \u001b[0mout\u001b[0m\u001b[0;34m,\u001b[0m \u001b[0mfill_value\u001b[0m\u001b[0;34m)\u001b[0m\u001b[0;34m\u001b[0m\u001b[0;34m\u001b[0m\u001b[0m\n\u001b[0m\u001b[1;32m   1656\u001b[0m \u001b[0;34m\u001b[0m\u001b[0m\n\u001b[1;32m   1657\u001b[0m     \u001b[0;32mif\u001b[0m \u001b[0mflip_order\u001b[0m\u001b[0;34m:\u001b[0m\u001b[0;34m\u001b[0m\u001b[0;34m\u001b[0m\u001b[0m\n",
      "\u001b[0;31mKeyboardInterrupt\u001b[0m: "
     ]
    }
   ],
   "source": [
    "user_profile = pd.concat([con_user[['from', 'to']], users_text_processed], axis=1)"
   ]
  },
  {
   "cell_type": "markdown",
   "metadata": {},
   "source": [
    "Calculate cosine similarity"
   ]
  },
  {
   "cell_type": "code",
   "execution_count": 75,
   "metadata": {},
   "outputs": [],
   "source": [
    "import faiss\n",
    "import numpy as np\n",
    "import sklearn.preprocessing "
   ]
  },
  {
   "cell_type": "code",
   "execution_count": 310,
   "metadata": {},
   "outputs": [],
   "source": [
    "def get_profile_vec(user, item_list):\n",
    "    user_ls = []\n",
    "    user_array = []\n",
    "    item_list.insert(0, user)\n",
    "    for user in item_list:\n",
    "        if user in users['_id'].tolist():\n",
    "            user_ls.append(users[users['_id']==user]['profile.about'].tolist())\n",
    "    for ls in user_ls:\n",
    "        for pro in ls:\n",
    "            user_array.append(pro)\n",
    "    user_array = pd.Series(user_array)\n",
    "    \n",
    "    # check if the vocabulary is empty (profile information for everyone is missing)\n",
    "    empty = sum(user_array=='')\n",
    "    if empty != len(user_array): \n",
    "    # vectorize text\n",
    "        vectorizer = TfidfVectorizer(stop_words=stopwords, strip_accents = 'unicode', max_features = 100)\n",
    "        vectorized_text = vectorizer.fit_transform(user_array).toarray()\n",
    "        users_text_processed = pd.DataFrame(vectorized_text,\n",
    "                                      columns=vectorizer.get_feature_names())\n",
    "        user_pro = pd.DataFrame(users_text_processed.iloc[0]).T\n",
    "        item_pro = users_text_processed.iloc[1:]\n",
    "        return(user_pro, item_pro)\n",
    "    else:\n",
    "        return([],[])"
   ]
  },
  {
   "cell_type": "code",
   "execution_count": 213,
   "metadata": {},
   "outputs": [],
   "source": [
    "import random"
   ]
  },
  {
   "cell_type": "code",
   "execution_count": 311,
   "metadata": {
    "scrolled": true
   },
   "outputs": [],
   "source": [
    "\n",
    "#for user in user_profile['from'].unique().tolist():\n",
    "def sim_user(user):\n",
    "    \n",
    "    # calculate similarity score between user and those who the user has made connections with \n",
    "    # rank people based on similarity scores (descending) and recommend 3 highest one\n",
    "    # xq contains user information \n",
    "    # xb contains item information\n",
    "    # use cosine similarity \n",
    "    \n",
    "    #xq = user_profile[user_profile['from']==user].drop(['from', 'to'], axis=1)\n",
    "    grouped = user_profile.groupby(['from', 'to'], as_index=False).sum()\n",
    "    user_list = grouped[grouped['from']==user]['to'].tolist()\n",
    "    xq, xb = get_profile_vec(user, user_list)\n",
    "    \n",
    "    xq = np.array(xq).astype('float32')\n",
    "    \n",
    "    # reassign 'user_list' because the user himself was added to the list\n",
    "    user_list = grouped[grouped['from']==user]['to'].tolist()\n",
    "        \n",
    "    # make sure vocabulary is not empty    \n",
    "    if len(xb) > 0:  \n",
    "        xb = np.ascontiguousarray(xb.to_numpy()).astype('float32')\n",
    "        d = xq.shape[1]\n",
    "\n",
    "        # normalize vectors\n",
    "        xb = sklearn.preprocessing.normalize(xb, axis=1)\n",
    "\n",
    "        # build index\n",
    "        index = faiss.IndexFlatIP(d)\n",
    "\n",
    "        # add vectors to index\n",
    "        index.add(xb)\n",
    "\n",
    "        # search k nearest neighbors\n",
    "        k = min(index.ntotal, 3)\n",
    "        D, I = index.search(xq, k)\n",
    "        \n",
    "        # I should have size (1,k), with numbers representing the index of people in 'user_list'\n",
    "        # D should have size (1,k), with numbers representing the similarity scores\n",
    "        \n",
    "        # Find according 'item' names\n",
    "        recommend = []\n",
    "        for ls in I:\n",
    "            for i in ls:\n",
    "                recommend.append(user_list[i]) \n",
    "        return(recommend)\n",
    "    else:\n",
    "        print('No profile information available, recommending people at random:')\n",
    "        rand_rec = random.sample(user_list, min(len(user_list), 3))\n",
    "        return(rand_rec)\n",
    "        "
   ]
  },
  {
   "cell_type": "code",
   "execution_count": 192,
   "metadata": {},
   "outputs": [],
   "source": [
    "sklearn.preprocessing.normalize?"
   ]
  },
  {
   "cell_type": "code",
   "execution_count": 327,
   "metadata": {
    "scrolled": true
   },
   "outputs": [
    {
     "data": {
      "text/plain": [
       "['4BrfJnjmcwa3726Js', 'ShPZw3mFeoRnAZfFb', 'JzSwHCYMXSfKHDR2i']"
      ]
     },
     "execution_count": 327,
     "metadata": {},
     "output_type": "execute_result"
    }
   ],
   "source": [
    "sim_user('zkPez7FYZATgmPrdo')"
   ]
  },
  {
   "cell_type": "code",
   "execution_count": 313,
   "metadata": {},
   "outputs": [
    {
     "name": "stdout",
     "output_type": "stream",
     "text": [
      "No profile information available, recommending people at random:\n"
     ]
    },
    {
     "data": {
      "text/plain": [
       "['5KD8WQtgMhHxekY6S', 'JpoGM6HBLDgchFB75']"
      ]
     },
     "execution_count": 313,
     "metadata": {},
     "output_type": "execute_result"
    }
   ],
   "source": [
    "sim_user('zKi9fwcywtzemKAjy')"
   ]
  },
  {
   "cell_type": "code",
   "execution_count": null,
   "metadata": {},
   "outputs": [],
   "source": []
  },
  {
   "cell_type": "markdown",
   "metadata": {},
   "source": [
    "### 2. collaborative filtering"
   ]
  },
  {
   "cell_type": "markdown",
   "metadata": {},
   "source": [
    "In order to recommend, we calculate for each candidate the average similarity between the candidate and those who have matched with the user. The user with the highest average similarity should be recommended."
   ]
  },
  {
   "cell_type": "code",
   "execution_count": null,
   "metadata": {},
   "outputs": [],
   "source": []
  }
 ],
 "metadata": {
  "kernelspec": {
   "display_name": "Python 3",
   "language": "python",
   "name": "python3"
  },
  "language_info": {
   "codemirror_mode": {
    "name": "ipython",
    "version": 3
   },
   "file_extension": ".py",
   "mimetype": "text/x-python",
   "name": "python",
   "nbconvert_exporter": "python",
   "pygments_lexer": "ipython3",
   "version": "3.7.3"
  }
 },
 "nbformat": 4,
 "nbformat_minor": 2
}
